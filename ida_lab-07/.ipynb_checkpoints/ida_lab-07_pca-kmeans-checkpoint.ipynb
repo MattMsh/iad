{
 "cells": [
  {
   "cell_type": "markdown",
   "metadata": {
    "id": "MRKNQFtpzd4H"
   },
   "source": [
    "<h1><center>Лабораторна робота 7.</center></h1>\n",
    "<h2><center>Аналіз активності людини за відкритими даними мобільних телефонів</center></h2>"
   ]
  },
  {
   "cell_type": "markdown",
   "metadata": {
    "id": "0_MLXDj-zd4J"
   },
   "source": [
    "**Виконав:** Машталяр М.Б.\n",
    "\n",
    "**Варіант:** №14"
   ]
  },
  {
   "cell_type": "markdown",
   "metadata": {
    "id": "8MBAQNCozd4J"
   },
   "source": [
    "<a class=\"anchor\" id=\"lab-7\"></a>"
   ]
  },
  {
   "cell_type": "markdown",
   "metadata": {
    "id": "-V9b0CM4zd4K"
   },
   "source": [
    "## Зміст\n",
    "\n",
    "- [7.1. Завантаження та підготовка даних](#lab-7.1)\n",
    "- [7.2. Застосування методу головних компонент](#lab-7.2)  \n",
    "- [7.3. Застосування *k*-means](#lab-7.3)\n",
    "- [7.4. Агломератична кластеризація](#lab-7.4)\n",
    "- [7.5. Застосування класифікатора після кластеризації](#lab-7.5)\n",
    "- [7.6. Кластеризація із методом головних компонент](#lab-7.6)"
   ]
  },
  {
   "cell_type": "markdown",
   "metadata": {
    "id": "fiFUIFP0zd4K"
   },
   "source": [
    "<a class=\"anchor\" id=\"lab-7.1\"></a>"
   ]
  },
  {
   "cell_type": "markdown",
   "metadata": {
    "id": "lOSYX2TEzd4K"
   },
   "source": [
    "## <span style=\"color:blue; font-size:1.2em;\">7.1. Завантаження та підготовка даних</span>\n",
    "\n",
    "[Повернутися до змісту](#lab-7)"
   ]
  },
  {
   "cell_type": "markdown",
   "metadata": {
    "id": "lY0KPEKxzd4K"
   },
   "source": [
    "У цій лабораторній робота Вам потрібно розібратися з тим, як працюють методи пониження розмірності й кластеризації даних. Крім того, ще раз попрактикуємося із задачею класифікації.\n",
    "\n",
    "Тут ми працюватимемо з набором даних [Samsung Human Activity Recognition](https://archive.ics.uci.edu/ml/datasets/Human+Activity+Recognition+Using+Smartphones). Завантажте дані з [репозиторію](https://github.com/radiukpavlo/intelligent-data-analysis/blob/main/02_assignments/ida_lab-07_pca-kmeans/samsung_HAR.zip) на GitHub.\n",
    "\n",
    "Дані взято з акселерометрів і гіроскопів мобільних телефонів Samsung Galaxy S3 (докладніше щодо ознак – за посиланням на UCI вище), також відомий вид активності людини з телефоном в кишені – чи ходила людина, стояла, лежала, сиділа або йшла вгору/вниз сходами.\n",
    "\n",
    "Спершу представимо, що вид активності нам невідомий, і спробуємо кластеризувати людей лише на основі наявних свідчень. Далі розв'яжемо завдання визначення виду фізичної активності саме як задачу класифікації."
   ]
  },
  {
   "cell_type": "code",
   "execution_count": 1,
   "metadata": {
    "colab": {
     "base_uri": "https://localhost:8080/"
    },
    "executionInfo": {
     "elapsed": 2410,
     "status": "ok",
     "timestamp": 1669230186591,
     "user": {
      "displayName": "Max Kazionov",
      "userId": "16209842548967371554"
     },
     "user_tz": -120
    },
    "id": "gTINLpLOzd4L",
    "outputId": "2a9cc41f-975d-4cc2-cec9-7651970c84c2",
    "tags": []
   },
   "outputs": [],
   "source": [
    "import os\n",
    "import numpy as np\n",
    "import pandas as pd\n",
    "import seaborn as sns\n",
    "from tqdm import notebook\n",
    "\n",
    "%matplotlib inline\n",
    "from matplotlib import pyplot as plt\n",
    "plt.style.use(['seaborn-darkgrid'])\n",
    "plt.rcParams['figure.figsize'] = (12, 9)\n",
    "plt.rcParams['font.family'] = 'DejaVu Sans'\n",
    "\n",
    "from sklearn import metrics\n",
    "from sklearn.cluster import KMeans, AgglomerativeClustering, SpectralClustering\n",
    "from sklearn.decomposition import PCA\n",
    "from sklearn.model_selection import GridSearchCV\n",
    "from sklearn.preprocessing import StandardScaler\n",
    "from sklearn.svm import LinearSVC\n",
    "\n",
    "RANDOM_STATE = 17"
   ]
  },
  {
   "cell_type": "code",
   "execution_count": 2,
   "metadata": {
    "id": "SmjBz8v5zd4M"
   },
   "outputs": [],
   "source": [
    "\n",
    "# Завантаження даних, якщо код пишеться в Google Colab\n",
    "\n",
    "# Підключаємо додаткові бібліотеки для під'єднання Google Colab до власного Googgle Drive\n",
    "# from google.colab import driv\n",
    "# drive.mount('/content/drive')\n",
    "\n",
    "# Текстові дані потрібно розмістити за наведеним нижче шляхом для кожного текстового файлу.\n",
    "# Можливо шлях зміниться, залежно від вашого робочого середовища.\n",
    "# X_train = np.loadtxt(\"/content/drive/MyDrive/Colab Notebooks/samsung_train.txt\")\n",
    "# y_train = np.loadtxt(\"/content/drive/MyDrive/Colab Notebooks/samsung_train_labels.txt\").astype(int)\n",
    "\n",
    "# X_test = np.loadtxt(\"/content/drive/MyDrive/Colab Notebooks/samsung_test.txt\")\n",
    "# y_test = np.loadtxt(\"/content/drive/MyDrive/Colab Notebooks/samsung_test_labels.txt\").astype(int)\n",
    "\n",
    "\n",
    "\n",
    "X_train = np.loadtxt(\"samsung_HAR/samsung_train.txt\")\n",
    "y_train = np.loadtxt(\"samsung_HAR/samsung_train_labels.txt\").astype(int)\n",
    "\n",
    "X_test = np.loadtxt(\"samsung_HAR/samsung_test.txt\")\n",
    "y_test = np.loadtxt(\"samsung_HAR/samsung_test_labels.txt\").astype(int)"
   ]
  },
  {
   "cell_type": "code",
   "execution_count": 3,
   "metadata": {
    "id": "DnckoAa_zd4N",
    "tags": []
   },
   "outputs": [],
   "source": [
    "# Перевіримо розмірності\n",
    "assert(X_train.shape == (7352, 561) and y_train.shape == (7352,))\n",
    "assert(X_test.shape == (2947, 561) and y_test.shape == (2947,))"
   ]
  },
  {
   "cell_type": "markdown",
   "metadata": {
    "id": "yCbNV9bdzd4N"
   },
   "source": [
    "Для кластеризації нам не потрібен вектор відповідей, тому будемо працювати з об'єднанням навчальної та тестової вибірок. Об'єднаємо `X_train` з `X_test` та `y_train` з `y_test`."
   ]
  },
  {
   "cell_type": "code",
   "execution_count": 4,
   "metadata": {
    "id": "KvR6PVQhzd4N",
    "tags": []
   },
   "outputs": [],
   "source": [
    "X = np.vstack([X_train, X_test])\n",
    "y = np.hstack([y_train, y_test])"
   ]
  },
  {
   "cell_type": "markdown",
   "metadata": {
    "id": "XNpsCD_4zd4N"
   },
   "source": [
    "Визначимо кількість унікальних значень міток цільового класу."
   ]
  },
  {
   "cell_type": "code",
   "execution_count": 5,
   "metadata": {
    "colab": {
     "base_uri": "https://localhost:8080/"
    },
    "executionInfo": {
     "elapsed": 4,
     "status": "ok",
     "timestamp": 1669229876373,
     "user": {
      "displayName": "Max Kazionov",
      "userId": "16209842548967371554"
     },
     "user_tz": -120
    },
    "id": "BgcpjfdNzd4N",
    "outputId": "ec226355-e24d-4e83-bd7a-bf810b01ad98"
   },
   "outputs": [
    {
     "data": {
      "text/plain": [
       "array([1, 2, 3, 4, 5, 6])"
      ]
     },
     "execution_count": 5,
     "metadata": {},
     "output_type": "execute_result"
    }
   ],
   "source": [
    "np.unique(y)"
   ]
  },
  {
   "cell_type": "code",
   "execution_count": 6,
   "metadata": {
    "colab": {
     "base_uri": "https://localhost:8080/"
    },
    "executionInfo": {
     "elapsed": 3,
     "status": "ok",
     "timestamp": 1669229878293,
     "user": {
      "displayName": "Max Kazionov",
      "userId": "16209842548967371554"
     },
     "user_tz": -120
    },
    "id": "HC3f82vBzd4N",
    "outputId": "7dc97e7b-ab57-4aa0-d159-696d11b838eb"
   },
   "outputs": [
    {
     "data": {
      "text/plain": [
       "6"
      ]
     },
     "execution_count": 6,
     "metadata": {},
     "output_type": "execute_result"
    }
   ],
   "source": [
    "n_classes = np.unique(y).size\n",
    "n_classes"
   ]
  },
  {
   "cell_type": "markdown",
   "metadata": {
    "id": "9X1lLu92zd4O"
   },
   "source": [
    "Ці мітки [відповідають](https://archive.ics.uci.edu/ml/machine-learning-databases/00240/UCI%20HAR%20Dataset.names) таким значенням:\n",
    "- 1 – ходьба;\n",
    "- 2 – підйом вгору сходами;\n",
    "- 3 – спуску вниз сходами;\n",
    "- 4 – сидіння;\n",
    "- 5 – стояння;\n",
    "- 6 – лежання."
   ]
  },
  {
   "cell_type": "markdown",
   "metadata": {
    "id": "fV5irZD7zd4O"
   },
   "source": [
    "Виконаємо масштабування вибірки за допомогою `StandardScaler` з параметрами за замовчуванням:"
   ]
  },
  {
   "cell_type": "code",
   "execution_count": 7,
   "metadata": {
    "id": "o4IUO_V4zd4O",
    "tags": []
   },
   "outputs": [],
   "source": [
    "scaler = StandardScaler()\n",
    "X_scaled = scaler.fit_transform(X)"
   ]
  },
  {
   "cell_type": "markdown",
   "metadata": {
    "id": "tuo8qsI0zd4O"
   },
   "source": [
    "------------------------"
   ]
  },
  {
   "cell_type": "markdown",
   "metadata": {
    "id": "LM073JzNzd4O"
   },
   "source": [
    "<a class=\"anchor\" id=\"lab-7.2\"></a>"
   ]
  },
  {
   "cell_type": "markdown",
   "metadata": {
    "id": "6oAG5Y1dzd4O"
   },
   "source": [
    "## <span style=\"color:blue; font-size:1.2em;\">7.2. Застосування методу головних компонент</span>\n",
    "\n",
    "[Повернутися до змісту](#lab-7)"
   ]
  },
  {
   "cell_type": "markdown",
   "metadata": {
    "id": "WkX4d0cUzd4O"
   },
   "source": [
    "Виконайте зниження розмірності даних за допомогою PCA. Залишіть таку кількість компонент, щоби пояснити як мінімум 90% дисперсії оброблених (масштабованих) даних. Використовуйте масштабовану вибірку й зафіксуйте random_state (константа RANDOM_STATE)."
   ]
  },
  {
   "cell_type": "code",
   "execution_count": 8,
   "metadata": {
    "id": "13ifehRXzd4O",
    "tags": []
   },
   "outputs": [],
   "source": [
    "# Ваш код тут\n",
    "pca = PCA(n_components=0.9, random_state=RANDOM_STATE).fit(X_scaled)\n",
    "X_pca = pca.transform(X_scaled)"
   ]
  },
  {
   "cell_type": "code",
   "execution_count": 9,
   "metadata": {
    "colab": {
     "base_uri": "https://localhost:8080/"
    },
    "executionInfo": {
     "elapsed": 5,
     "status": "ok",
     "timestamp": 1669229899828,
     "user": {
      "displayName": "Max Kazionov",
      "userId": "16209842548967371554"
     },
     "user_tz": -120
    },
    "id": "666XQsOwzd4O",
    "outputId": "30e79f2d-047c-41fd-be80-35ec833b8f65"
   },
   "outputs": [
    {
     "data": {
      "text/plain": [
       "(10299, 65)"
      ]
     },
     "execution_count": 9,
     "metadata": {},
     "output_type": "execute_result"
    }
   ],
   "source": [
    "# Переглядаємо кількість компонент\n",
    "X_pca.shape"
   ]
  },
  {
   "cell_type": "markdown",
   "metadata": {
    "id": "mgq5ucD2zd4O"
   },
   "source": [
    "### <span style=\"color:red; font-size:1.5em;\">Завдання 1</span>\n",
    "\n",
    "\n",
    "\n",
    "**Для варіантів 11-15:**\n",
    "\n",
    "Скільки відсотків дисперсії припадає на першу головну компоненту? Використайте метод `explained_variance_ratio_`. Результат округліть до сотих.\n"
   ]
  },
  {
   "cell_type": "code",
   "execution_count": 10,
   "metadata": {
    "colab": {
     "base_uri": "https://localhost:8080/"
    },
    "executionInfo": {
     "elapsed": 6,
     "status": "ok",
     "timestamp": 1669230073420,
     "user": {
      "displayName": "Max Kazionov",
      "userId": "16209842548967371554"
     },
     "user_tz": -120
    },
    "id": "mNfkvxpV3Sn9",
    "outputId": "9b8eb0ee-b8f6-4241-a658-70f6a86815e3"
   },
   "outputs": [
    {
     "data": {
      "text/plain": [
       "0.51"
      ]
     },
     "execution_count": 10,
     "metadata": {},
     "output_type": "execute_result"
    }
   ],
   "source": [
    "round(pca.explained_variance_ratio_[0], 2)"
   ]
  },
  {
   "cell_type": "markdown",
   "metadata": {
    "id": "ZxZXK126zd4O"
   },
   "source": [
    "### <span style=\"color:red; font-size:1.5em;\">Додаткове завдання</span>\n",
    "\n",
    "**Для всіх варіантів:**\n",
    "\n",
    "Відобразіть дані в проекції на перші дві головні компоненти. Для візуалізації використайте `plt.scatter()`. \n",
    "\n",
    "Якщо візуалізацію виконано правильно, Ви побачите скільки-то кластерів, майже ідеально відокремлених один від одного. Які види активності входять в ці кластери?"
   ]
  },
  {
   "cell_type": "code",
   "execution_count": 11,
   "metadata": {
    "colab": {
     "base_uri": "https://localhost:8080/",
     "height": 534
    },
    "executionInfo": {
     "elapsed": 2929,
     "status": "ok",
     "timestamp": 1669229925496,
     "user": {
      "displayName": "Max Kazionov",
      "userId": "16209842548967371554"
     },
     "user_tz": -120
    },
    "id": "3m4-BQbX2z1G",
    "outputId": "01ae4f72-6469-4393-d417-5ee78cce8b92"
   },
   "outputs": [
    {
     "data": {
      "image/png": "[encoded data removed]",
      "text/plain": [
       "<Figure size 864x648 with 1 Axes>"
      ]
     },
     "metadata": {},
     "output_type": "display_data"
    }
   ],
   "source": [
    "plt.scatter(X_pca[:, 0], X_pca[:, 1], c=y, s=20, cmap='viridis');"
   ]
  },
  {
   "cell_type": "markdown",
   "metadata": {
    "id": "VhoW9gp1zd4P"
   },
   "source": [
    "------------------------"
   ]
  },
  {
   "cell_type": "markdown",
   "metadata": {
    "id": "ijjCThZ3zd4P"
   },
   "source": [
    "<a class=\"anchor\" id=\"lab-7.3\"></a>"
   ]
  },
  {
   "cell_type": "markdown",
   "metadata": {
    "id": "S3MPbjmGzd4P"
   },
   "source": [
    "## <span style=\"color:blue; font-size:1.2em;\">7.3. Застосування *k*-means</span>\n",
    "\n",
    "[Повернутися до змісту](#lab-7)"
   ]
  },
  {
   "cell_type": "markdown",
   "metadata": {
    "id": "T7R8Y-CSzd4P"
   },
   "source": [
    "Виконайте кластеризацію даних методом `MiniBatchKmeans`, навчивши модель за даними зі зниженою за рахунок PCA розмірністю. Тут потрібно шукати саме 6 кластерів, але загалом у задачах без вчителя ми не знаємо, яку кількість кластерів треба шукати.\n",
    "\n",
    "Параметри:\n",
    "\n",
    "- **n_clusters** = n_classes (кількість унікальних міток цільового класу);\n",
    "- **n_init** = 100;\n",
    "- **random_state** = RANDOM_STATE (для відтворюваності результату).\n",
    "\n",
    "Інші параметри залишаються за замовчуванням."
   ]
  },
  {
   "cell_type": "code",
   "execution_count": 12,
   "metadata": {
    "id": "L4s7tDNIzd4P"
   },
   "outputs": [],
   "source": [
    "kmeans = KMeans(n_clusters=n_classes, n_init=100, random_state=RANDOM_STATE).fit(X_scaled)\n",
    "kmeans.fit(X_pca)\n",
    "cluster_labels = kmeans.labels_"
   ]
  },
  {
   "cell_type": "markdown",
   "metadata": {
    "id": "mFpG8NMNzd4P"
   },
   "source": [
    "Перегляньте відповідність між мітками кластерів і початковими мітками класів, а також гляньте на те, які види активностей алгоритм `MiniBatchKmeans` плутає."
   ]
  },
  {
   "cell_type": "code",
   "execution_count": 13,
   "metadata": {
    "colab": {
     "base_uri": "https://localhost:8080/",
     "height": 269
    },
    "executionInfo": {
     "elapsed": 630,
     "status": "ok",
     "timestamp": 1669230330283,
     "user": {
      "displayName": "Max Kazionov",
      "userId": "16209842548967371554"
     },
     "user_tz": -120
    },
    "id": "ZWeKvROIzd4P",
    "outputId": "97bf2aa6-9c98-4951-dc1c-19e7f6f3a75c"
   },
   "outputs": [
    {
     "data": {
      "text/html": [
       "<div>\n",
       "<style scoped>\n",
       "    .dataframe tbody tr th:only-of-type {\n",
       "        vertical-align: middle;\n",
       "    }\n",
       "\n",
       "    .dataframe tbody tr th {\n",
       "        vertical-align: top;\n",
       "    }\n",
       "\n",
       "    .dataframe thead th {\n",
       "        text-align: right;\n",
       "    }\n",
       "</style>\n",
       "<table border=\"1\" class=\"dataframe\">\n",
       "  <thead>\n",
       "    <tr style=\"text-align: right;\">\n",
       "      <th></th>\n",
       "      <th>cluster1</th>\n",
       "      <th>cluster2</th>\n",
       "      <th>cluster3</th>\n",
       "      <th>cluster4</th>\n",
       "      <th>cluster5</th>\n",
       "      <th>cluster6</th>\n",
       "      <th>всі</th>\n",
       "    </tr>\n",
       "  </thead>\n",
       "  <tbody>\n",
       "    <tr>\n",
       "      <th>ходьба</th>\n",
       "      <td>903</td>\n",
       "      <td>0</td>\n",
       "      <td>0</td>\n",
       "      <td>78</td>\n",
       "      <td>741</td>\n",
       "      <td>0</td>\n",
       "      <td>1722</td>\n",
       "    </tr>\n",
       "    <tr>\n",
       "      <th>підйом вгору сходами</th>\n",
       "      <td>1241</td>\n",
       "      <td>0</td>\n",
       "      <td>0</td>\n",
       "      <td>5</td>\n",
       "      <td>296</td>\n",
       "      <td>2</td>\n",
       "      <td>1544</td>\n",
       "    </tr>\n",
       "    <tr>\n",
       "      <th>спуск вниз сходами</th>\n",
       "      <td>320</td>\n",
       "      <td>0</td>\n",
       "      <td>0</td>\n",
       "      <td>196</td>\n",
       "      <td>890</td>\n",
       "      <td>0</td>\n",
       "      <td>1406</td>\n",
       "    </tr>\n",
       "    <tr>\n",
       "      <th>сидіння</th>\n",
       "      <td>1</td>\n",
       "      <td>1235</td>\n",
       "      <td>91</td>\n",
       "      <td>0</td>\n",
       "      <td>0</td>\n",
       "      <td>450</td>\n",
       "      <td>1777</td>\n",
       "    </tr>\n",
       "    <tr>\n",
       "      <th>стояння</th>\n",
       "      <td>0</td>\n",
       "      <td>1344</td>\n",
       "      <td>0</td>\n",
       "      <td>0</td>\n",
       "      <td>0</td>\n",
       "      <td>562</td>\n",
       "      <td>1906</td>\n",
       "    </tr>\n",
       "    <tr>\n",
       "      <th>лежання</th>\n",
       "      <td>5</td>\n",
       "      <td>52</td>\n",
       "      <td>1558</td>\n",
       "      <td>0</td>\n",
       "      <td>0</td>\n",
       "      <td>329</td>\n",
       "      <td>1944</td>\n",
       "    </tr>\n",
       "    <tr>\n",
       "      <th>всі</th>\n",
       "      <td>2470</td>\n",
       "      <td>2631</td>\n",
       "      <td>1649</td>\n",
       "      <td>279</td>\n",
       "      <td>1927</td>\n",
       "      <td>1343</td>\n",
       "      <td>10299</td>\n",
       "    </tr>\n",
       "  </tbody>\n",
       "</table>\n",
       "</div>"
      ],
      "text/plain": [
       "                      cluster1  cluster2  cluster3  cluster4  cluster5  \\\n",
       "ходьба                     903         0         0        78       741   \n",
       "підйом вгору сходами      1241         0         0         5       296   \n",
       "спуск вниз сходами         320         0         0       196       890   \n",
       "сидіння                      1      1235        91         0         0   \n",
       "стояння                      0      1344         0         0         0   \n",
       "лежання                      5        52      1558         0         0   \n",
       "всі                       2470      2631      1649       279      1927   \n",
       "\n",
       "                      cluster6    всі  \n",
       "ходьба                       0   1722  \n",
       "підйом вгору сходами         2   1544  \n",
       "спуск вниз сходами           0   1406  \n",
       "сидіння                    450   1777  \n",
       "стояння                    562   1906  \n",
       "лежання                    329   1944  \n",
       "всі                       1343  10299  "
      ]
     },
     "execution_count": 13,
     "metadata": {},
     "output_type": "execute_result"
    }
   ],
   "source": [
    "tab = pd.crosstab(y, cluster_labels, margins=True)\n",
    "tab.index = ['ходьба', 'підйом вгору сходами', \n",
    "             'спуск вниз сходами', 'сидіння', 'стояння', 'лежання', 'всі']\n",
    "tab.columns = ['cluster' + str(i + 1) for i in range(6)] + ['всі']\n",
    "tab"
   ]
  },
  {
   "cell_type": "markdown",
   "metadata": {
    "id": "mkq837svzd4P"
   },
   "source": [
    "Бачимо, що кожному класу (тобто кожній активності) відповідають кілька кластерів. Давайте подивимося на максимальну частку об'єктів в класі, що відносяться до якогось одного кластеру. Ця частка буде простокою метрикою, що характеризує наскільки легко клас відділяється від інших під час кластеризування.\n",
    "\n",
    "Приклад: якщо для класу \"спуск сходами\", в якому 1406 об'єктів, розподіл кластерів є таким:\n",
    " - кластер 1 – 900;\n",
    " - кластер 3 – 500;\n",
    " - кластер 6 – 6,\n",
    " \n",
    "то така частка буде 900 / 1406 $\\approx$ 0.64."
   ]
  },
  {
   "cell_type": "markdown",
   "metadata": {
    "id": "nzaSPIadzd4P"
   },
   "source": [
    "Зазвичай, *k*-means не надто добре відрізняє тільки активності одну від одної. Тому використаємо метод ліктя, щоби вибрати оптимальну кількість кластерів. Параметри алгоритму й дані використовуємо ті ж, що і раніше, міняємо лише `n_clusters`."
   ]
  },
  {
   "cell_type": "code",
   "execution_count": 14,
   "metadata": {
    "colab": {
     "base_uri": "https://localhost:8080/",
     "height": 618,
     "referenced_widgets": [
      "ea9e59eef5ee4830b511735e86f17ec9",
      "c23aae122599481eb6ce7f291a4cf9cc",
      "79645791111547a0b77aa6b95b89729f",
      "610aeb117b0e4a289998fdfbe4303f9d",
      "2c4fa93fa5c04000884c95ad51c9f122",
      "560820a8aff54d679aa72932dde7c949",
      "cc301a4f60e34fd389fa67324637d121",
      "782293f95eb845ccba3df19031b019a2",
      "f43a4f2e2d46493ebd70cd3cdc62808c",
      "35945f73873f4910b0cc51ce48f36968",
      "c34b5a2427a94f7f9610e95bfdc0f272"
     ]
    },
    "executionInfo": {
     "elapsed": 60808,
     "status": "ok",
     "timestamp": 1669230403094,
     "user": {
      "displayName": "Max Kazionov",
      "userId": "16209842548967371554"
     },
     "user_tz": -120
    },
    "id": "vOXT8O0szd4P",
    "outputId": "4d321f6e-81f5-403b-ebb8-8c5724a767f5"
   },
   "outputs": [
    {
     "data": {
      "application/vnd.jupyter.widget-view+json": {
       "model_id": "a0e6b2a32ca04ca5ab81468de5ad8eed",
       "version_major": 2,
       "version_minor": 0
      },
      "text/plain": [
       "  0%|          | 0/6 [00:00<?, ?it/s]"
      ]
     },
     "metadata": {},
     "output_type": "display_data"
    },
    {
     "data": {
      "image/png": "[encoded data removed]",
      "text/plain": [
       "<Figure size 864x648 with 1 Axes>"
      ]
     },
     "metadata": {},
     "output_type": "display_data"
    }
   ],
   "source": [
    "inertia = []\n",
    "for k in notebook.tqdm(range(1, n_classes + 1)):\n",
    "    kmeans = KMeans(n_clusters=k, n_init=100, random_state=RANDOM_STATE).fit(X_pca)\n",
    "    inertia.append(np.sqrt(kmeans.inertia_))\n",
    "\n",
    "plt.plot(range(1, 7), inertia, marker='s');"
   ]
  },
  {
   "cell_type": "markdown",
   "metadata": {
    "id": "fLriPuIbzd4P"
   },
   "source": [
    "### <span style=\"color:red; font-size:1.5em;\">Завдання 2</span>\n",
    "\n",
    "\n",
    "\n",
    "**Для варіантів 11-15:**\n",
    "\n",
    "Обрахуйте, який вид активності відокремився від інших найкраще за метрикою частки об'єктів в класі (описано вище)?"
   ]
  },
  {
   "cell_type": "code",
   "execution_count": 15,
   "metadata": {
    "colab": {
     "base_uri": "https://localhost:8080/"
    },
    "executionInfo": {
     "elapsed": 471,
     "status": "ok",
     "timestamp": 1669230410939,
     "user": {
      "displayName": "Max Kazionov",
      "userId": "16209842548967371554"
     },
     "user_tz": -120
    },
    "id": "EiXSt1VC4QhQ",
    "outputId": "d45b344d-8c61-4004-de74-632bbd0f45a5"
   },
   "outputs": [
    {
     "data": {
      "text/plain": [
       "ходьба                  0.524390\n",
       "підйом вгору сходами    0.803756\n",
       "спуск вниз сходами      0.633001\n",
       "сидіння                 0.694992\n",
       "стояння                 0.705142\n",
       "лежання                 0.801440\n",
       "dtype: float64"
      ]
     },
     "execution_count": 15,
     "metadata": {},
     "output_type": "execute_result"
    }
   ],
   "source": [
    "pd.Series(tab.iloc[:-1,:-1].max(axis=1).values / \n",
    "          tab.iloc[:-1,-1].values, index=tab.index[:-1])"
   ]
  },
  {
   "cell_type": "markdown",
   "metadata": {
    "id": "3xTLfmnJzd4P"
   },
   "source": [
    "------------------------"
   ]
  },
  {
   "cell_type": "markdown",
   "metadata": {
    "id": "38cNRfHCzd4P"
   },
   "source": [
    "<a class=\"anchor\" id=\"lab-7.4\"></a>"
   ]
  },
  {
   "cell_type": "markdown",
   "metadata": {
    "id": "2sSKYK-dzd4P"
   },
   "source": [
    "## <span style=\"color:blue; font-size:1.2em;\">7.4. Агломератична кластеризація</span>\n",
    "\n",
    "[Повернутися до змісту](#lab-7)"
   ]
  },
  {
   "cell_type": "markdown",
   "metadata": {
    "id": "wv7sqGzRzd4P"
   },
   "source": [
    "Спробуємо ще один алгоритм, що входить до групи ієрархічної кластеризації – агломеративну кластеризацію [`AgglomerativeClustering()`](https://scikit-learn.org/stable/modules/generated/sklearn.cluster.AgglomerativeClustering.html)."
   ]
  },
  {
   "cell_type": "code",
   "execution_count": 16,
   "metadata": {
    "id": "odo2QZWNzd4P"
   },
   "outputs": [],
   "source": [
    "ag = AgglomerativeClustering(n_clusters=n_classes, linkage='ward').fit(X_pca)"
   ]
  },
  {
   "cell_type": "markdown",
   "metadata": {
    "id": "1-oG7iFuzd4P"
   },
   "source": [
    "Обрахуйте Adjusted Rand Index (ARI) для розбиття на два кластери за [`AgglomerativeClustering()`](https://scikit-learn.org/stable/modules/generated/sklearn.cluster.AgglomerativeClustering.html) та [`MiniBatchKmeans()`](https://scikit-learn.org/stable/modules/generated/sklearn.cluster.MiniBatchKMeans.html) з параметрами із пункту 7.3.\n",
    "\n",
    "Відповідно до знайденого значення ARI, дайте відповіді на запитання нижче."
   ]
  },
  {
   "cell_type": "code",
   "execution_count": 17,
   "metadata": {
    "colab": {
     "base_uri": "https://localhost:8080/"
    },
    "executionInfo": {
     "elapsed": 279,
     "status": "ok",
     "timestamp": 1669231366702,
     "user": {
      "displayName": "Max Kazionov",
      "userId": "16209842548967371554"
     },
     "user_tz": -120
    },
    "id": "KB_ZIujD8TJw",
    "outputId": "35988450-30ae-424e-d201-72f250d811a8"
   },
   "outputs": [
    {
     "name": "stdout",
     "output_type": "stream",
     "text": [
      "KMeans: ARI = 0.4198070012602345\n",
      "Agglomerative CLustering: ARI = 0.49362763373004886\n"
     ]
    }
   ],
   "source": [
    "print('KMeans: ARI =', metrics.adjusted_rand_score(y, cluster_labels))\n",
    "print('Agglomerative CLustering: ARI =', \n",
    "      metrics.adjusted_rand_score(y, ag.labels_))"
   ]
  },
  {
   "cell_type": "markdown",
   "metadata": {
    "id": "YTS24SUvzd4Q"
   },
   "source": [
    "### <span style=\"color:red; font-size:1.5em;\">Завдання 3</span>\n",
    "\n",
    "\n",
    "**Для варіантів 11-15:**\n",
    "\n",
    "Чи правда, що для нашого прикладу `AgglomerativeClustering()` впорався з кластеризацією гірше, ніж `MiniBatchKmeans()`? Чому?"
   ]
  },
  {
   "cell_type": "code",
   "execution_count": 18,
   "metadata": {
    "id": "z2BtDAjl4zuP"
   },
   "outputs": [],
   "source": [
    "# Ні, AgglomerativeClustering справився краще, тому що чим більше ARI тим краще"
   ]
  },
  {
   "cell_type": "markdown",
   "metadata": {
    "id": "VVP_Cuffzd4Q"
   },
   "source": [
    "------------------------"
   ]
  },
  {
   "cell_type": "markdown",
   "metadata": {
    "id": "91duBxXEzd4Q"
   },
   "source": [
    "<a class=\"anchor\" id=\"lab-7.5\"></a>"
   ]
  },
  {
   "cell_type": "markdown",
   "metadata": {
    "id": "F3a5rbUpzd4Q"
   },
   "source": [
    "## <span style=\"color:blue; font-size:1.2em;\">7.5. Застосування класифікатора після кластеризації</span>\n",
    "\n",
    "[Повернутися до змісту](#lab-7)"
   ]
  },
  {
   "cell_type": "markdown",
   "metadata": {
    "id": "HXkPOMVuzd4Q"
   },
   "source": [
    "Можна помітити, що завдання не надто добре розв'язується саме як задача кластеризації, якщо виділяти лише кілька кластерів (>2). Спробуємо тепер розв'яжемо задачу класифікації; пам'ятаємо, що дані у нас розмічені.\n",
    "\n",
    "Для класифікації використайте метод опорних векторів – клас `sklearn.svm.LinearSVC`. В межах курсу ми не розглядали відокремлено цей алгоритм, проте він вкрай відомий, почитати про нього можна, наприклад, в документації scikit-learn під назвою [Support Vector Machines](https://scikit-learn.org/stable/modules/svm.html#). \n",
    "\n",
    "Налаштуйте для `LinearSVC` гіперпараметр `C` за допомогою `GridSearchCV` (cv=3). Виконайте навчання нового `StandardScaler` за навчальною вибіркою (з усіма початковими ознаками), застосуйте масштабування до тестової вибірки."
   ]
  },
  {
   "cell_type": "code",
   "execution_count": 19,
   "metadata": {
    "id": "UT5vRyiozd4Q"
   },
   "outputs": [],
   "source": [
    "scaler = StandardScaler()\n",
    "X_train_scaled = scaler.fit_transform(X_train)\n",
    "X_test_scaled = scaler.transform(X_test)"
   ]
  },
  {
   "cell_type": "code",
   "execution_count": 20,
   "metadata": {
    "id": "a-NeHidrzd4Q"
   },
   "outputs": [],
   "source": [
    "svc = LinearSVC(random_state=RANDOM_STATE)\n",
    "svc_params = {'C': [0.001, 0.01, 0.1, 1, 10]}"
   ]
  },
  {
   "cell_type": "code",
   "execution_count": 21,
   "metadata": {
    "colab": {
     "base_uri": "https://localhost:8080/"
    },
    "executionInfo": {
     "elapsed": 82161,
     "status": "ok",
     "timestamp": 1669230622833,
     "user": {
      "displayName": "Max Kazionov",
      "userId": "16209842548967371554"
     },
     "user_tz": -120
    },
    "id": "KL4H6N6jzd4Q",
    "outputId": "7b2583ab-4013-4807-bf8a-609c68f8cb54",
    "scrolled": true
   },
   "outputs": [
    {
     "name": "stdout",
     "output_type": "stream",
     "text": [
      "Fitting 3 folds for each of 5 candidates, totalling 15 fits\n"
     ]
    },
    {
     "name": "stderr",
     "output_type": "stream",
     "text": [
      "/Users/matvii/opt/anaconda3/lib/python3.9/site-packages/sklearn/svm/_base.py:1206: ConvergenceWarning: Liblinear failed to converge, increase the number of iterations.\n",
      "  warnings.warn(\n",
      "/Users/matvii/opt/anaconda3/lib/python3.9/site-packages/sklearn/svm/_base.py:1206: ConvergenceWarning: Liblinear failed to converge, increase the number of iterations.\n",
      "  warnings.warn(\n",
      "/Users/matvii/opt/anaconda3/lib/python3.9/site-packages/sklearn/svm/_base.py:1206: ConvergenceWarning: Liblinear failed to converge, increase the number of iterations.\n",
      "  warnings.warn(\n",
      "/Users/matvii/opt/anaconda3/lib/python3.9/site-packages/sklearn/svm/_base.py:1206: ConvergenceWarning: Liblinear failed to converge, increase the number of iterations.\n",
      "  warnings.warn(\n",
      "/Users/matvii/opt/anaconda3/lib/python3.9/site-packages/sklearn/svm/_base.py:1206: ConvergenceWarning: Liblinear failed to converge, increase the number of iterations.\n",
      "  warnings.warn(\n",
      "/Users/matvii/opt/anaconda3/lib/python3.9/site-packages/sklearn/svm/_base.py:1206: ConvergenceWarning: Liblinear failed to converge, increase the number of iterations.\n",
      "  warnings.warn(\n",
      "/Users/matvii/opt/anaconda3/lib/python3.9/site-packages/sklearn/svm/_base.py:1206: ConvergenceWarning: Liblinear failed to converge, increase the number of iterations.\n",
      "  warnings.warn(\n",
      "/Users/matvii/opt/anaconda3/lib/python3.9/site-packages/sklearn/svm/_base.py:1206: ConvergenceWarning: Liblinear failed to converge, increase the number of iterations.\n",
      "  warnings.warn(\n",
      "/Users/matvii/opt/anaconda3/lib/python3.9/site-packages/sklearn/svm/_base.py:1206: ConvergenceWarning: Liblinear failed to converge, increase the number of iterations.\n",
      "  warnings.warn(\n"
     ]
    },
    {
     "name": "stdout",
     "output_type": "stream",
     "text": [
      "CPU times: user 1min 3s, sys: 5.32 s, total: 1min 8s\n",
      "Wall time: 52.3 s\n"
     ]
    },
    {
     "name": "stderr",
     "output_type": "stream",
     "text": [
      "/Users/matvii/opt/anaconda3/lib/python3.9/site-packages/sklearn/svm/_base.py:1206: ConvergenceWarning: Liblinear failed to converge, increase the number of iterations.\n",
      "  warnings.warn(\n"
     ]
    },
    {
     "data": {
      "text/plain": [
       "GridSearchCV(cv=3, estimator=LinearSVC(random_state=17), n_jobs=1,\n",
       "             param_grid={'C': [0.001, 0.01, 0.1, 1, 10]}, verbose=1)"
      ]
     },
     "execution_count": 21,
     "metadata": {},
     "output_type": "execute_result"
    }
   ],
   "source": [
    "%%time\n",
    "# Ваш код тут\n",
    "best_svc = GridSearchCV(svc, svc_params, n_jobs=1, cv=3, verbose=1)\n",
    "best_svc.fit(X_train_scaled, y_train);"
   ]
  },
  {
   "cell_type": "code",
   "execution_count": 22,
   "metadata": {
    "colab": {
     "base_uri": "https://localhost:8080/"
    },
    "executionInfo": {
     "elapsed": 33,
     "status": "ok",
     "timestamp": 1669230622835,
     "user": {
      "displayName": "Max Kazionov",
      "userId": "16209842548967371554"
     },
     "user_tz": -120
    },
    "id": "LOQ_5x0Kzd4Q",
    "outputId": "9f512202-cdc2-40af-f089-e25a98d77077"
   },
   "outputs": [
    {
     "data": {
      "text/plain": [
       "({'C': 0.1}, 0.9382506099134881)"
      ]
     },
     "execution_count": 22,
     "metadata": {},
     "output_type": "execute_result"
    }
   ],
   "source": [
    "# Ваш код тут\n",
    "# Виведіть значення гіперпараметра С\n",
    "best_svc.best_params_, best_svc.best_score_"
   ]
  },
  {
   "cell_type": "markdown",
   "metadata": {
    "id": "rXRqmuDgzd4Q"
   },
   "source": [
    "Виконайте прогноз за тестовим набором даних:"
   ]
  },
  {
   "cell_type": "code",
   "execution_count": 23,
   "metadata": {
    "id": "rER5mv9Zzd4Q"
   },
   "outputs": [],
   "source": [
    "y_predicted = best_svc.predict(X_test_scaled)"
   ]
  },
  {
   "cell_type": "markdown",
   "metadata": {
    "id": "qFz3Jdc_zd4R"
   },
   "source": [
    "Вивидимо результат розподілення класів у таблиці:"
   ]
  },
  {
   "cell_type": "code",
   "execution_count": 24,
   "metadata": {
    "colab": {
     "base_uri": "https://localhost:8080/",
     "height": 269
    },
    "executionInfo": {
     "elapsed": 30,
     "status": "ok",
     "timestamp": 1669230622837,
     "user": {
      "displayName": "Max Kazionov",
      "userId": "16209842548967371554"
     },
     "user_tz": -120
    },
    "id": "nm669_Ftzd4R",
    "outputId": "4faf8786-1a7c-4aa9-e862-47f6b5068328"
   },
   "outputs": [
    {
     "data": {
      "text/html": [
       "<div>\n",
       "<style scoped>\n",
       "    .dataframe tbody tr th:only-of-type {\n",
       "        vertical-align: middle;\n",
       "    }\n",
       "\n",
       "    .dataframe tbody tr th {\n",
       "        vertical-align: top;\n",
       "    }\n",
       "\n",
       "    .dataframe thead th {\n",
       "        text-align: right;\n",
       "    }\n",
       "</style>\n",
       "<table border=\"1\" class=\"dataframe\">\n",
       "  <thead>\n",
       "    <tr style=\"text-align: right;\">\n",
       "      <th></th>\n",
       "      <th>ходьба</th>\n",
       "      <th>підйом вгору сходами</th>\n",
       "      <th>спуску вниз сходами</th>\n",
       "      <th>сидіння</th>\n",
       "      <th>стояння</th>\n",
       "      <th>лежання</th>\n",
       "      <th>всі</th>\n",
       "    </tr>\n",
       "  </thead>\n",
       "  <tbody>\n",
       "    <tr>\n",
       "      <th>ходьба</th>\n",
       "      <td>494</td>\n",
       "      <td>2</td>\n",
       "      <td>0</td>\n",
       "      <td>0</td>\n",
       "      <td>0</td>\n",
       "      <td>0</td>\n",
       "      <td>496</td>\n",
       "    </tr>\n",
       "    <tr>\n",
       "      <th>підйом вгору сходами</th>\n",
       "      <td>12</td>\n",
       "      <td>459</td>\n",
       "      <td>0</td>\n",
       "      <td>0</td>\n",
       "      <td>0</td>\n",
       "      <td>0</td>\n",
       "      <td>471</td>\n",
       "    </tr>\n",
       "    <tr>\n",
       "      <th>спуску вниз сходами</th>\n",
       "      <td>2</td>\n",
       "      <td>3</td>\n",
       "      <td>414</td>\n",
       "      <td>1</td>\n",
       "      <td>0</td>\n",
       "      <td>0</td>\n",
       "      <td>420</td>\n",
       "    </tr>\n",
       "    <tr>\n",
       "      <th>сидіння</th>\n",
       "      <td>0</td>\n",
       "      <td>4</td>\n",
       "      <td>0</td>\n",
       "      <td>426</td>\n",
       "      <td>61</td>\n",
       "      <td>0</td>\n",
       "      <td>491</td>\n",
       "    </tr>\n",
       "    <tr>\n",
       "      <th>стояння</th>\n",
       "      <td>0</td>\n",
       "      <td>0</td>\n",
       "      <td>0</td>\n",
       "      <td>15</td>\n",
       "      <td>517</td>\n",
       "      <td>0</td>\n",
       "      <td>532</td>\n",
       "    </tr>\n",
       "    <tr>\n",
       "      <th>лежання</th>\n",
       "      <td>0</td>\n",
       "      <td>0</td>\n",
       "      <td>0</td>\n",
       "      <td>0</td>\n",
       "      <td>11</td>\n",
       "      <td>526</td>\n",
       "      <td>537</td>\n",
       "    </tr>\n",
       "    <tr>\n",
       "      <th>всі</th>\n",
       "      <td>508</td>\n",
       "      <td>468</td>\n",
       "      <td>414</td>\n",
       "      <td>442</td>\n",
       "      <td>589</td>\n",
       "      <td>526</td>\n",
       "      <td>2947</td>\n",
       "    </tr>\n",
       "  </tbody>\n",
       "</table>\n",
       "</div>"
      ],
      "text/plain": [
       "                      ходьба  підйом вгору сходами  спуску вниз сходами  \\\n",
       "ходьба                   494                     2                    0   \n",
       "підйом вгору сходами      12                   459                    0   \n",
       "спуску вниз сходами        2                     3                  414   \n",
       "сидіння                    0                     4                    0   \n",
       "стояння                    0                     0                    0   \n",
       "лежання                    0                     0                    0   \n",
       "всі                      508                   468                  414   \n",
       "\n",
       "                      сидіння  стояння  лежання   всі  \n",
       "ходьба                      0        0        0   496  \n",
       "підйом вгору сходами        0        0        0   471  \n",
       "спуску вниз сходами         1        0        0   420  \n",
       "сидіння                   426       61        0   491  \n",
       "стояння                    15      517        0   532  \n",
       "лежання                     0       11      526   537  \n",
       "всі                       442      589      526  2947  "
      ]
     },
     "execution_count": 24,
     "metadata": {},
     "output_type": "execute_result"
    }
   ],
   "source": [
    "tab = pd.crosstab(y_test, y_predicted, margins=True)\n",
    "tab.index = ['ходьба', 'підйом вгору сходами', 'спуску вниз сходами', \n",
    "             'сидіння', 'стояння', 'лежання', 'всі']\n",
    "tab.columns = tab.index\n",
    "tab"
   ]
  },
  {
   "cell_type": "markdown",
   "metadata": {
    "id": "pbw1TcUkzd4R"
   },
   "source": [
    "### <span style=\"color:red; font-size:1.5em;\">Завдання 4</span>\n",
    "\n",
    "Для відповіді на запитання нижче використайте `metrics.classification_report()`:\n",
    "\n",
    "\n",
    "**Для варіантів 11-15:**\n",
    "\n",
    "Який вид активності SVM визначає найгірше за метрикою повноти (recall)? Виведіть назву відповідної ознаки (вид активності) та значення відповідної метрики за допомогою коду."
   ]
  },
  {
   "cell_type": "code",
   "execution_count": 25,
   "metadata": {
    "colab": {
     "base_uri": "https://localhost:8080/"
    },
    "executionInfo": {
     "elapsed": 7,
     "status": "ok",
     "timestamp": 1669231223803,
     "user": {
      "displayName": "Max Kazionov",
      "userId": "16209842548967371554"
     },
     "user_tz": -120
    },
    "id": "A7RvZExK6K1-",
    "outputId": "7f1f609c-52e7-4981-f068-e461ca3964b8"
   },
   "outputs": [
    {
     "name": "stdout",
     "output_type": "stream",
     "text": [
      "                      precision    recall  f1-score   support\n",
      "\n",
      "              ходьба       0.97      1.00      0.98       496\n",
      "підйом вгору сходами       0.98      0.97      0.98       471\n",
      " спуску вниз сходами       1.00      0.99      0.99       420\n",
      "             сидіння       0.96      0.87      0.91       491\n",
      "             стояння       0.88      0.97      0.92       532\n",
      "             лежання       1.00      0.98      0.99       537\n",
      "\n",
      "            accuracy                           0.96      2947\n",
      "           macro avg       0.97      0.96      0.96      2947\n",
      "        weighted avg       0.96      0.96      0.96      2947\n",
      "\n"
     ]
    }
   ],
   "source": [
    "target_names=['ходьба', 'підйом вгору сходами', 'спуску вниз сходами','сидіння', 'стояння', 'лежання']\n",
    "print(metrics.classification_report(y_test, y_predicted, target_names=target_names))"
   ]
  },
  {
   "cell_type": "markdown",
   "metadata": {
    "id": "Hv--zro1zd4R"
   },
   "source": [
    "------------------------"
   ]
  },
  {
   "cell_type": "markdown",
   "metadata": {
    "id": "KsR4PDukzd4R"
   },
   "source": [
    "<a class=\"anchor\" id=\"lab-7.6\"></a>"
   ]
  },
  {
   "cell_type": "markdown",
   "metadata": {
    "id": "Qt0SS7bbzd4R"
   },
   "source": [
    "## <span style=\"color:blue; font-size:1.2em;\">7.6. Класифікація із методом головних компонент</span>\n",
    "\n",
    "[Повернутися до змісту](#lab-7)"
   ]
  },
  {
   "cell_type": "markdown",
   "metadata": {
    "id": "vBCWJIS6zd4R"
   },
   "source": [
    "Виконайте навчання класифікатора, повторивши всі попередні дії (завдання 4) з додаванням PCA:\n",
    "\n",
    "- Використовуйте вибірки `X_train_scaled` і `X_test_scaled`.\n",
    "- Навчіть той же PCA, що й раніше за масштабованою навчальною вибіркою; застосуйте перетворення до тестової вибірки.\n",
    "- Налаштуйте гіперпараметр `C` на крос-валідації за навчальною вибіркою з PCA-перетворенням."
   ]
  },
  {
   "cell_type": "code",
   "execution_count": 26,
   "metadata": {
    "id": "hxHKLXpEzd4R"
   },
   "outputs": [],
   "source": [
    "scaler = StandardScaler()\n",
    "X_train_scaled = scaler.fit_transform(X_train)\n",
    "X_test_scaled = scaler.transform(X_test)\n",
    "\n",
    "pca = PCA(n_components=0.9, random_state=RANDOM_STATE)\n",
    "X_train_pca = pca.fit_transform(X_train_scaled)\n",
    "X_test_pca = pca.transform(X_test_scaled)"
   ]
  },
  {
   "cell_type": "code",
   "execution_count": 27,
   "metadata": {
    "id": "Cya0Hyqhzd4R"
   },
   "outputs": [],
   "source": [
    "svc = LinearSVC(random_state=RANDOM_STATE, max_iter=10000, dual=False)\n",
    "svc_params = {'C': [0.001, 0.01, 0.1, 1, 10]}"
   ]
  },
  {
   "cell_type": "code",
   "execution_count": 28,
   "metadata": {
    "colab": {
     "base_uri": "https://localhost:8080/"
    },
    "executionInfo": {
     "elapsed": 15115,
     "status": "ok",
     "timestamp": 1669232107209,
     "user": {
      "displayName": "Max Kazionov",
      "userId": "16209842548967371554"
     },
     "user_tz": -120
    },
    "id": "ua_7IdaPzd4R",
    "outputId": "38785103-cf1f-44b7-99ec-7ad97d573f65"
   },
   "outputs": [
    {
     "name": "stdout",
     "output_type": "stream",
     "text": [
      "Fitting 3 folds for each of 5 candidates, totalling 15 fits\n",
      "CPU times: user 15.9 s, sys: 5.29 s, total: 21.2 s\n",
      "Wall time: 5.04 s\n"
     ]
    },
    {
     "data": {
      "text/plain": [
       "GridSearchCV(cv=3,\n",
       "             estimator=LinearSVC(dual=False, max_iter=10000, random_state=17),\n",
       "             n_jobs=1, param_grid={'C': [0.001, 0.01, 0.1, 1, 10]}, verbose=1)"
      ]
     },
     "execution_count": 28,
     "metadata": {},
     "output_type": "execute_result"
    }
   ],
   "source": [
    "%%time\n",
    "best_svc_pca = GridSearchCV(svc, svc_params, n_jobs=1, cv=3, verbose=1)\n",
    "best_svc_pca.fit(X_train_pca, y_train);"
   ]
  },
  {
   "cell_type": "markdown",
   "metadata": {
    "id": "3P8n2Qs1zd4R"
   },
   "source": [
    "### <span style=\"color:red; font-size:1.5em;\">Завдання 5</span>\n",
    "\n",
    "Обрахуйте метрики за класифікатором SVM та з використанням PCA:\n",
    "\n",
    "\n",
    "**Для варіантів 11-15:**\n",
    "\n",
    "Порівняйте значення повноти (recall), отриманого за всіма ознаками (завдання 4) і з використанням PCA. Вкажіть переваги/недоліки застосування PCA до навчальної вибірки."
   ]
  },
  {
   "cell_type": "code",
   "execution_count": 29,
   "metadata": {
    "colab": {
     "base_uri": "https://localhost:8080/"
    },
    "executionInfo": {
     "elapsed": 3,
     "status": "ok",
     "timestamp": 1669230863962,
     "user": {
      "displayName": "Max Kazionov",
      "userId": "16209842548967371554"
     },
     "user_tz": -120
    },
    "id": "1CFDmrL6zd4R",
    "outputId": "ac8412d5-b848-4b5f-966c-a7d86f0be593"
   },
   "outputs": [
    {
     "data": {
      "text/plain": [
       "-4"
      ]
     },
     "execution_count": 29,
     "metadata": {},
     "output_type": "execute_result"
    }
   ],
   "source": [
    "round(100 * (best_svc_pca.best_score_ - best_svc.best_score_))"
   ]
  },
  {
   "cell_type": "code",
   "execution_count": 30,
   "metadata": {
    "colab": {
     "base_uri": "https://localhost:8080/"
    },
    "executionInfo": {
     "elapsed": 248,
     "status": "ok",
     "timestamp": 1669232128191,
     "user": {
      "displayName": "Max Kazionov",
      "userId": "16209842548967371554"
     },
     "user_tz": -120
    },
    "id": "VyF1zt5U6aeX",
    "outputId": "ac9e251b-a5b8-4dbc-d249-61e5c33da3d3"
   },
   "outputs": [
    {
     "name": "stdout",
     "output_type": "stream",
     "text": [
      "                      precision    recall  f1-score   support\n",
      "\n",
      "              ходьба       0.97      1.00      0.98       496\n",
      "підйом вгору сходами       0.98      0.97      0.98       471\n",
      " спуску вниз сходами       1.00      0.99      0.99       420\n",
      "             сидіння       0.96      0.87      0.91       491\n",
      "             стояння       0.88      0.97      0.92       532\n",
      "             лежання       1.00      0.98      0.99       537\n",
      "\n",
      "            accuracy                           0.96      2947\n",
      "           macro avg       0.97      0.96      0.96      2947\n",
      "        weighted avg       0.96      0.96      0.96      2947\n",
      "\n"
     ]
    }
   ],
   "source": [
    "target_names=['ходьба', 'підйом вгору сходами', 'спуску вниз сходами','сидіння', 'стояння', 'лежання']\n",
    "print(metrics.classification_report(y_test, y_predicted, target_names=target_names))"
   ]
  }
 ],
 "metadata": {
  "anaconda-cloud": {},
  "colab": {
   "collapsed_sections": [
    "fLriPuIbzd4P",
    "YTS24SUvzd4Q",
    "pbw1TcUkzd4R",
    "3P8n2Qs1zd4R"
   ],
   "provenance": [
    {
     "file_id": "1jqKPDk5_J7ddIusbp8c482ThWEwhjkie",
     "timestamp": 1673260333708
    },
    {
     "file_id": "https://github.com/radiukpavlo/intelligent-data-analysis/blob/main/02_assignments/ida_lab-07_pca-kmeans/ida_lab-07_pca-kmeans.ipynb",
     "timestamp": 1669229053429
    }
   ]
  },
  "kernelspec": {
   "display_name": "Python 3 (ipykernel)",
   "language": "python",
   "name": "python3"
  },
  "language_info": {
   "codemirror_mode": {
    "name": "ipython",
    "version": 3
   },
   "file_extension": ".py",
   "mimetype": "text/x-python",
   "name": "python",
   "nbconvert_exporter": "python",
   "pygments_lexer": "ipython3",
   "version": "3.9.12"
  },
  "widgets": {
   "application/vnd.jupyter.widget-state+json": {
    "2c4fa93fa5c04000884c95ad51c9f122": {
     "model_module": "@jupyter-widgets/base",
     "model_module_version": "1.2.0",
     "model_name": "LayoutModel",
     "state": {
      "_model_module": "@jupyter-widgets/base",
      "_model_module_version": "1.2.0",
      "_model_name": "LayoutModel",
      "_view_count": null,
      "_view_module": "@jupyter-widgets/base",
      "_view_module_version": "1.2.0",
      "_view_name": "LayoutView",
      "align_content": null,
      "align_items": null,
      "align_self": null,
      "border": null,
      "bottom": null,
      "display": null,
      "flex": null,
      "flex_flow": null,
      "grid_area": null,
      "grid_auto_columns": null,
      "grid_auto_flow": null,
      "grid_auto_rows": null,
      "grid_column": null,
      "grid_gap": null,
      "grid_row": null,
      "grid_template_areas": null,
      "grid_template_columns": null,
      "grid_template_rows": null,
      "height": null,
      "justify_content": null,
      "justify_items": null,
      "left": null,
      "margin": null,
      "max_height": null,
      "max_width": null,
      "min_height": null,
      "min_width": null,
      "object_fit": null,
      "object_position": null,
      "order": null,
      "overflow": null,
      "overflow_x": null,
      "overflow_y": null,
      "padding": null,
      "right": null,
      "top": null,
      "visibility": null,
      "width": null
     }
    },
    "35945f73873f4910b0cc51ce48f36968": {
     "model_module": "@jupyter-widgets/base",
     "model_module_version": "1.2.0",
     "model_name": "LayoutModel",
     "state": {
      "_model_module": "@jupyter-widgets/base",
      "_model_module_version": "1.2.0",
      "_model_name": "LayoutModel",
      "_view_count": null,
      "_view_module": "@jupyter-widgets/base",
      "_view_module_version": "1.2.0",
      "_view_name": "LayoutView",
      "align_content": null,
      "align_items": null,
      "align_self": null,
      "border": null,
      "bottom": null,
      "display": null,
      "flex": null,
      "flex_flow": null,
      "grid_area": null,
      "grid_auto_columns": null,
      "grid_auto_flow": null,
      "grid_auto_rows": null,
      "grid_column": null,
      "grid_gap": null,
      "grid_row": null,
      "grid_template_areas": null,
      "grid_template_columns": null,
      "grid_template_rows": null,
      "height": null,
      "justify_content": null,
      "justify_items": null,
      "left": null,
      "margin": null,
      "max_height": null,
      "max_width": null,
      "min_height": null,
      "min_width": null,
      "object_fit": null,
      "object_position": null,
      "order": null,
      "overflow": null,
      "overflow_x": null,
      "overflow_y": null,
      "padding": null,
      "right": null,
      "top": null,
      "visibility": null,
      "width": null
     }
    },
    "560820a8aff54d679aa72932dde7c949": {
     "model_module": "@jupyter-widgets/base",
     "model_module_version": "1.2.0",
     "model_name": "LayoutModel",
     "state": {
      "_model_module": "@jupyter-widgets/base",
      "_model_module_version": "1.2.0",
      "_model_name": "LayoutModel",
      "_view_count": null,
      "_view_module": "@jupyter-widgets/base",
      "_view_module_version": "1.2.0",
      "_view_name": "LayoutView",
      "align_content": null,
      "align_items": null,
      "align_self": null,
      "border": null,
      "bottom": null,
      "display": null,
      "flex": null,
      "flex_flow": null,
      "grid_area": null,
      "grid_auto_columns": null,
      "grid_auto_flow": null,
      "grid_auto_rows": null,
      "grid_column": null,
      "grid_gap": null,
      "grid_row": null,
      "grid_template_areas": null,
      "grid_template_columns": null,
      "grid_template_rows": null,
      "height": null,
      "justify_content": null,
      "justify_items": null,
      "left": null,
      "margin": null,
      "max_height": null,
      "max_width": null,
      "min_height": null,
      "min_width": null,
      "object_fit": null,
      "object_position": null,
      "order": null,
      "overflow": null,
      "overflow_x": null,
      "overflow_y": null,
      "padding": null,
      "right": null,
      "top": null,
      "visibility": null,
      "width": null
     }
    },
    "610aeb117b0e4a289998fdfbe4303f9d": {
     "model_module": "@jupyter-widgets/controls",
     "model_module_version": "1.5.0",
     "model_name": "HTMLModel",
     "state": {
      "_dom_classes": [],
      "_model_module": "@jupyter-widgets/controls",
      "_model_module_version": "1.5.0",
      "_model_name": "HTMLModel",
      "_view_count": null,
      "_view_module": "@jupyter-widgets/controls",
      "_view_module_version": "1.5.0",
      "_view_name": "HTMLView",
      "description": "",
      "description_tooltip": null,
      "layout": "IPY_MODEL_35945f73873f4910b0cc51ce48f36968",
      "placeholder": "​",
      "style": "IPY_MODEL_c34b5a2427a94f7f9610e95bfdc0f272",
      "value": " 6/6 [01:00&lt;00:00, 12.96s/it]"
     }
    },
    "782293f95eb845ccba3df19031b019a2": {
     "model_module": "@jupyter-widgets/base",
     "model_module_version": "1.2.0",
     "model_name": "LayoutModel",
     "state": {
      "_model_module": "@jupyter-widgets/base",
      "_model_module_version": "1.2.0",
      "_model_name": "LayoutModel",
      "_view_count": null,
      "_view_module": "@jupyter-widgets/base",
      "_view_module_version": "1.2.0",
      "_view_name": "LayoutView",
      "align_content": null,
      "align_items": null,
      "align_self": null,
      "border": null,
      "bottom": null,
      "display": null,
      "flex": null,
      "flex_flow": null,
      "grid_area": null,
      "grid_auto_columns": null,
      "grid_auto_flow": null,
      "grid_auto_rows": null,
      "grid_column": null,
      "grid_gap": null,
      "grid_row": null,
      "grid_template_areas": null,
      "grid_template_columns": null,
      "grid_template_rows": null,
      "height": null,
      "justify_content": null,
      "justify_items": null,
      "left": null,
      "margin": null,
      "max_height": null,
      "max_width": null,
      "min_height": null,
      "min_width": null,
      "object_fit": null,
      "object_position": null,
      "order": null,
      "overflow": null,
      "overflow_x": null,
      "overflow_y": null,
      "padding": null,
      "right": null,
      "top": null,
      "visibility": null,
      "width": null
     }
    },
    "79645791111547a0b77aa6b95b89729f": {
     "model_module": "@jupyter-widgets/controls",
     "model_module_version": "1.5.0",
     "model_name": "FloatProgressModel",
     "state": {
      "_dom_classes": [],
      "_model_module": "@jupyter-widgets/controls",
      "_model_module_version": "1.5.0",
      "_model_name": "FloatProgressModel",
      "_view_count": null,
      "_view_module": "@jupyter-widgets/controls",
      "_view_module_version": "1.5.0",
      "_view_name": "ProgressView",
      "bar_style": "success",
      "description": "",
      "description_tooltip": null,
      "layout": "IPY_MODEL_782293f95eb845ccba3df19031b019a2",
      "max": 6,
      "min": 0,
      "orientation": "horizontal",
      "style": "IPY_MODEL_f43a4f2e2d46493ebd70cd3cdc62808c",
      "value": 6
     }
    },
    "c23aae122599481eb6ce7f291a4cf9cc": {
     "model_module": "@jupyter-widgets/controls",
     "model_module_version": "1.5.0",
     "model_name": "HTMLModel",
     "state": {
      "_dom_classes": [],
      "_model_module": "@jupyter-widgets/controls",
      "_model_module_version": "1.5.0",
      "_model_name": "HTMLModel",
      "_view_count": null,
      "_view_module": "@jupyter-widgets/controls",
      "_view_module_version": "1.5.0",
      "_view_name": "HTMLView",
      "description": "",
      "description_tooltip": null,
      "layout": "IPY_MODEL_560820a8aff54d679aa72932dde7c949",
      "placeholder": "​",
      "style": "IPY_MODEL_cc301a4f60e34fd389fa67324637d121",
      "value": "100%"
     }
    },
    "c34b5a2427a94f7f9610e95bfdc0f272": {
     "model_module": "@jupyter-widgets/controls",
     "model_module_version": "1.5.0",
     "model_name": "DescriptionStyleModel",
     "state": {
      "_model_module": "@jupyter-widgets/controls",
      "_model_module_version": "1.5.0",
      "_model_name": "DescriptionStyleModel",
      "_view_count": null,
      "_view_module": "@jupyter-widgets/base",
      "_view_module_version": "1.2.0",
      "_view_name": "StyleView",
      "description_width": ""
     }
    },
    "cc301a4f60e34fd389fa67324637d121": {
     "model_module": "@jupyter-widgets/controls",
     "model_module_version": "1.5.0",
     "model_name": "DescriptionStyleModel",
     "state": {
      "_model_module": "@jupyter-widgets/controls",
      "_model_module_version": "1.5.0",
      "_model_name": "DescriptionStyleModel",
      "_view_count": null,
      "_view_module": "@jupyter-widgets/base",
      "_view_module_version": "1.2.0",
      "_view_name": "StyleView",
      "description_width": ""
     }
    },
    "ea9e59eef5ee4830b511735e86f17ec9": {
     "model_module": "@jupyter-widgets/controls",
     "model_module_version": "1.5.0",
     "model_name": "HBoxModel",
     "state": {
      "_dom_classes": [],
      "_model_module": "@jupyter-widgets/controls",
      "_model_module_version": "1.5.0",
      "_model_name": "HBoxModel",
      "_view_count": null,
      "_view_module": "@jupyter-widgets/controls",
      "_view_module_version": "1.5.0",
      "_view_name": "HBoxView",
      "box_style": "",
      "children": [
       "IPY_MODEL_c23aae122599481eb6ce7f291a4cf9cc",
       "IPY_MODEL_79645791111547a0b77aa6b95b89729f",
       "IPY_MODEL_610aeb117b0e4a289998fdfbe4303f9d"
      ],
      "layout": "IPY_MODEL_2c4fa93fa5c04000884c95ad51c9f122"
     }
    },
    "f43a4f2e2d46493ebd70cd3cdc62808c": {
     "model_module": "@jupyter-widgets/controls",
     "model_module_version": "1.5.0",
     "model_name": "ProgressStyleModel",
     "state": {
      "_model_module": "@jupyter-widgets/controls",
      "_model_module_version": "1.5.0",
      "_model_name": "ProgressStyleModel",
      "_view_count": null,
      "_view_module": "@jupyter-widgets/base",
      "_view_module_version": "1.2.0",
      "_view_name": "StyleView",
      "bar_color": null,
      "description_width": ""
     }
    }
   }
  }
 },
 "nbformat": 4,
 "nbformat_minor": 1
}
