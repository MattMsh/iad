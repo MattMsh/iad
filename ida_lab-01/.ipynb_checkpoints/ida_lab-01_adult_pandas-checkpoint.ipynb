{
 "cells": [
  {
   "cell_type": "markdown",
   "metadata": {
    "id": "mF3J-uT4yTRZ"
   },
   "source": [
    "<h1><center>Лабораторна робота 1.</center></h1>\n",
    "<h2><center>Аналіз доходу населення за набором даних Adult Data Set</center></h2>"
   ]
  },
  {
   "cell_type": "markdown",
   "metadata": {
    "id": "31ncPy0XyTRa"
   },
   "source": [
    "**Виконав:** Машталяр М.Б.\n",
    "\n",
    "**Варіант:** №14"
   ]
  },
  {
   "cell_type": "markdown",
   "metadata": {
    "id": "DqYUHQFzyTRb"
   },
   "source": [
    "<a class=\"anchor\" id=\"lab-1\"></a>"
   ]
  },
  {
   "cell_type": "markdown",
   "metadata": {
    "id": "XBjoljmeyTRb"
   },
   "source": [
    "## Зміст\n",
    "\n",
    "1. [Завантаження і знайомство з даними](#lab-1.1)\n",
    "2. [Завдання](#lab-1.2)"
   ]
  },
  {
   "cell_type": "markdown",
   "metadata": {
    "id": "afvxIGq8yTRb"
   },
   "source": [
    "<a class=\"anchor\" id=\"lab-1.1\"></a>"
   ]
  },
  {
   "cell_type": "markdown",
   "metadata": {
    "id": "VUTeffPKyTRb"
   },
   "source": [
    "## <span style=\"color:blue; font-size:1.2em;\">1.1. Завантаження та підготовка даних</span>\n",
    "\n",
    "[Повернутися до змісту](#lab-1)"
   ]
  },
  {
   "cell_type": "markdown",
   "metadata": {
    "id": "ML7mLEMkyTRc"
   },
   "source": [
    "У лабораторній роботі пропонується за допомогою Pandas відповісти на кілька запитань за набором даних [Adult](https://archive.ics.uci.edu/ml/datasets/adult) сховища UCI."
   ]
  },
  {
   "cell_type": "markdown",
   "metadata": {
    "id": "vNwrehz0yTRc"
   },
   "source": [
    "Унікальні значення ознак набору даниз Adult Data Set (більше інформації в описі [Adult](https://archive.ics.uci.edu/ml/datasets/adult)):\n",
    "\n",
    "- age: continuous.\n",
    "- workclass: Private, Self-emp-not-inc, Self-emp-inc, Federal-gov, Local-gov, State-gov, Without-pay, Never-worked.\n",
    "- fnlwgt: continuous.\n",
    "- education: Bachelors, Some-college, 11th, HS-grad, Prof-school, Assoc-acdm, Assoc-voc, 9th, 7th-8th, 12th, Masters, 1st-4th, 10th, Doctorate, 5th-6th, Preschool.\n",
    "- education-num: continuous.\n",
    "- marital-status: Married-civ-spouse, Divorced, Never-married, Separated, Widowed, Married-spouse-absent, Married-AF-spouse.\n",
    "- occupation: Tech-support, Craft-repair, Other-service, Sales, Exec-managerial, Prof-specialty, Handlers-cleaners, Machine-op-inspct, Adm-clerical, Farming-fishing, Transport-moving, Priv-house-serv, Protective-serv, Armed-Forces.\n",
    "- relationship: Wife, Own-child, Husband, Not-in-family, Other-relative, Unmarried.\n",
    "- race: White, Asian-Pac-Islander, Amer-Indian-Eskimo, Other, Black.\n",
    "- sex: Female, Male.\n",
    "- capital-gain: continuous.\n",
    "- capital-loss: continuous.\n",
    "- hours-per-week: continuous.\n",
    "- native-country: United-States, Cambodia, England, Puerto-Rico, Canada, Germany, Outlying-US(Guam-USVI-etc), India, Japan, Greece, South, China, Cuba, Iran, Honduras, Philippines, Italy, Poland, Jamaica, Vietnam, Mexico, Portugal, Ireland, France, Dominican-Republic, Laos, Ecuador, Taiwan, Haiti, Columbia, Hungary, Guatemala, Nicaragua, Scotland, Thailand, Yugoslavia, El-Salvador, Trinadad&Tobago, Peru, Hong, Holand-Netherlands.   \n",
    "- salary: >50K,<=50K"
   ]
  },
  {
   "cell_type": "markdown",
   "metadata": {
    "id": "27NvP15NyTRd"
   },
   "source": [
    "Завантажимо `Pandas` та переглянемо вміст набору даних."
   ]
  },
  {
   "cell_type": "code",
   "execution_count": 1,
   "metadata": {
    "executionInfo": {
     "elapsed": 358,
     "status": "ok",
     "timestamp": 1669190057856,
     "user": {
      "displayName": "Matviy Mashtalyar",
      "userId": "09378446567115214204"
     },
     "user_tz": -120
    },
    "id": "4oakQGIvyTRd"
   },
   "outputs": [],
   "source": [
    "import pandas as pd\n",
    "import numpy as np\n",
    "\n",
    "def print_percent(number):\n",
    "  print(str(number * 100) + '%')"
   ]
  },
  {
   "cell_type": "code",
   "execution_count": 2,
   "metadata": {
    "colab": {
     "base_uri": "https://localhost:8080/",
     "height": 337
    },
    "executionInfo": {
     "elapsed": 251,
     "status": "ok",
     "timestamp": 1669190055227,
     "user": {
      "displayName": "Matviy Mashtalyar",
      "userId": "09378446567115214204"
     },
     "user_tz": -120
    },
    "id": "RFn_IEebyTRd",
    "outputId": "21e68a62-835e-4a18-b798-bd53194dd688"
   },
   "outputs": [
    {
     "data": {
      "text/html": [
       "<div>\n",
       "<style scoped>\n",
       "    .dataframe tbody tr th:only-of-type {\n",
       "        vertical-align: middle;\n",
       "    }\n",
       "\n",
       "    .dataframe tbody tr th {\n",
       "        vertical-align: top;\n",
       "    }\n",
       "\n",
       "    .dataframe thead th {\n",
       "        text-align: right;\n",
       "    }\n",
       "</style>\n",
       "<table border=\"1\" class=\"dataframe\">\n",
       "  <thead>\n",
       "    <tr style=\"text-align: right;\">\n",
       "      <th></th>\n",
       "      <th>age</th>\n",
       "      <th>workclass</th>\n",
       "      <th>fnlwgt</th>\n",
       "      <th>education</th>\n",
       "      <th>education-num</th>\n",
       "      <th>marital-status</th>\n",
       "      <th>occupation</th>\n",
       "      <th>relationship</th>\n",
       "      <th>race</th>\n",
       "      <th>sex</th>\n",
       "      <th>capital-gain</th>\n",
       "      <th>capital-loss</th>\n",
       "      <th>hours-per-week</th>\n",
       "      <th>native-country</th>\n",
       "      <th>salary</th>\n",
       "    </tr>\n",
       "  </thead>\n",
       "  <tbody>\n",
       "    <tr>\n",
       "      <th>0</th>\n",
       "      <td>39</td>\n",
       "      <td>State-gov</td>\n",
       "      <td>77516</td>\n",
       "      <td>Bachelors</td>\n",
       "      <td>13</td>\n",
       "      <td>Never-married</td>\n",
       "      <td>Adm-clerical</td>\n",
       "      <td>Not-in-family</td>\n",
       "      <td>White</td>\n",
       "      <td>Male</td>\n",
       "      <td>2174</td>\n",
       "      <td>0</td>\n",
       "      <td>40</td>\n",
       "      <td>United-States</td>\n",
       "      <td>&lt;=50K</td>\n",
       "    </tr>\n",
       "    <tr>\n",
       "      <th>1</th>\n",
       "      <td>50</td>\n",
       "      <td>Self-emp-not-inc</td>\n",
       "      <td>83311</td>\n",
       "      <td>Bachelors</td>\n",
       "      <td>13</td>\n",
       "      <td>Married-civ-spouse</td>\n",
       "      <td>Exec-managerial</td>\n",
       "      <td>Husband</td>\n",
       "      <td>White</td>\n",
       "      <td>Male</td>\n",
       "      <td>0</td>\n",
       "      <td>0</td>\n",
       "      <td>13</td>\n",
       "      <td>United-States</td>\n",
       "      <td>&lt;=50K</td>\n",
       "    </tr>\n",
       "    <tr>\n",
       "      <th>2</th>\n",
       "      <td>38</td>\n",
       "      <td>Private</td>\n",
       "      <td>215646</td>\n",
       "      <td>HS-grad</td>\n",
       "      <td>9</td>\n",
       "      <td>Divorced</td>\n",
       "      <td>Handlers-cleaners</td>\n",
       "      <td>Not-in-family</td>\n",
       "      <td>White</td>\n",
       "      <td>Male</td>\n",
       "      <td>0</td>\n",
       "      <td>0</td>\n",
       "      <td>40</td>\n",
       "      <td>United-States</td>\n",
       "      <td>&lt;=50K</td>\n",
       "    </tr>\n",
       "    <tr>\n",
       "      <th>3</th>\n",
       "      <td>53</td>\n",
       "      <td>Private</td>\n",
       "      <td>234721</td>\n",
       "      <td>11th</td>\n",
       "      <td>7</td>\n",
       "      <td>Married-civ-spouse</td>\n",
       "      <td>Handlers-cleaners</td>\n",
       "      <td>Husband</td>\n",
       "      <td>Black</td>\n",
       "      <td>Male</td>\n",
       "      <td>0</td>\n",
       "      <td>0</td>\n",
       "      <td>40</td>\n",
       "      <td>United-States</td>\n",
       "      <td>&lt;=50K</td>\n",
       "    </tr>\n",
       "    <tr>\n",
       "      <th>4</th>\n",
       "      <td>28</td>\n",
       "      <td>Private</td>\n",
       "      <td>338409</td>\n",
       "      <td>Bachelors</td>\n",
       "      <td>13</td>\n",
       "      <td>Married-civ-spouse</td>\n",
       "      <td>Prof-specialty</td>\n",
       "      <td>Wife</td>\n",
       "      <td>Black</td>\n",
       "      <td>Female</td>\n",
       "      <td>0</td>\n",
       "      <td>0</td>\n",
       "      <td>40</td>\n",
       "      <td>Cuba</td>\n",
       "      <td>&lt;=50K</td>\n",
       "    </tr>\n",
       "  </tbody>\n",
       "</table>\n",
       "</div>"
      ],
      "text/plain": [
       "   age         workclass  fnlwgt  education  education-num  \\\n",
       "0   39         State-gov   77516  Bachelors             13   \n",
       "1   50  Self-emp-not-inc   83311  Bachelors             13   \n",
       "2   38           Private  215646    HS-grad              9   \n",
       "3   53           Private  234721       11th              7   \n",
       "4   28           Private  338409  Bachelors             13   \n",
       "\n",
       "       marital-status         occupation   relationship   race     sex  \\\n",
       "0       Never-married       Adm-clerical  Not-in-family  White    Male   \n",
       "1  Married-civ-spouse    Exec-managerial        Husband  White    Male   \n",
       "2            Divorced  Handlers-cleaners  Not-in-family  White    Male   \n",
       "3  Married-civ-spouse  Handlers-cleaners        Husband  Black    Male   \n",
       "4  Married-civ-spouse     Prof-specialty           Wife  Black  Female   \n",
       "\n",
       "   capital-gain  capital-loss  hours-per-week native-country salary  \n",
       "0          2174             0              40  United-States  <=50K  \n",
       "1             0             0              13  United-States  <=50K  \n",
       "2             0             0              40  United-States  <=50K  \n",
       "3             0             0              40  United-States  <=50K  \n",
       "4             0             0              40           Cuba  <=50K  "
      ]
     },
     "execution_count": 2,
     "metadata": {},
     "output_type": "execute_result"
    }
   ],
   "source": [
    "adult_data_url = 'https://raw.githubusercontent.com/radiukpavlo/intelligent-data-analysis/main/02_assignments/ida_lab-01_adult_pandas/adult.data.csv'\n",
    "\n",
    "df = pd.read_csv(adult_data_url)\n",
    "df.head()"
   ]
  },
  {
   "cell_type": "markdown",
   "metadata": {
    "id": "ZIsopKVUyTRe"
   },
   "source": [
    "-----\n",
    "<a class=\"anchor\" id=\"lab-1.2\"></a>"
   ]
  },
  {
   "cell_type": "markdown",
   "metadata": {
    "id": "5DRz-2PTyTRe"
   },
   "source": [
    "## <span style=\"color:blue; font-size:1.2em;\">1.2. Завдання</span>\n",
    "\n",
    "[Повернутися до змісту](#lab-1)"
   ]
  },
  {
   "cell_type": "markdown",
   "metadata": {
    "id": "crgWGmNYyTRe"
   },
   "source": [
    "Варіанти завдань відповідають списку студентв групі. Дайте відповіді на запитання з використанням бібліотеки `Pandas`."
   ]
  },
  {
   "cell_type": "markdown",
   "metadata": {
    "id": "Vedm0cCHyTRe"
   },
   "source": [
    "### <span style=\"color:red; font-size:1.5em;\">Завдання 1</span>\n",
    "**Для варіантів 11-20:**\n",
    "\n",
    "Яку кількість жінок (ознака *sex*) подано в наборі даних UCI Adult Data Set?"
   ]
  },
  {
   "cell_type": "code",
   "execution_count": 3,
   "metadata": {
    "colab": {
     "base_uri": "https://localhost:8080/"
    },
    "executionInfo": {
     "elapsed": 231,
     "status": "ok",
     "timestamp": 1669185038091,
     "user": {
      "displayName": "Matviy Mashtalyar",
      "userId": "09378446567115214204"
     },
     "user_tz": -120
    },
    "id": "xQBO-IJnyTRf",
    "outputId": "69ac6241-e900-4462-e8dc-b4c7c068e58c"
   },
   "outputs": [
    {
     "data": {
      "text/plain": [
       "10771"
      ]
     },
     "execution_count": 3,
     "metadata": {},
     "output_type": "execute_result"
    }
   ],
   "source": [
    "len(df[df['sex'] == 'Female'])"
   ]
  },
  {
   "cell_type": "markdown",
   "metadata": {
    "id": "xE9bDnvqyTRf"
   },
   "source": [
    "### <span style=\"color:red; font-size:1.5em;\">Завдання 2</span>\n",
    "\n",
    "**Для варіантів 11-20:**\n",
    "\n",
    "Який середній вік (ознака *age*) чоловіків?"
   ]
  },
  {
   "cell_type": "code",
   "execution_count": 4,
   "metadata": {
    "colab": {
     "base_uri": "https://localhost:8080/"
    },
    "executionInfo": {
     "elapsed": 6,
     "status": "ok",
     "timestamp": 1669180989134,
     "user": {
      "displayName": "Matviy Mashtalyar",
      "userId": "09378446567115214204"
     },
     "user_tz": -120
    },
    "id": "iMB-Rxz8yTRf",
    "outputId": "eab80037-5d4b-4bb4-8e3a-8eeecf348c04"
   },
   "outputs": [
    {
     "data": {
      "text/plain": [
       "39.43354749885268"
      ]
     },
     "execution_count": 4,
     "metadata": {},
     "output_type": "execute_result"
    }
   ],
   "source": [
    "df[df['sex'] == 'Male'].age.mean()"
   ]
  },
  {
   "cell_type": "markdown",
   "metadata": {
    "id": "9_-XP3B-yTRf"
   },
   "source": [
    "### <span style=\"color:red; font-size:1.5em;\">Завдання 3</span>\n",
    "\n",
    "**Для варіантів 11-15:**\n",
    "\n",
    "Яка частка громадян США (у %, ознака *native-country*) в наборі даних?"
   ]
  },
  {
   "cell_type": "code",
   "execution_count": 5,
   "metadata": {
    "colab": {
     "base_uri": "https://localhost:8080/"
    },
    "executionInfo": {
     "elapsed": 572,
     "status": "ok",
     "timestamp": 1669185080412,
     "user": {
      "displayName": "Matviy Mashtalyar",
      "userId": "09378446567115214204"
     },
     "user_tz": -120
    },
    "id": "e1prnpAjyTRf",
    "outputId": "0bde9f06-19fe-481c-b75b-8bb3238a5b1e"
   },
   "outputs": [
    {
     "name": "stdout",
     "output_type": "stream",
     "text": [
      "89.5857006848684%\n"
     ]
    }
   ],
   "source": [
    "print_percent(df['native-country'].value_counts(normalize=True)['United-States'])"
   ]
  },
  {
   "cell_type": "markdown",
   "metadata": {
    "id": "bstUSb-dyTRf"
   },
   "source": [
    "### <span style=\"color:red; font-size:1.5em;\">Завдання 4</span>\n",
    "\n",
    "**Для варіантів 11-20:**\n",
    "\n",
    "Які середні значення і середньоквадратичні відхилення віку тих, хто отримує зарплату більше 50K на рік (ознака *salary*)?"
   ]
  },
  {
   "cell_type": "code",
   "execution_count": 6,
   "metadata": {
    "colab": {
     "base_uri": "https://localhost:8080/"
    },
    "executionInfo": {
     "elapsed": 242,
     "status": "ok",
     "timestamp": 1669182516873,
     "user": {
      "displayName": "Matviy Mashtalyar",
      "userId": "09378446567115214204"
     },
     "user_tz": -120
    },
    "id": "TePJPtfbyTRf",
    "outputId": "4d429320-fc92-4451-d2fe-1d06211ad633"
   },
   "outputs": [
    {
     "name": "stdout",
     "output_type": "stream",
     "text": [
      "Mean value 44.24984058155847\n",
      "Quantile value 44.0\n"
     ]
    }
   ],
   "source": [
    "# середні значення\n",
    "print(\"Mean value\", df[df['salary'] == '>50K'].age.mean())\n",
    "\n",
    "# для вичислення середньоквадратичних відхилень віку потрібно мати очікувані дані, яких не вказано в завданні\n",
    "print(\"Quantile value\", df[df['salary'] == '>50K'].age.quantile())"
   ]
  },
  {
   "cell_type": "markdown",
   "metadata": {
    "id": "Mj4ZUaBuyTRf"
   },
   "source": [
    "### <span style=\"color:red; font-size:1.5em;\">Завдання 5</span>\n",
    "\n",
    "**Для варіантів 11-15:**\n",
    "\n",
    "Яка частка людей, що подані в наборі даних, має вік в діапазоні [30; 50) років?"
   ]
  },
  {
   "cell_type": "code",
   "execution_count": 7,
   "metadata": {
    "colab": {
     "base_uri": "https://localhost:8080/"
    },
    "executionInfo": {
     "elapsed": 5,
     "status": "ok",
     "timestamp": 1669185096237,
     "user": {
      "displayName": "Matviy Mashtalyar",
      "userId": "09378446567115214204"
     },
     "user_tz": -120
    },
    "id": "kkUcmzx4yTRf",
    "outputId": "223d8b49-a592-48ca-a584-211bd86f3ef2"
   },
   "outputs": [
    {
     "name": "stdout",
     "output_type": "stream",
     "text": [
      "48.48745431651362%\n"
     ]
    }
   ],
   "source": [
    "print_percent(len(df['age'][(df['age'] >= 30) & (df['age'] < 50)]) / len(df))\n"
   ]
  },
  {
   "cell_type": "markdown",
   "metadata": {
    "id": "DPEnzTk9yTRf"
   },
   "source": [
    "### <span style=\"color:red; font-size:1.5em;\">Завдання 6</span>\n",
    "\n",
    "**Для варіантів 11-15:**\n",
    "\n",
    "Скільки людей, що отримують <=50K, мають вищу освіту?\n",
    "\n",
    "**Примітка:** вища освіта відповідає значенням ознаки *education* - Bachelors, Prof-school, Assoc-acdm, Assoc-voc, Masters або Doctorate)"
   ]
  },
  {
   "cell_type": "code",
   "execution_count": 8,
   "metadata": {
    "colab": {
     "base_uri": "https://localhost:8080/"
    },
    "executionInfo": {
     "elapsed": 5,
     "status": "ok",
     "timestamp": 1669184773082,
     "user": {
      "displayName": "Matviy Mashtalyar",
      "userId": "09378446567115214204"
     },
     "user_tz": -120
    },
    "id": "zLFeVjlLyTRf",
    "outputId": "dc0827fd-ed47-4306-cbf5-3c006760dd71"
   },
   "outputs": [
    {
     "data": {
      "text/plain": [
       "5981"
      ]
     },
     "execution_count": 8,
     "metadata": {},
     "output_type": "execute_result"
    }
   ],
   "source": [
    "len(df[(df['salary'] == '<=50K') & (df['education-num'] >= 11)])"
   ]
  },
  {
   "cell_type": "markdown",
   "metadata": {
    "id": "I7jMElnjyTRg"
   },
   "source": [
    "### <span style=\"color:red; font-size:1.5em;\">Завдання 7</span>\n",
    "\n",
    "**Виведіть статистику віку для кожної раси (ознака *race*) та кожної статі (ознака *sex*). Використовуйте `groupby` і `describe`.**\n",
    "\n",
    "**Для варіантів 11-15:**\n",
    "\n",
    "Знайдіть у такий спосіб максимальний вік чоловіків раси *Black*."
   ]
  },
  {
   "cell_type": "code",
   "execution_count": 9,
   "metadata": {
    "colab": {
     "base_uri": "https://localhost:8080/",
     "height": 112
    },
    "executionInfo": {
     "elapsed": 1492,
     "status": "ok",
     "timestamp": 1669190322112,
     "user": {
      "displayName": "Matviy Mashtalyar",
      "userId": "09378446567115214204"
     },
     "user_tz": -120
    },
    "id": "DdMrv2EpyTRg",
    "outputId": "644fc1ee-8317-4f72-912c-b5812498fe2d"
   },
   "outputs": [
    {
     "data": {
      "text/html": [
       "<div>\n",
       "<style scoped>\n",
       "    .dataframe tbody tr th:only-of-type {\n",
       "        vertical-align: middle;\n",
       "    }\n",
       "\n",
       "    .dataframe tbody tr th {\n",
       "        vertical-align: top;\n",
       "    }\n",
       "\n",
       "    .dataframe thead th {\n",
       "        text-align: right;\n",
       "    }\n",
       "</style>\n",
       "<table border=\"1\" class=\"dataframe\">\n",
       "  <thead>\n",
       "    <tr style=\"text-align: right;\">\n",
       "      <th></th>\n",
       "      <th></th>\n",
       "      <th>max</th>\n",
       "    </tr>\n",
       "    <tr>\n",
       "      <th>sex</th>\n",
       "      <th>race</th>\n",
       "      <th></th>\n",
       "    </tr>\n",
       "  </thead>\n",
       "  <tbody>\n",
       "    <tr>\n",
       "      <th>Male</th>\n",
       "      <th>Black</th>\n",
       "      <td>90.0</td>\n",
       "    </tr>\n",
       "  </tbody>\n",
       "</table>\n",
       "</div>"
      ],
      "text/plain": [
       "             max\n",
       "sex  race       \n",
       "Male Black  90.0"
      ]
     },
     "execution_count": 9,
     "metadata": {},
     "output_type": "execute_result"
    }
   ],
   "source": [
    "df[(df.sex == \"Male\") & (df.race == \"Black\")].groupby(by=['sex', 'race'])['age'].describe()[['max']]\n"
   ]
  },
  {
   "cell_type": "markdown",
   "metadata": {
    "id": "HHtBKlsLyTRg"
   },
   "source": [
    "### <span style=\"color:red; font-size:1.5em;\">Завдання 8</span>\n",
    "\n",
    "Для варіантів 11-15:\n",
    "\n",
    "**Представники якої професії заробляють більше (>50K) (ознака *occupation*)?**"
   ]
  },
  {
   "cell_type": "code",
   "execution_count": 10,
   "metadata": {
    "colab": {
     "base_uri": "https://localhost:8080/",
     "height": 36
    },
    "executionInfo": {
     "elapsed": 588,
     "status": "ok",
     "timestamp": 1669190443327,
     "user": {
      "displayName": "Matviy Mashtalyar",
      "userId": "09378446567115214204"
     },
     "user_tz": -120
    },
    "id": "4Yb4J748yTRg",
    "outputId": "d72dbc44-b67f-4137-b9b7-3c8b07f3375a"
   },
   "outputs": [
    {
     "data": {
      "text/plain": [
       "'Transport-moving'"
      ]
     },
     "execution_count": 10,
     "metadata": {},
     "output_type": "execute_result"
    }
   ],
   "source": [
    "df[df['salary'] == '>50K']['occupation'].max()"
   ]
  },
  {
   "cell_type": "markdown",
   "metadata": {
    "id": "b9z5TX0pyTRg"
   },
   "source": [
    "### <span style=\"color:red; font-size:1.5em;\">Завдання 9</span>\n",
    "\n",
    "***Для всіх варіантів*: обрахуйте мінімальну та максимальну кількість робочих годин (ознака *hours-per-week*).**\n",
    "\n",
    "**Для варіантів 11-15:**\n",
    "\n",
    "Скільки людей працюють мінімальну кількість годин і який поміж них відсоток заробляє багато (>50K)?\n"
   ]
  },
  {
   "cell_type": "code",
   "execution_count": 11,
   "metadata": {
    "colab": {
     "base_uri": "https://localhost:8080/",
     "height": 256
    },
    "executionInfo": {
     "elapsed": 1083,
     "status": "ok",
     "timestamp": 1669190978808,
     "user": {
      "displayName": "Matviy Mashtalyar",
      "userId": "09378446567115214204"
     },
     "user_tz": -120
    },
    "id": "wtajfnEkyTRg",
    "outputId": "247513ef-ea34-47a8-d1d9-a2df1d54905b"
   },
   "outputs": [
    {
     "name": "stdout",
     "output_type": "stream",
     "text": [
      "min     1.0\n",
      "max    99.0\n",
      "Name: hours-per-week, dtype: float64\n"
     ]
    },
    {
     "data": {
      "text/html": [
       "<div>\n",
       "<style scoped>\n",
       "    .dataframe tbody tr th:only-of-type {\n",
       "        vertical-align: middle;\n",
       "    }\n",
       "\n",
       "    .dataframe tbody tr th {\n",
       "        vertical-align: top;\n",
       "    }\n",
       "\n",
       "    .dataframe thead tr th {\n",
       "        text-align: left;\n",
       "    }\n",
       "\n",
       "    .dataframe thead tr:last-of-type th {\n",
       "        text-align: right;\n",
       "    }\n",
       "</style>\n",
       "<table border=\"1\" class=\"dataframe\">\n",
       "  <thead>\n",
       "    <tr>\n",
       "      <th></th>\n",
       "      <th colspan=\"8\" halign=\"left\">age</th>\n",
       "      <th colspan=\"2\" halign=\"left\">fnlwgt</th>\n",
       "      <th>...</th>\n",
       "      <th colspan=\"2\" halign=\"left\">capital-loss</th>\n",
       "      <th colspan=\"8\" halign=\"left\">hours-per-week</th>\n",
       "    </tr>\n",
       "    <tr>\n",
       "      <th></th>\n",
       "      <th>count</th>\n",
       "      <th>mean</th>\n",
       "      <th>std</th>\n",
       "      <th>min</th>\n",
       "      <th>25%</th>\n",
       "      <th>50%</th>\n",
       "      <th>75%</th>\n",
       "      <th>max</th>\n",
       "      <th>count</th>\n",
       "      <th>mean</th>\n",
       "      <th>...</th>\n",
       "      <th>75%</th>\n",
       "      <th>max</th>\n",
       "      <th>count</th>\n",
       "      <th>mean</th>\n",
       "      <th>std</th>\n",
       "      <th>min</th>\n",
       "      <th>25%</th>\n",
       "      <th>50%</th>\n",
       "      <th>75%</th>\n",
       "      <th>max</th>\n",
       "    </tr>\n",
       "    <tr>\n",
       "      <th>salary</th>\n",
       "      <th></th>\n",
       "      <th></th>\n",
       "      <th></th>\n",
       "      <th></th>\n",
       "      <th></th>\n",
       "      <th></th>\n",
       "      <th></th>\n",
       "      <th></th>\n",
       "      <th></th>\n",
       "      <th></th>\n",
       "      <th></th>\n",
       "      <th></th>\n",
       "      <th></th>\n",
       "      <th></th>\n",
       "      <th></th>\n",
       "      <th></th>\n",
       "      <th></th>\n",
       "      <th></th>\n",
       "      <th></th>\n",
       "      <th></th>\n",
       "      <th></th>\n",
       "    </tr>\n",
       "  </thead>\n",
       "  <tbody>\n",
       "    <tr>\n",
       "      <th>&lt;=50K</th>\n",
       "      <td>18.0</td>\n",
       "      <td>61.555556</td>\n",
       "      <td>19.367110</td>\n",
       "      <td>21.0</td>\n",
       "      <td>58.25</td>\n",
       "      <td>69.0</td>\n",
       "      <td>74.75</td>\n",
       "      <td>81.0</td>\n",
       "      <td>18.0</td>\n",
       "      <td>174534.111111</td>\n",
       "      <td>...</td>\n",
       "      <td>0.0</td>\n",
       "      <td>1944.0</td>\n",
       "      <td>18.0</td>\n",
       "      <td>1.0</td>\n",
       "      <td>0.0</td>\n",
       "      <td>1.0</td>\n",
       "      <td>1.0</td>\n",
       "      <td>1.0</td>\n",
       "      <td>1.0</td>\n",
       "      <td>1.0</td>\n",
       "    </tr>\n",
       "    <tr>\n",
       "      <th>&gt;50K</th>\n",
       "      <td>2.0</td>\n",
       "      <td>61.500000</td>\n",
       "      <td>4.949747</td>\n",
       "      <td>58.0</td>\n",
       "      <td>59.75</td>\n",
       "      <td>61.5</td>\n",
       "      <td>63.25</td>\n",
       "      <td>65.0</td>\n",
       "      <td>2.0</td>\n",
       "      <td>92805.000000</td>\n",
       "      <td>...</td>\n",
       "      <td>0.0</td>\n",
       "      <td>0.0</td>\n",
       "      <td>2.0</td>\n",
       "      <td>1.0</td>\n",
       "      <td>0.0</td>\n",
       "      <td>1.0</td>\n",
       "      <td>1.0</td>\n",
       "      <td>1.0</td>\n",
       "      <td>1.0</td>\n",
       "      <td>1.0</td>\n",
       "    </tr>\n",
       "  </tbody>\n",
       "</table>\n",
       "<p>2 rows × 48 columns</p>\n",
       "</div>"
      ],
      "text/plain": [
       "         age                                                       fnlwgt  \\\n",
       "       count       mean        std   min    25%   50%    75%   max  count   \n",
       "salary                                                                      \n",
       "<=50K   18.0  61.555556  19.367110  21.0  58.25  69.0  74.75  81.0   18.0   \n",
       ">50K     2.0  61.500000   4.949747  58.0  59.75  61.5  63.25  65.0    2.0   \n",
       "\n",
       "                       ... capital-loss         hours-per-week                 \\\n",
       "                 mean  ...          75%     max          count mean  std  min   \n",
       "salary                 ...                                                      \n",
       "<=50K   174534.111111  ...          0.0  1944.0           18.0  1.0  0.0  1.0   \n",
       ">50K     92805.000000  ...          0.0     0.0            2.0  1.0  0.0  1.0   \n",
       "\n",
       "                            \n",
       "        25%  50%  75%  max  \n",
       "salary                      \n",
       "<=50K   1.0  1.0  1.0  1.0  \n",
       ">50K    1.0  1.0  1.0  1.0  \n",
       "\n",
       "[2 rows x 48 columns]"
      ]
     },
     "execution_count": 11,
     "metadata": {},
     "output_type": "execute_result"
    }
   ],
   "source": [
    "print(df['hours-per-week'].describe()[['min', 'max']])\n",
    "\n",
    "df[df['hours-per-week'] == (df['hours-per-week'].min())].groupby(['salary']).describe()"
   ]
  },
  {
   "cell_type": "markdown",
   "metadata": {
    "id": "40am6e1PyTRg"
   },
   "source": [
    "### <span style=\"color:red; font-size:1.5em;\">Завдання 10</span>\n",
    "\n",
    "**Для варіантів 11-15:**\n",
    "\n",
    "Обрахуйте середній час роботи (*hours-per-week*) тих людей, хто заробляє мало і багато (*salary*) для обох статей (*sex*)."
   ]
  },
  {
   "cell_type": "code",
   "execution_count": 13,
   "metadata": {
    "colab": {
     "base_uri": "https://localhost:8080/"
    },
    "executionInfo": {
     "elapsed": 229,
     "status": "ok",
     "timestamp": 1669193031693,
     "user": {
      "displayName": "Matviy Mashtalyar",
      "userId": "09378446567115214204"
     },
     "user_tz": -120
    },
    "id": "UOiAUltkyTRg",
    "outputId": "e057d856-1f8c-4fc6-f41e-d636554b56a9",
    "tags": []
   },
   "outputs": [
    {
     "data": {
      "text/plain": [
       "40.85082983297575"
      ]
     },
     "execution_count": 13,
     "metadata": {},
     "output_type": "execute_result"
    }
   ],
   "source": [
    "df.groupby(['salary', 'sex']).describe()['hours-per-week'][['mean']].mean()['mean']\n"
   ]
  }
 ],
 "metadata": {
  "anaconda-cloud": {},
  "colab": {
   "provenance": [
    {
     "file_id": "https://github.com/radiukpavlo/intelligent-data-analysis/blob/main/02_assignments/ida_lab-01_adult_pandas/ida_lab-01_adult_pandas.ipynb",
     "timestamp": 1669178900790
    }
   ]
  },
  "kernelspec": {
   "display_name": "Python 3 (ipykernel)",
   "language": "python",
   "name": "python3"
  },
  "language_info": {
   "codemirror_mode": {
    "name": "ipython",
    "version": 3
   },
   "file_extension": ".py",
   "mimetype": "text/x-python",
   "name": "python",
   "nbconvert_exporter": "python",
   "pygments_lexer": "ipython3",
   "version": "3.9.12"
  }
 },
 "nbformat": 4,
 "nbformat_minor": 1
}
