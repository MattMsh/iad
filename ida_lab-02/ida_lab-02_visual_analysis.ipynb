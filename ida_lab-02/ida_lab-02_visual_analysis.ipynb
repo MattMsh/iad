{
 "cells": [
  {
   "cell_type": "markdown",
   "metadata": {
    "id": "wJDRFGtTHquF"
   },
   "source": [
    "<h1><center>Лабораторна робота 2.</center></h1>\n",
    "<h2><center>Візуальний аналіз даних щодо публікацій на Хабрахабр</center></h2>"
   ]
  },
  {
   "cell_type": "markdown",
   "metadata": {
    "id": "l1pROd-LHquI"
   },
   "source": [
    "**Виконав:** Машталяр М.Б.\n",
    "\n",
    "**Варіант:** №14"
   ]
  },
  {
   "cell_type": "markdown",
   "metadata": {
    "id": "-Z6_jzN-HquJ"
   },
   "source": [
    "<a class=\"anchor\" id=\"lab-2\"></a>"
   ]
  },
  {
   "cell_type": "markdown",
   "metadata": {
    "id": "n9fEYH4GHquJ",
    "tags": []
   },
   "source": [
    "## Зміст\n",
    "\n",
    "1. [Завантаження і знайомство з даними](#lab-2.1)\n",
    "2. [Завдання](#lab-2.2)"
   ]
  },
  {
   "cell_type": "code",
   "execution_count": 1,
   "metadata": {
    "colab": {
     "base_uri": "https://localhost:8080/",
     "height": 17
    },
    "executionInfo": {
     "elapsed": 7,
     "status": "ok",
     "timestamp": 1673265096066,
     "user": {
      "displayName": "Matviy Mashtalyar",
      "userId": "09378446567115214204"
     },
     "user_tz": -120
    },
    "id": "1nu_0EgWHquK",
    "outputId": "e1a33974-38e2-463a-dec8-74431ee7442f",
    "tags": []
   },
   "outputs": [
    {
     "data": {
      "text/html": [
       "        <script type=\"text/javascript\">\n",
       "        window.PlotlyConfig = {MathJaxConfig: 'local'};\n",
       "        if (window.MathJax) {MathJax.Hub.Config({SVG: {font: \"STIX-Web\"}});}\n",
       "        if (typeof require !== 'undefined') {\n",
       "        require.undef(\"plotly\");\n",
       "        requirejs.config({\n",
       "            paths: {\n",
       "                'plotly': ['https://cdn.plot.ly/plotly-2.9.0.min']\n",
       "            }\n",
       "        });\n",
       "        require(['plotly'], function(Plotly) {\n",
       "            window._Plotly = Plotly;\n",
       "        });\n",
       "        }\n",
       "        </script>\n",
       "        "
      ]
     },
     "metadata": {},
     "output_type": "display_data"
    }
   ],
   "source": [
    "# завантажуємо потрібні бібліотеки\n",
    "\n",
    "import pandas as pd\n",
    "%matplotlib inline\n",
    "%matplotlib notebook\n",
    "import seaborn as sns\n",
    "import matplotlib.pyplot as plt\n",
    "\n",
    "from plotly.offline import download_plotlyjs, init_notebook_mode, plot, iplot\n",
    "import plotly\n",
    "import plotly.graph_objs as go\n",
    "import plotly.express as px\n",
    "\n",
    "import requests\n",
    "import io\n",
    "\n",
    "init_notebook_mode(connected=True)\n",
    "\n",
    "plt.style.use('ggplot')\n",
    "plt.rcParams['figure.figsize'] = 10, 6"
   ]
  },
  {
   "cell_type": "markdown",
   "metadata": {
    "id": "iXHiSbweHquL",
    "tags": []
   },
   "source": [
    "<a class=\"anchor\" id=\"lab-2.1\"></a>"
   ]
  },
  {
   "cell_type": "markdown",
   "metadata": {
    "id": "iFOac8JMHquL",
    "tags": []
   },
   "source": [
    "## <span style=\"color:blue; font-size:1.2em;\">2.1. Завантаження і знайомство з даними</span>\n",
    "\n",
    "[Повернутися до змісту](#lab-2)"
   ]
  },
  {
   "cell_type": "markdown",
   "metadata": {
    "id": "3XOvysXDHquM"
   },
   "source": [
    "Для лабораторної роботи Вам знадобляться попередньо оформлені дані з навчального конкурсу на Kaggle [«Прогноз популярности статьи на Хабре»](https://www.kaggle.com/c/howpop-habrahabr-favs)."
   ]
  },
  {
   "cell_type": "code",
   "execution_count": 2,
   "metadata": {
    "executionInfo": {
     "elapsed": 2230,
     "status": "ok",
     "timestamp": 1673265124813,
     "user": {
      "displayName": "Matviy Mashtalyar",
      "userId": "09378446567115214204"
     },
     "user_tz": -120
    },
    "id": "zyjhOApuHquM"
   },
   "outputs": [],
   "source": [
    "howpop_train_url = 'howpop_train.csv'\n",
    "\n",
    "df = pd.read_csv(howpop_train_url)"
   ]
  },
  {
   "cell_type": "code",
   "execution_count": 3,
   "metadata": {
    "colab": {
     "base_uri": "https://localhost:8080/"
    },
    "executionInfo": {
     "elapsed": 11,
     "status": "ok",
     "timestamp": 1673265126171,
     "user": {
      "displayName": "Matviy Mashtalyar",
      "userId": "09378446567115214204"
     },
     "user_tz": -120
    },
    "id": "R-ghY8o5HquN",
    "outputId": "d168d868-f56c-4a37-f72f-7bd80efd95e2"
   },
   "outputs": [
    {
     "data": {
      "text/plain": [
       "(134137, 17)"
      ]
     },
     "execution_count": 3,
     "metadata": {},
     "output_type": "execute_result"
    }
   ],
   "source": [
    "df.shape"
   ]
  },
  {
   "cell_type": "code",
   "execution_count": 4,
   "metadata": {
    "colab": {
     "base_uri": "https://localhost:8080/",
     "height": 637
    },
    "executionInfo": {
     "elapsed": 299,
     "status": "ok",
     "timestamp": 1673265127999,
     "user": {
      "displayName": "Matviy Mashtalyar",
      "userId": "09378446567115214204"
     },
     "user_tz": -120
    },
    "id": "CYT_tdOAHquN",
    "outputId": "7a324d34-9e75-419f-a9a9-6ae608c22725"
   },
   "outputs": [
    {
     "data": {
      "text/html": [
       "<div>\n",
       "<style scoped>\n",
       "    .dataframe tbody tr th:only-of-type {\n",
       "        vertical-align: middle;\n",
       "    }\n",
       "\n",
       "    .dataframe tbody tr th {\n",
       "        vertical-align: top;\n",
       "    }\n",
       "\n",
       "    .dataframe thead th {\n",
       "        text-align: right;\n",
       "    }\n",
       "</style>\n",
       "<table border=\"1\" class=\"dataframe\">\n",
       "  <thead>\n",
       "    <tr style=\"text-align: right;\">\n",
       "      <th></th>\n",
       "      <th>0</th>\n",
       "      <th>1</th>\n",
       "      <th>2</th>\n",
       "    </tr>\n",
       "  </thead>\n",
       "  <tbody>\n",
       "    <tr>\n",
       "      <th>url</th>\n",
       "      <td>https://habrahabr.ru/post/18284/</td>\n",
       "      <td>https://habrahabr.ru/post/18285/</td>\n",
       "      <td>https://habrahabr.ru/post/18286/</td>\n",
       "    </tr>\n",
       "    <tr>\n",
       "      <th>domain</th>\n",
       "      <td>habrahabr.ru</td>\n",
       "      <td>habrahabr.ru</td>\n",
       "      <td>habrahabr.ru</td>\n",
       "    </tr>\n",
       "    <tr>\n",
       "      <th>post_id</th>\n",
       "      <td>18284</td>\n",
       "      <td>18285</td>\n",
       "      <td>18286</td>\n",
       "    </tr>\n",
       "    <tr>\n",
       "      <th>published</th>\n",
       "      <td>2008-01-01 18:19:00</td>\n",
       "      <td>2008-01-01 18:30:00</td>\n",
       "      <td>2008-01-01 18:34:00</td>\n",
       "    </tr>\n",
       "    <tr>\n",
       "      <th>author</th>\n",
       "      <td>@Tapac</td>\n",
       "      <td>@DezmASter</td>\n",
       "      <td>@DezmASter</td>\n",
       "    </tr>\n",
       "    <tr>\n",
       "      <th>flow</th>\n",
       "      <td>develop</td>\n",
       "      <td>design</td>\n",
       "      <td>design</td>\n",
       "    </tr>\n",
       "    <tr>\n",
       "      <th>polling</th>\n",
       "      <td>False</td>\n",
       "      <td>False</td>\n",
       "      <td>False</td>\n",
       "    </tr>\n",
       "    <tr>\n",
       "      <th>content_len</th>\n",
       "      <td>4305</td>\n",
       "      <td>7344</td>\n",
       "      <td>8431</td>\n",
       "    </tr>\n",
       "    <tr>\n",
       "      <th>title</th>\n",
       "      <td>Новогодний подарок блоггерам — WordPress 2.3.2</td>\n",
       "      <td>Сумасшедшие яйца, или сервис для отслеживания ...</td>\n",
       "      <td>Сумасшедшие яйца, или сервис для отслеживания ...</td>\n",
       "    </tr>\n",
       "    <tr>\n",
       "      <th>comments</th>\n",
       "      <td>0</td>\n",
       "      <td>1</td>\n",
       "      <td>47</td>\n",
       "    </tr>\n",
       "    <tr>\n",
       "      <th>favs</th>\n",
       "      <td>0</td>\n",
       "      <td>1</td>\n",
       "      <td>72</td>\n",
       "    </tr>\n",
       "    <tr>\n",
       "      <th>views</th>\n",
       "      <td>236</td>\n",
       "      <td>353</td>\n",
       "      <td>1200</td>\n",
       "    </tr>\n",
       "    <tr>\n",
       "      <th>votes_plus</th>\n",
       "      <td>0.0</td>\n",
       "      <td>1.0</td>\n",
       "      <td>45.0</td>\n",
       "    </tr>\n",
       "    <tr>\n",
       "      <th>votes_minus</th>\n",
       "      <td>0.0</td>\n",
       "      <td>0.0</td>\n",
       "      <td>5.0</td>\n",
       "    </tr>\n",
       "    <tr>\n",
       "      <th>views_lognorm</th>\n",
       "      <td>-0.792687</td>\n",
       "      <td>-0.485214</td>\n",
       "      <td>0.44609</td>\n",
       "    </tr>\n",
       "    <tr>\n",
       "      <th>favs_lognorm</th>\n",
       "      <td>-1.344075</td>\n",
       "      <td>-0.831946</td>\n",
       "      <td>1.794023</td>\n",
       "    </tr>\n",
       "    <tr>\n",
       "      <th>comments_lognorm</th>\n",
       "      <td>-2.436871</td>\n",
       "      <td>-1.873193</td>\n",
       "      <td>0.574656</td>\n",
       "    </tr>\n",
       "  </tbody>\n",
       "</table>\n",
       "</div>"
      ],
      "text/plain": [
       "                                                               0  \\\n",
       "url                             https://habrahabr.ru/post/18284/   \n",
       "domain                                              habrahabr.ru   \n",
       "post_id                                                    18284   \n",
       "published                                    2008-01-01 18:19:00   \n",
       "author                                                    @Tapac   \n",
       "flow                                                     develop   \n",
       "polling                                                    False   \n",
       "content_len                                                 4305   \n",
       "title             Новогодний подарок блоггерам — WordPress 2.3.2   \n",
       "comments                                                       0   \n",
       "favs                                                           0   \n",
       "views                                                        236   \n",
       "votes_plus                                                   0.0   \n",
       "votes_minus                                                  0.0   \n",
       "views_lognorm                                          -0.792687   \n",
       "favs_lognorm                                           -1.344075   \n",
       "comments_lognorm                                       -2.436871   \n",
       "\n",
       "                                                                  1  \\\n",
       "url                                https://habrahabr.ru/post/18285/   \n",
       "domain                                                 habrahabr.ru   \n",
       "post_id                                                       18285   \n",
       "published                                       2008-01-01 18:30:00   \n",
       "author                                                   @DezmASter   \n",
       "flow                                                         design   \n",
       "polling                                                       False   \n",
       "content_len                                                    7344   \n",
       "title             Сумасшедшие яйца, или сервис для отслеживания ...   \n",
       "comments                                                          1   \n",
       "favs                                                              1   \n",
       "views                                                           353   \n",
       "votes_plus                                                      1.0   \n",
       "votes_minus                                                     0.0   \n",
       "views_lognorm                                             -0.485214   \n",
       "favs_lognorm                                              -0.831946   \n",
       "comments_lognorm                                          -1.873193   \n",
       "\n",
       "                                                                  2  \n",
       "url                                https://habrahabr.ru/post/18286/  \n",
       "domain                                                 habrahabr.ru  \n",
       "post_id                                                       18286  \n",
       "published                                       2008-01-01 18:34:00  \n",
       "author                                                   @DezmASter  \n",
       "flow                                                         design  \n",
       "polling                                                       False  \n",
       "content_len                                                    8431  \n",
       "title             Сумасшедшие яйца, или сервис для отслеживания ...  \n",
       "comments                                                         47  \n",
       "favs                                                             72  \n",
       "views                                                          1200  \n",
       "votes_plus                                                     45.0  \n",
       "votes_minus                                                     5.0  \n",
       "views_lognorm                                               0.44609  \n",
       "favs_lognorm                                               1.794023  \n",
       "comments_lognorm                                           0.574656  "
      ]
     },
     "execution_count": 4,
     "metadata": {},
     "output_type": "execute_result"
    }
   ],
   "source": [
    "df.head(3).T"
   ]
  },
  {
   "cell_type": "markdown",
   "metadata": {
    "id": "vMsp56INHquN"
   },
   "source": [
    "Відразу відкинемо змінні, назви яких закінчуються на `_lognorm` (потрібні для змагання на Kaggle). Виберемо їх за допомогою `filter()` і видалимо за допомогою `drop`."
   ]
  },
  {
   "cell_type": "code",
   "execution_count": 5,
   "metadata": {
    "id": "bFYQswsvHquN"
   },
   "outputs": [],
   "source": [
    "df.drop(filter(lambda c: c.endswith('_lognorm'), df.columns), \n",
    "        axis = 1,       # axis = 1: стовпці \n",
    "        inplace = True) # позбавляє необхідності зберігати набір даних"
   ]
  },
  {
   "cell_type": "code",
   "execution_count": 6,
   "metadata": {
    "colab": {
     "base_uri": "https://localhost:8080/",
     "height": 333
    },
    "executionInfo": {
     "elapsed": 258,
     "status": "ok",
     "timestamp": 1673263621449,
     "user": {
      "displayName": "Matviy Mashtalyar",
      "userId": "09378446567115214204"
     },
     "user_tz": -120
    },
    "id": "Ai7atiV5HquO",
    "outputId": "55203c4e-f5dd-4c21-9e21-e78acd394ab6"
   },
   "outputs": [
    {
     "data": {
      "text/html": [
       "<div>\n",
       "<style scoped>\n",
       "    .dataframe tbody tr th:only-of-type {\n",
       "        vertical-align: middle;\n",
       "    }\n",
       "\n",
       "    .dataframe tbody tr th {\n",
       "        vertical-align: top;\n",
       "    }\n",
       "\n",
       "    .dataframe thead th {\n",
       "        text-align: right;\n",
       "    }\n",
       "</style>\n",
       "<table border=\"1\" class=\"dataframe\">\n",
       "  <thead>\n",
       "    <tr style=\"text-align: right;\">\n",
       "      <th></th>\n",
       "      <th>count</th>\n",
       "      <th>mean</th>\n",
       "      <th>std</th>\n",
       "      <th>min</th>\n",
       "      <th>25%</th>\n",
       "      <th>50%</th>\n",
       "      <th>75%</th>\n",
       "      <th>max</th>\n",
       "    </tr>\n",
       "  </thead>\n",
       "  <tbody>\n",
       "    <tr>\n",
       "      <th>post_id</th>\n",
       "      <td>134137.0</td>\n",
       "      <td>181307.054265</td>\n",
       "      <td>81766.350702</td>\n",
       "      <td>18284.0</td>\n",
       "      <td>115565.0</td>\n",
       "      <td>182666.0</td>\n",
       "      <td>257401.0</td>\n",
       "      <td>314088.0</td>\n",
       "    </tr>\n",
       "    <tr>\n",
       "      <th>content_len</th>\n",
       "      <td>134137.0</td>\n",
       "      <td>7516.929699</td>\n",
       "      <td>8724.771640</td>\n",
       "      <td>1.0</td>\n",
       "      <td>2179.0</td>\n",
       "      <td>4949.0</td>\n",
       "      <td>9858.0</td>\n",
       "      <td>352471.0</td>\n",
       "    </tr>\n",
       "    <tr>\n",
       "      <th>comments</th>\n",
       "      <td>134137.0</td>\n",
       "      <td>39.625994</td>\n",
       "      <td>62.398958</td>\n",
       "      <td>0.0</td>\n",
       "      <td>7.0</td>\n",
       "      <td>19.0</td>\n",
       "      <td>48.0</td>\n",
       "      <td>2266.0</td>\n",
       "    </tr>\n",
       "    <tr>\n",
       "      <th>favs</th>\n",
       "      <td>134137.0</td>\n",
       "      <td>71.999866</td>\n",
       "      <td>145.854135</td>\n",
       "      <td>0.0</td>\n",
       "      <td>8.0</td>\n",
       "      <td>27.0</td>\n",
       "      <td>78.0</td>\n",
       "      <td>8718.0</td>\n",
       "    </tr>\n",
       "    <tr>\n",
       "      <th>views</th>\n",
       "      <td>134137.0</td>\n",
       "      <td>16631.013084</td>\n",
       "      <td>31479.819691</td>\n",
       "      <td>3.0</td>\n",
       "      <td>2100.0</td>\n",
       "      <td>7600.0</td>\n",
       "      <td>18700.0</td>\n",
       "      <td>1730000.0</td>\n",
       "    </tr>\n",
       "    <tr>\n",
       "      <th>votes_plus</th>\n",
       "      <td>133566.0</td>\n",
       "      <td>35.536888</td>\n",
       "      <td>42.461073</td>\n",
       "      <td>0.0</td>\n",
       "      <td>11.0</td>\n",
       "      <td>22.0</td>\n",
       "      <td>45.0</td>\n",
       "      <td>1466.0</td>\n",
       "    </tr>\n",
       "    <tr>\n",
       "      <th>votes_minus</th>\n",
       "      <td>133566.0</td>\n",
       "      <td>8.050035</td>\n",
       "      <td>11.398282</td>\n",
       "      <td>0.0</td>\n",
       "      <td>2.0</td>\n",
       "      <td>5.0</td>\n",
       "      <td>10.0</td>\n",
       "      <td>445.0</td>\n",
       "    </tr>\n",
       "  </tbody>\n",
       "</table>\n",
       "</div>"
      ],
      "text/plain": [
       "                count           mean           std      min       25%  \\\n",
       "post_id      134137.0  181307.054265  81766.350702  18284.0  115565.0   \n",
       "content_len  134137.0    7516.929699   8724.771640      1.0    2179.0   \n",
       "comments     134137.0      39.625994     62.398958      0.0       7.0   \n",
       "favs         134137.0      71.999866    145.854135      0.0       8.0   \n",
       "views        134137.0   16631.013084  31479.819691      3.0    2100.0   \n",
       "votes_plus   133566.0      35.536888     42.461073      0.0      11.0   \n",
       "votes_minus  133566.0       8.050035     11.398282      0.0       2.0   \n",
       "\n",
       "                  50%       75%        max  \n",
       "post_id      182666.0  257401.0   314088.0  \n",
       "content_len    4949.0    9858.0   352471.0  \n",
       "comments         19.0      48.0     2266.0  \n",
       "favs             27.0      78.0     8718.0  \n",
       "views          7600.0   18700.0  1730000.0  \n",
       "votes_plus       22.0      45.0     1466.0  \n",
       "votes_minus       5.0      10.0      445.0  "
      ]
     },
     "execution_count": 6,
     "metadata": {},
     "output_type": "execute_result"
    }
   ],
   "source": [
    "df.describe().T"
   ]
  },
  {
   "cell_type": "code",
   "execution_count": 7,
   "metadata": {
    "colab": {
     "base_uri": "https://localhost:8080/",
     "height": 266
    },
    "executionInfo": {
     "elapsed": 816,
     "status": "ok",
     "timestamp": 1673265131140,
     "user": {
      "displayName": "Matviy Mashtalyar",
      "userId": "09378446567115214204"
     },
     "user_tz": -120
    },
    "id": "lhWyTuZHHquO",
    "outputId": "45d4a75d-a2a5-4771-dbfc-37b429c149e3"
   },
   "outputs": [
    {
     "data": {
      "text/html": [
       "<div>\n",
       "<style scoped>\n",
       "    .dataframe tbody tr th:only-of-type {\n",
       "        vertical-align: middle;\n",
       "    }\n",
       "\n",
       "    .dataframe tbody tr th {\n",
       "        vertical-align: top;\n",
       "    }\n",
       "\n",
       "    .dataframe thead th {\n",
       "        text-align: right;\n",
       "    }\n",
       "</style>\n",
       "<table border=\"1\" class=\"dataframe\">\n",
       "  <thead>\n",
       "    <tr style=\"text-align: right;\">\n",
       "      <th></th>\n",
       "      <th>count</th>\n",
       "      <th>unique</th>\n",
       "      <th>top</th>\n",
       "      <th>freq</th>\n",
       "    </tr>\n",
       "  </thead>\n",
       "  <tbody>\n",
       "    <tr>\n",
       "      <th>url</th>\n",
       "      <td>134137</td>\n",
       "      <td>134137</td>\n",
       "      <td>https://habrahabr.ru/post/18284/</td>\n",
       "      <td>1</td>\n",
       "    </tr>\n",
       "    <tr>\n",
       "      <th>domain</th>\n",
       "      <td>134137</td>\n",
       "      <td>2</td>\n",
       "      <td>habrahabr.ru</td>\n",
       "      <td>97048</td>\n",
       "    </tr>\n",
       "    <tr>\n",
       "      <th>published</th>\n",
       "      <td>134137</td>\n",
       "      <td>130291</td>\n",
       "      <td>2011-06-14 15:52:00</td>\n",
       "      <td>39</td>\n",
       "    </tr>\n",
       "    <tr>\n",
       "      <th>author</th>\n",
       "      <td>97657</td>\n",
       "      <td>22077</td>\n",
       "      <td>@alizar</td>\n",
       "      <td>5292</td>\n",
       "    </tr>\n",
       "    <tr>\n",
       "      <th>flow</th>\n",
       "      <td>97048</td>\n",
       "      <td>6</td>\n",
       "      <td>develop</td>\n",
       "      <td>53318</td>\n",
       "    </tr>\n",
       "    <tr>\n",
       "      <th>polling</th>\n",
       "      <td>134137</td>\n",
       "      <td>2</td>\n",
       "      <td>False</td>\n",
       "      <td>129412</td>\n",
       "    </tr>\n",
       "    <tr>\n",
       "      <th>title</th>\n",
       "      <td>134137</td>\n",
       "      <td>133628</td>\n",
       "      <td>Интересные события, произошедшие в выходные</td>\n",
       "      <td>56</td>\n",
       "    </tr>\n",
       "  </tbody>\n",
       "</table>\n",
       "</div>"
      ],
      "text/plain": [
       "            count  unique                                          top    freq\n",
       "url        134137  134137             https://habrahabr.ru/post/18284/       1\n",
       "domain     134137       2                                 habrahabr.ru   97048\n",
       "published  134137  130291                          2011-06-14 15:52:00      39\n",
       "author      97657   22077                                      @alizar    5292\n",
       "flow        97048       6                                      develop   53318\n",
       "polling    134137       2                                        False  129412\n",
       "title      134137  133628  Интересные события, произошедшие в выходные      56"
      ]
     },
     "execution_count": 7,
     "metadata": {},
     "output_type": "execute_result"
    }
   ],
   "source": [
    "# бінарні і категоріальні змінні\n",
    "df.describe(include = ['object', 'bool']).T"
   ]
  },
  {
   "cell_type": "code",
   "execution_count": 8,
   "metadata": {
    "executionInfo": {
     "elapsed": 268,
     "status": "ok",
     "timestamp": 1673265132688,
     "user": {
      "displayName": "Matviy Mashtalyar",
      "userId": "09378446567115214204"
     },
     "user_tz": -120
    },
    "id": "bNbYCxUKHquO"
   },
   "outputs": [],
   "source": [
    "# налаштування зовнішнього вигляду графіків у seaborn\n",
    "\n",
    "sns.set_style(\"dark\")\n",
    "sns.set_palette(\"RdBu\")\n",
    "sns.set_context(\"notebook\", font_scale = 1.5, \n",
    "                rc = { \"figure.figsize\" : (15, 5), \"axes.titlesize\" : 18 })"
   ]
  },
  {
   "cell_type": "markdown",
   "metadata": {
    "id": "4uJ9Rvl5HquP"
   },
   "source": [
    "Стовпець **`published`** (час публікації) містить рядки. Для робити з цими даними як з датою/часом публікації, приведемо їх до типу `datetime`."
   ]
  },
  {
   "cell_type": "code",
   "execution_count": 9,
   "metadata": {
    "colab": {
     "base_uri": "https://localhost:8080/"
    },
    "executionInfo": {
     "elapsed": 3,
     "status": "ok",
     "timestamp": 1673265134806,
     "user": {
      "displayName": "Matviy Mashtalyar",
      "userId": "09378446567115214204"
     },
     "user_tz": -120
    },
    "id": "p5HBGxWaHquP",
    "outputId": "55aa5fe1-ec29-4953-a97b-e9482846f5a5"
   },
   "outputs": [
    {
     "name": "stdout",
     "output_type": "stream",
     "text": [
      "object\n",
      "datetime64[ns]\n"
     ]
    }
   ],
   "source": [
    "print(df.published.dtype)\n",
    "df['published'] = pd.to_datetime(df.published, yearfirst = True)\n",
    "print(df.published.dtype)"
   ]
  },
  {
   "cell_type": "markdown",
   "metadata": {
    "id": "Z01Pcg6jHquP"
   },
   "source": [
    "Створимо декілька стовпців на основі даних щодо часу публікації."
   ]
  },
  {
   "cell_type": "code",
   "execution_count": 10,
   "metadata": {
    "executionInfo": {
     "elapsed": 3719,
     "status": "ok",
     "timestamp": 1673265140284,
     "user": {
      "displayName": "Matviy Mashtalyar",
      "userId": "09378446567115214204"
     },
     "user_tz": -120
    },
    "id": "I-jY-4gXHquP"
   },
   "outputs": [],
   "source": [
    "df['year'] = df.published.apply(lambda ts: ts.year)\n",
    "df['month'] = df.published.apply(lambda ts: ts.month)\n",
    "df['day'] = df.published.apply(lambda ts: ts.day)\n",
    "df['dayofweek'] = df.published.apply(lambda ts: ts.isoweekday())\n",
    "df['hour'] = df.published.apply(lambda ts: ts.hour)"
   ]
  },
  {
   "cell_type": "markdown",
   "metadata": {
    "id": "CSAwAHoLHquP"
   },
   "source": [
    "-----\n",
    "<a class=\"anchor\" id=\"lab-2.2\"></a>"
   ]
  },
  {
   "cell_type": "markdown",
   "metadata": {
    "id": "Aq-FrknPHquP"
   },
   "source": [
    "## <span style=\"color:blue; font-size:1.2em;\">2.2. Завдання</span>\n",
    "\n",
    "[Повернутися до змісту](#lab-2)"
   ]
  },
  {
   "cell_type": "markdown",
   "metadata": {
    "id": "_lFiI8tCHquP"
   },
   "source": [
    "Дайте відповіді на запитання з використанням інструментів візуалізації."
   ]
  },
  {
   "cell_type": "markdown",
   "metadata": {
    "id": "usBic-tDHquQ"
   },
   "source": [
    "### <span style=\"color:red; font-size:1.5em;\">Завдання 1</span>\n",
    "\n",
    "**Для всіх варіантів:**\n",
    "\n",
    "В якому місяці (і якого року) було найбільше публікацій?\n",
    "\n",
    "* Березень 2016\n",
    "* Березень 2015\n",
    "* Квітень 2015\n",
    "* Квітень 2016"
   ]
  },
  {
   "cell_type": "code",
   "execution_count": 11,
   "metadata": {
    "colab": {
     "base_uri": "https://localhost:8080/",
     "height": 34
    },
    "executionInfo": {
     "elapsed": 302,
     "status": "ok",
     "timestamp": 1673265147544,
     "user": {
      "displayName": "Matviy Mashtalyar",
      "userId": "09378446567115214204"
     },
     "user_tz": -120
    },
    "id": "uiKC6oTAHquQ",
    "outputId": "02df4e02-47a7-4578-86ab-4446adfbbc5c"
   },
   "outputs": [
    {
     "data": {
      "application/javascript": [
       "/* Put everything inside the global mpl namespace */\n",
       "/* global mpl */\n",
       "window.mpl = {};\n",
       "\n",
       "mpl.get_websocket_type = function () {\n",
       "    if (typeof WebSocket !== 'undefined') {\n",
       "        return WebSocket;\n",
       "    } else if (typeof MozWebSocket !== 'undefined') {\n",
       "        return MozWebSocket;\n",
       "    } else {\n",
       "        alert(\n",
       "            'Your browser does not have WebSocket support. ' +\n",
       "                'Please try Chrome, Safari or Firefox ≥ 6. ' +\n",
       "                'Firefox 4 and 5 are also supported but you ' +\n",
       "                'have to enable WebSockets in about:config.'\n",
       "        );\n",
       "    }\n",
       "};\n",
       "\n",
       "mpl.figure = function (figure_id, websocket, ondownload, parent_element) {\n",
       "    this.id = figure_id;\n",
       "\n",
       "    this.ws = websocket;\n",
       "\n",
       "    this.supports_binary = this.ws.binaryType !== undefined;\n",
       "\n",
       "    if (!this.supports_binary) {\n",
       "        var warnings = document.getElementById('mpl-warnings');\n",
       "        if (warnings) {\n",
       "            warnings.style.display = 'block';\n",
       "            warnings.textContent =\n",
       "                'This browser does not support binary websocket messages. ' +\n",
       "                'Performance may be slow.';\n",
       "        }\n",
       "    }\n",
       "\n",
       "    this.imageObj = new Image();\n",
       "\n",
       "    this.context = undefined;\n",
       "    this.message = undefined;\n",
       "    this.canvas = undefined;\n",
       "    this.rubberband_canvas = undefined;\n",
       "    this.rubberband_context = undefined;\n",
       "    this.format_dropdown = undefined;\n",
       "\n",
       "    this.image_mode = 'full';\n",
       "\n",
       "    this.root = document.createElement('div');\n",
       "    this.root.setAttribute('style', 'display: inline-block');\n",
       "    this._root_extra_style(this.root);\n",
       "\n",
       "    parent_element.appendChild(this.root);\n",
       "\n",
       "    this._init_header(this);\n",
       "    this._init_canvas(this);\n",
       "    this._init_toolbar(this);\n",
       "\n",
       "    var fig = this;\n",
       "\n",
       "    this.waiting = false;\n",
       "\n",
       "    this.ws.onopen = function () {\n",
       "        fig.send_message('supports_binary', { value: fig.supports_binary });\n",
       "        fig.send_message('send_image_mode', {});\n",
       "        if (fig.ratio !== 1) {\n",
       "            fig.send_message('set_device_pixel_ratio', {\n",
       "                device_pixel_ratio: fig.ratio,\n",
       "            });\n",
       "        }\n",
       "        fig.send_message('refresh', {});\n",
       "    };\n",
       "\n",
       "    this.imageObj.onload = function () {\n",
       "        if (fig.image_mode === 'full') {\n",
       "            // Full images could contain transparency (where diff images\n",
       "            // almost always do), so we need to clear the canvas so that\n",
       "            // there is no ghosting.\n",
       "            fig.context.clearRect(0, 0, fig.canvas.width, fig.canvas.height);\n",
       "        }\n",
       "        fig.context.drawImage(fig.imageObj, 0, 0);\n",
       "    };\n",
       "\n",
       "    this.imageObj.onunload = function () {\n",
       "        fig.ws.close();\n",
       "    };\n",
       "\n",
       "    this.ws.onmessage = this._make_on_message_function(this);\n",
       "\n",
       "    this.ondownload = ondownload;\n",
       "};\n",
       "\n",
       "mpl.figure.prototype._init_header = function () {\n",
       "    var titlebar = document.createElement('div');\n",
       "    titlebar.classList =\n",
       "        'ui-dialog-titlebar ui-widget-header ui-corner-all ui-helper-clearfix';\n",
       "    var titletext = document.createElement('div');\n",
       "    titletext.classList = 'ui-dialog-title';\n",
       "    titletext.setAttribute(\n",
       "        'style',\n",
       "        'width: 100%; text-align: center; padding: 3px;'\n",
       "    );\n",
       "    titlebar.appendChild(titletext);\n",
       "    this.root.appendChild(titlebar);\n",
       "    this.header = titletext;\n",
       "};\n",
       "\n",
       "mpl.figure.prototype._canvas_extra_style = function (_canvas_div) {};\n",
       "\n",
       "mpl.figure.prototype._root_extra_style = function (_canvas_div) {};\n",
       "\n",
       "mpl.figure.prototype._init_canvas = function () {\n",
       "    var fig = this;\n",
       "\n",
       "    var canvas_div = (this.canvas_div = document.createElement('div'));\n",
       "    canvas_div.setAttribute(\n",
       "        'style',\n",
       "        'border: 1px solid #ddd;' +\n",
       "            'box-sizing: content-box;' +\n",
       "            'clear: both;' +\n",
       "            'min-height: 1px;' +\n",
       "            'min-width: 1px;' +\n",
       "            'outline: 0;' +\n",
       "            'overflow: hidden;' +\n",
       "            'position: relative;' +\n",
       "            'resize: both;'\n",
       "    );\n",
       "\n",
       "    function on_keyboard_event_closure(name) {\n",
       "        return function (event) {\n",
       "            return fig.key_event(event, name);\n",
       "        };\n",
       "    }\n",
       "\n",
       "    canvas_div.addEventListener(\n",
       "        'keydown',\n",
       "        on_keyboard_event_closure('key_press')\n",
       "    );\n",
       "    canvas_div.addEventListener(\n",
       "        'keyup',\n",
       "        on_keyboard_event_closure('key_release')\n",
       "    );\n",
       "\n",
       "    this._canvas_extra_style(canvas_div);\n",
       "    this.root.appendChild(canvas_div);\n",
       "\n",
       "    var canvas = (this.canvas = document.createElement('canvas'));\n",
       "    canvas.classList.add('mpl-canvas');\n",
       "    canvas.setAttribute('style', 'box-sizing: content-box;');\n",
       "\n",
       "    this.context = canvas.getContext('2d');\n",
       "\n",
       "    var backingStore =\n",
       "        this.context.backingStorePixelRatio ||\n",
       "        this.context.webkitBackingStorePixelRatio ||\n",
       "        this.context.mozBackingStorePixelRatio ||\n",
       "        this.context.msBackingStorePixelRatio ||\n",
       "        this.context.oBackingStorePixelRatio ||\n",
       "        this.context.backingStorePixelRatio ||\n",
       "        1;\n",
       "\n",
       "    this.ratio = (window.devicePixelRatio || 1) / backingStore;\n",
       "\n",
       "    var rubberband_canvas = (this.rubberband_canvas = document.createElement(\n",
       "        'canvas'\n",
       "    ));\n",
       "    rubberband_canvas.setAttribute(\n",
       "        'style',\n",
       "        'box-sizing: content-box; position: absolute; left: 0; top: 0; z-index: 1;'\n",
       "    );\n",
       "\n",
       "    // Apply a ponyfill if ResizeObserver is not implemented by browser.\n",
       "    if (this.ResizeObserver === undefined) {\n",
       "        if (window.ResizeObserver !== undefined) {\n",
       "            this.ResizeObserver = window.ResizeObserver;\n",
       "        } else {\n",
       "            var obs = _JSXTOOLS_RESIZE_OBSERVER({});\n",
       "            this.ResizeObserver = obs.ResizeObserver;\n",
       "        }\n",
       "    }\n",
       "\n",
       "    this.resizeObserverInstance = new this.ResizeObserver(function (entries) {\n",
       "        var nentries = entries.length;\n",
       "        for (var i = 0; i < nentries; i++) {\n",
       "            var entry = entries[i];\n",
       "            var width, height;\n",
       "            if (entry.contentBoxSize) {\n",
       "                if (entry.contentBoxSize instanceof Array) {\n",
       "                    // Chrome 84 implements new version of spec.\n",
       "                    width = entry.contentBoxSize[0].inlineSize;\n",
       "                    height = entry.contentBoxSize[0].blockSize;\n",
       "                } else {\n",
       "                    // Firefox implements old version of spec.\n",
       "                    width = entry.contentBoxSize.inlineSize;\n",
       "                    height = entry.contentBoxSize.blockSize;\n",
       "                }\n",
       "            } else {\n",
       "                // Chrome <84 implements even older version of spec.\n",
       "                width = entry.contentRect.width;\n",
       "                height = entry.contentRect.height;\n",
       "            }\n",
       "\n",
       "            // Keep the size of the canvas and rubber band canvas in sync with\n",
       "            // the canvas container.\n",
       "            if (entry.devicePixelContentBoxSize) {\n",
       "                // Chrome 84 implements new version of spec.\n",
       "                canvas.setAttribute(\n",
       "                    'width',\n",
       "                    entry.devicePixelContentBoxSize[0].inlineSize\n",
       "                );\n",
       "                canvas.setAttribute(\n",
       "                    'height',\n",
       "                    entry.devicePixelContentBoxSize[0].blockSize\n",
       "                );\n",
       "            } else {\n",
       "                canvas.setAttribute('width', width * fig.ratio);\n",
       "                canvas.setAttribute('height', height * fig.ratio);\n",
       "            }\n",
       "            canvas.setAttribute(\n",
       "                'style',\n",
       "                'width: ' + width + 'px; height: ' + height + 'px;'\n",
       "            );\n",
       "\n",
       "            rubberband_canvas.setAttribute('width', width);\n",
       "            rubberband_canvas.setAttribute('height', height);\n",
       "\n",
       "            // And update the size in Python. We ignore the initial 0/0 size\n",
       "            // that occurs as the element is placed into the DOM, which should\n",
       "            // otherwise not happen due to the minimum size styling.\n",
       "            if (fig.ws.readyState == 1 && width != 0 && height != 0) {\n",
       "                fig.request_resize(width, height);\n",
       "            }\n",
       "        }\n",
       "    });\n",
       "    this.resizeObserverInstance.observe(canvas_div);\n",
       "\n",
       "    function on_mouse_event_closure(name) {\n",
       "        return function (event) {\n",
       "            return fig.mouse_event(event, name);\n",
       "        };\n",
       "    }\n",
       "\n",
       "    rubberband_canvas.addEventListener(\n",
       "        'mousedown',\n",
       "        on_mouse_event_closure('button_press')\n",
       "    );\n",
       "    rubberband_canvas.addEventListener(\n",
       "        'mouseup',\n",
       "        on_mouse_event_closure('button_release')\n",
       "    );\n",
       "    rubberband_canvas.addEventListener(\n",
       "        'dblclick',\n",
       "        on_mouse_event_closure('dblclick')\n",
       "    );\n",
       "    // Throttle sequential mouse events to 1 every 20ms.\n",
       "    rubberband_canvas.addEventListener(\n",
       "        'mousemove',\n",
       "        on_mouse_event_closure('motion_notify')\n",
       "    );\n",
       "\n",
       "    rubberband_canvas.addEventListener(\n",
       "        'mouseenter',\n",
       "        on_mouse_event_closure('figure_enter')\n",
       "    );\n",
       "    rubberband_canvas.addEventListener(\n",
       "        'mouseleave',\n",
       "        on_mouse_event_closure('figure_leave')\n",
       "    );\n",
       "\n",
       "    canvas_div.addEventListener('wheel', function (event) {\n",
       "        if (event.deltaY < 0) {\n",
       "            event.step = 1;\n",
       "        } else {\n",
       "            event.step = -1;\n",
       "        }\n",
       "        on_mouse_event_closure('scroll')(event);\n",
       "    });\n",
       "\n",
       "    canvas_div.appendChild(canvas);\n",
       "    canvas_div.appendChild(rubberband_canvas);\n",
       "\n",
       "    this.rubberband_context = rubberband_canvas.getContext('2d');\n",
       "    this.rubberband_context.strokeStyle = '#000000';\n",
       "\n",
       "    this._resize_canvas = function (width, height, forward) {\n",
       "        if (forward) {\n",
       "            canvas_div.style.width = width + 'px';\n",
       "            canvas_div.style.height = height + 'px';\n",
       "        }\n",
       "    };\n",
       "\n",
       "    // Disable right mouse context menu.\n",
       "    this.rubberband_canvas.addEventListener('contextmenu', function (_e) {\n",
       "        event.preventDefault();\n",
       "        return false;\n",
       "    });\n",
       "\n",
       "    function set_focus() {\n",
       "        canvas.focus();\n",
       "        canvas_div.focus();\n",
       "    }\n",
       "\n",
       "    window.setTimeout(set_focus, 100);\n",
       "};\n",
       "\n",
       "mpl.figure.prototype._init_toolbar = function () {\n",
       "    var fig = this;\n",
       "\n",
       "    var toolbar = document.createElement('div');\n",
       "    toolbar.classList = 'mpl-toolbar';\n",
       "    this.root.appendChild(toolbar);\n",
       "\n",
       "    function on_click_closure(name) {\n",
       "        return function (_event) {\n",
       "            return fig.toolbar_button_onclick(name);\n",
       "        };\n",
       "    }\n",
       "\n",
       "    function on_mouseover_closure(tooltip) {\n",
       "        return function (event) {\n",
       "            if (!event.currentTarget.disabled) {\n",
       "                return fig.toolbar_button_onmouseover(tooltip);\n",
       "            }\n",
       "        };\n",
       "    }\n",
       "\n",
       "    fig.buttons = {};\n",
       "    var buttonGroup = document.createElement('div');\n",
       "    buttonGroup.classList = 'mpl-button-group';\n",
       "    for (var toolbar_ind in mpl.toolbar_items) {\n",
       "        var name = mpl.toolbar_items[toolbar_ind][0];\n",
       "        var tooltip = mpl.toolbar_items[toolbar_ind][1];\n",
       "        var image = mpl.toolbar_items[toolbar_ind][2];\n",
       "        var method_name = mpl.toolbar_items[toolbar_ind][3];\n",
       "\n",
       "        if (!name) {\n",
       "            /* Instead of a spacer, we start a new button group. */\n",
       "            if (buttonGroup.hasChildNodes()) {\n",
       "                toolbar.appendChild(buttonGroup);\n",
       "            }\n",
       "            buttonGroup = document.createElement('div');\n",
       "            buttonGroup.classList = 'mpl-button-group';\n",
       "            continue;\n",
       "        }\n",
       "\n",
       "        var button = (fig.buttons[name] = document.createElement('button'));\n",
       "        button.classList = 'mpl-widget';\n",
       "        button.setAttribute('role', 'button');\n",
       "        button.setAttribute('aria-disabled', 'false');\n",
       "        button.addEventListener('click', on_click_closure(method_name));\n",
       "        button.addEventListener('mouseover', on_mouseover_closure(tooltip));\n",
       "\n",
       "        var icon_img = document.createElement('img');\n",
       "        icon_img.src = '_images/' + image + '.png';\n",
       "        icon_img.srcset = '_images/' + image + '_large.png 2x';\n",
       "        icon_img.alt = tooltip;\n",
       "        button.appendChild(icon_img);\n",
       "\n",
       "        buttonGroup.appendChild(button);\n",
       "    }\n",
       "\n",
       "    if (buttonGroup.hasChildNodes()) {\n",
       "        toolbar.appendChild(buttonGroup);\n",
       "    }\n",
       "\n",
       "    var fmt_picker = document.createElement('select');\n",
       "    fmt_picker.classList = 'mpl-widget';\n",
       "    toolbar.appendChild(fmt_picker);\n",
       "    this.format_dropdown = fmt_picker;\n",
       "\n",
       "    for (var ind in mpl.extensions) {\n",
       "        var fmt = mpl.extensions[ind];\n",
       "        var option = document.createElement('option');\n",
       "        option.selected = fmt === mpl.default_extension;\n",
       "        option.innerHTML = fmt;\n",
       "        fmt_picker.appendChild(option);\n",
       "    }\n",
       "\n",
       "    var status_bar = document.createElement('span');\n",
       "    status_bar.classList = 'mpl-message';\n",
       "    toolbar.appendChild(status_bar);\n",
       "    this.message = status_bar;\n",
       "};\n",
       "\n",
       "mpl.figure.prototype.request_resize = function (x_pixels, y_pixels) {\n",
       "    // Request matplotlib to resize the figure. Matplotlib will then trigger a resize in the client,\n",
       "    // which will in turn request a refresh of the image.\n",
       "    this.send_message('resize', { width: x_pixels, height: y_pixels });\n",
       "};\n",
       "\n",
       "mpl.figure.prototype.send_message = function (type, properties) {\n",
       "    properties['type'] = type;\n",
       "    properties['figure_id'] = this.id;\n",
       "    this.ws.send(JSON.stringify(properties));\n",
       "};\n",
       "\n",
       "mpl.figure.prototype.send_draw_message = function () {\n",
       "    if (!this.waiting) {\n",
       "        this.waiting = true;\n",
       "        this.ws.send(JSON.stringify({ type: 'draw', figure_id: this.id }));\n",
       "    }\n",
       "};\n",
       "\n",
       "mpl.figure.prototype.handle_save = function (fig, _msg) {\n",
       "    var format_dropdown = fig.format_dropdown;\n",
       "    var format = format_dropdown.options[format_dropdown.selectedIndex].value;\n",
       "    fig.ondownload(fig, format);\n",
       "};\n",
       "\n",
       "mpl.figure.prototype.handle_resize = function (fig, msg) {\n",
       "    var size = msg['size'];\n",
       "    if (size[0] !== fig.canvas.width || size[1] !== fig.canvas.height) {\n",
       "        fig._resize_canvas(size[0], size[1], msg['forward']);\n",
       "        fig.send_message('refresh', {});\n",
       "    }\n",
       "};\n",
       "\n",
       "mpl.figure.prototype.handle_rubberband = function (fig, msg) {\n",
       "    var x0 = msg['x0'] / fig.ratio;\n",
       "    var y0 = (fig.canvas.height - msg['y0']) / fig.ratio;\n",
       "    var x1 = msg['x1'] / fig.ratio;\n",
       "    var y1 = (fig.canvas.height - msg['y1']) / fig.ratio;\n",
       "    x0 = Math.floor(x0) + 0.5;\n",
       "    y0 = Math.floor(y0) + 0.5;\n",
       "    x1 = Math.floor(x1) + 0.5;\n",
       "    y1 = Math.floor(y1) + 0.5;\n",
       "    var min_x = Math.min(x0, x1);\n",
       "    var min_y = Math.min(y0, y1);\n",
       "    var width = Math.abs(x1 - x0);\n",
       "    var height = Math.abs(y1 - y0);\n",
       "\n",
       "    fig.rubberband_context.clearRect(\n",
       "        0,\n",
       "        0,\n",
       "        fig.canvas.width / fig.ratio,\n",
       "        fig.canvas.height / fig.ratio\n",
       "    );\n",
       "\n",
       "    fig.rubberband_context.strokeRect(min_x, min_y, width, height);\n",
       "};\n",
       "\n",
       "mpl.figure.prototype.handle_figure_label = function (fig, msg) {\n",
       "    // Updates the figure title.\n",
       "    fig.header.textContent = msg['label'];\n",
       "};\n",
       "\n",
       "mpl.figure.prototype.handle_cursor = function (fig, msg) {\n",
       "    fig.rubberband_canvas.style.cursor = msg['cursor'];\n",
       "};\n",
       "\n",
       "mpl.figure.prototype.handle_message = function (fig, msg) {\n",
       "    fig.message.textContent = msg['message'];\n",
       "};\n",
       "\n",
       "mpl.figure.prototype.handle_draw = function (fig, _msg) {\n",
       "    // Request the server to send over a new figure.\n",
       "    fig.send_draw_message();\n",
       "};\n",
       "\n",
       "mpl.figure.prototype.handle_image_mode = function (fig, msg) {\n",
       "    fig.image_mode = msg['mode'];\n",
       "};\n",
       "\n",
       "mpl.figure.prototype.handle_history_buttons = function (fig, msg) {\n",
       "    for (var key in msg) {\n",
       "        if (!(key in fig.buttons)) {\n",
       "            continue;\n",
       "        }\n",
       "        fig.buttons[key].disabled = !msg[key];\n",
       "        fig.buttons[key].setAttribute('aria-disabled', !msg[key]);\n",
       "    }\n",
       "};\n",
       "\n",
       "mpl.figure.prototype.handle_navigate_mode = function (fig, msg) {\n",
       "    if (msg['mode'] === 'PAN') {\n",
       "        fig.buttons['Pan'].classList.add('active');\n",
       "        fig.buttons['Zoom'].classList.remove('active');\n",
       "    } else if (msg['mode'] === 'ZOOM') {\n",
       "        fig.buttons['Pan'].classList.remove('active');\n",
       "        fig.buttons['Zoom'].classList.add('active');\n",
       "    } else {\n",
       "        fig.buttons['Pan'].classList.remove('active');\n",
       "        fig.buttons['Zoom'].classList.remove('active');\n",
       "    }\n",
       "};\n",
       "\n",
       "mpl.figure.prototype.updated_canvas_event = function () {\n",
       "    // Called whenever the canvas gets updated.\n",
       "    this.send_message('ack', {});\n",
       "};\n",
       "\n",
       "// A function to construct a web socket function for onmessage handling.\n",
       "// Called in the figure constructor.\n",
       "mpl.figure.prototype._make_on_message_function = function (fig) {\n",
       "    return function socket_on_message(evt) {\n",
       "        if (evt.data instanceof Blob) {\n",
       "            var img = evt.data;\n",
       "            if (img.type !== 'image/png') {\n",
       "                /* FIXME: We get \"Resource interpreted as Image but\n",
       "                 * transferred with MIME type text/plain:\" errors on\n",
       "                 * Chrome.  But how to set the MIME type?  It doesn't seem\n",
       "                 * to be part of the websocket stream */\n",
       "                img.type = 'image/png';\n",
       "            }\n",
       "\n",
       "            /* Free the memory for the previous frames */\n",
       "            if (fig.imageObj.src) {\n",
       "                (window.URL || window.webkitURL).revokeObjectURL(\n",
       "                    fig.imageObj.src\n",
       "                );\n",
       "            }\n",
       "\n",
       "            fig.imageObj.src = (window.URL || window.webkitURL).createObjectURL(\n",
       "                img\n",
       "            );\n",
       "            fig.updated_canvas_event();\n",
       "            fig.waiting = false;\n",
       "            return;\n",
       "        } else if (\n",
       "            typeof evt.data === 'string' &&\n",
       "            evt.data.slice(0, 21) === 'data:image/png;base64'\n",
       "        ) {\n",
       "            fig.imageObj.src = evt.data;\n",
       "            fig.updated_canvas_event();\n",
       "            fig.waiting = false;\n",
       "            return;\n",
       "        }\n",
       "\n",
       "        var msg = JSON.parse(evt.data);\n",
       "        var msg_type = msg['type'];\n",
       "\n",
       "        // Call the  \"handle_{type}\" callback, which takes\n",
       "        // the figure and JSON message as its only arguments.\n",
       "        try {\n",
       "            var callback = fig['handle_' + msg_type];\n",
       "        } catch (e) {\n",
       "            console.log(\n",
       "                \"No handler for the '\" + msg_type + \"' message type: \",\n",
       "                msg\n",
       "            );\n",
       "            return;\n",
       "        }\n",
       "\n",
       "        if (callback) {\n",
       "            try {\n",
       "                // console.log(\"Handling '\" + msg_type + \"' message: \", msg);\n",
       "                callback(fig, msg);\n",
       "            } catch (e) {\n",
       "                console.log(\n",
       "                    \"Exception inside the 'handler_\" + msg_type + \"' callback:\",\n",
       "                    e,\n",
       "                    e.stack,\n",
       "                    msg\n",
       "                );\n",
       "            }\n",
       "        }\n",
       "    };\n",
       "};\n",
       "\n",
       "// from https://stackoverflow.com/questions/1114465/getting-mouse-location-in-canvas\n",
       "mpl.findpos = function (e) {\n",
       "    //this section is from http://www.quirksmode.org/js/events_properties.html\n",
       "    var targ;\n",
       "    if (!e) {\n",
       "        e = window.event;\n",
       "    }\n",
       "    if (e.target) {\n",
       "        targ = e.target;\n",
       "    } else if (e.srcElement) {\n",
       "        targ = e.srcElement;\n",
       "    }\n",
       "    if (targ.nodeType === 3) {\n",
       "        // defeat Safari bug\n",
       "        targ = targ.parentNode;\n",
       "    }\n",
       "\n",
       "    // pageX,Y are the mouse positions relative to the document\n",
       "    var boundingRect = targ.getBoundingClientRect();\n",
       "    var x = e.pageX - (boundingRect.left + document.body.scrollLeft);\n",
       "    var y = e.pageY - (boundingRect.top + document.body.scrollTop);\n",
       "\n",
       "    return { x: x, y: y };\n",
       "};\n",
       "\n",
       "/*\n",
       " * return a copy of an object with only non-object keys\n",
       " * we need this to avoid circular references\n",
       " * https://stackoverflow.com/a/24161582/3208463\n",
       " */\n",
       "function simpleKeys(original) {\n",
       "    return Object.keys(original).reduce(function (obj, key) {\n",
       "        if (typeof original[key] !== 'object') {\n",
       "            obj[key] = original[key];\n",
       "        }\n",
       "        return obj;\n",
       "    }, {});\n",
       "}\n",
       "\n",
       "mpl.figure.prototype.mouse_event = function (event, name) {\n",
       "    var canvas_pos = mpl.findpos(event);\n",
       "\n",
       "    if (name === 'button_press') {\n",
       "        this.canvas.focus();\n",
       "        this.canvas_div.focus();\n",
       "    }\n",
       "\n",
       "    var x = canvas_pos.x * this.ratio;\n",
       "    var y = canvas_pos.y * this.ratio;\n",
       "\n",
       "    this.send_message(name, {\n",
       "        x: x,\n",
       "        y: y,\n",
       "        button: event.button,\n",
       "        step: event.step,\n",
       "        guiEvent: simpleKeys(event),\n",
       "    });\n",
       "\n",
       "    /* This prevents the web browser from automatically changing to\n",
       "     * the text insertion cursor when the button is pressed.  We want\n",
       "     * to control all of the cursor setting manually through the\n",
       "     * 'cursor' event from matplotlib */\n",
       "    event.preventDefault();\n",
       "    return false;\n",
       "};\n",
       "\n",
       "mpl.figure.prototype._key_event_extra = function (_event, _name) {\n",
       "    // Handle any extra behaviour associated with a key event\n",
       "};\n",
       "\n",
       "mpl.figure.prototype.key_event = function (event, name) {\n",
       "    // Prevent repeat events\n",
       "    if (name === 'key_press') {\n",
       "        if (event.key === this._key) {\n",
       "            return;\n",
       "        } else {\n",
       "            this._key = event.key;\n",
       "        }\n",
       "    }\n",
       "    if (name === 'key_release') {\n",
       "        this._key = null;\n",
       "    }\n",
       "\n",
       "    var value = '';\n",
       "    if (event.ctrlKey && event.key !== 'Control') {\n",
       "        value += 'ctrl+';\n",
       "    }\n",
       "    else if (event.altKey && event.key !== 'Alt') {\n",
       "        value += 'alt+';\n",
       "    }\n",
       "    else if (event.shiftKey && event.key !== 'Shift') {\n",
       "        value += 'shift+';\n",
       "    }\n",
       "\n",
       "    value += 'k' + event.key;\n",
       "\n",
       "    this._key_event_extra(event, name);\n",
       "\n",
       "    this.send_message(name, { key: value, guiEvent: simpleKeys(event) });\n",
       "    return false;\n",
       "};\n",
       "\n",
       "mpl.figure.prototype.toolbar_button_onclick = function (name) {\n",
       "    if (name === 'download') {\n",
       "        this.handle_save(this, null);\n",
       "    } else {\n",
       "        this.send_message('toolbar_button', { name: name });\n",
       "    }\n",
       "};\n",
       "\n",
       "mpl.figure.prototype.toolbar_button_onmouseover = function (tooltip) {\n",
       "    this.message.textContent = tooltip;\n",
       "};\n",
       "\n",
       "///////////////// REMAINING CONTENT GENERATED BY embed_js.py /////////////////\n",
       "// prettier-ignore\n",
       "var _JSXTOOLS_RESIZE_OBSERVER=function(A){var t,i=new WeakMap,n=new WeakMap,a=new WeakMap,r=new WeakMap,o=new Set;function s(e){if(!(this instanceof s))throw new TypeError(\"Constructor requires 'new' operator\");i.set(this,e)}function h(){throw new TypeError(\"Function is not a constructor\")}function c(e,t,i,n){e=0 in arguments?Number(arguments[0]):0,t=1 in arguments?Number(arguments[1]):0,i=2 in arguments?Number(arguments[2]):0,n=3 in arguments?Number(arguments[3]):0,this.right=(this.x=this.left=e)+(this.width=i),this.bottom=(this.y=this.top=t)+(this.height=n),Object.freeze(this)}function d(){t=requestAnimationFrame(d);var s=new WeakMap,p=new Set;o.forEach((function(t){r.get(t).forEach((function(i){var r=t instanceof window.SVGElement,o=a.get(t),d=r?0:parseFloat(o.paddingTop),f=r?0:parseFloat(o.paddingRight),l=r?0:parseFloat(o.paddingBottom),u=r?0:parseFloat(o.paddingLeft),g=r?0:parseFloat(o.borderTopWidth),m=r?0:parseFloat(o.borderRightWidth),w=r?0:parseFloat(o.borderBottomWidth),b=u+f,F=d+l,v=(r?0:parseFloat(o.borderLeftWidth))+m,W=g+w,y=r?0:t.offsetHeight-W-t.clientHeight,E=r?0:t.offsetWidth-v-t.clientWidth,R=b+v,z=F+W,M=r?t.width:parseFloat(o.width)-R-E,O=r?t.height:parseFloat(o.height)-z-y;if(n.has(t)){var k=n.get(t);if(k[0]===M&&k[1]===O)return}n.set(t,[M,O]);var S=Object.create(h.prototype);S.target=t,S.contentRect=new c(u,d,M,O),s.has(i)||(s.set(i,[]),p.add(i)),s.get(i).push(S)}))})),p.forEach((function(e){i.get(e).call(e,s.get(e),e)}))}return s.prototype.observe=function(i){if(i instanceof window.Element){r.has(i)||(r.set(i,new Set),o.add(i),a.set(i,window.getComputedStyle(i)));var n=r.get(i);n.has(this)||n.add(this),cancelAnimationFrame(t),t=requestAnimationFrame(d)}},s.prototype.unobserve=function(i){if(i instanceof window.Element&&r.has(i)){var n=r.get(i);n.has(this)&&(n.delete(this),n.size||(r.delete(i),o.delete(i))),n.size||r.delete(i),o.size||cancelAnimationFrame(t)}},A.DOMRectReadOnly=c,A.ResizeObserver=s,A.ResizeObserverEntry=h,A}; // eslint-disable-line\n",
       "mpl.toolbar_items = [[\"Home\", \"Reset original view\", \"fa fa-home icon-home\", \"home\"], [\"Back\", \"Back to previous view\", \"fa fa-arrow-left icon-arrow-left\", \"back\"], [\"Forward\", \"Forward to next view\", \"fa fa-arrow-right icon-arrow-right\", \"forward\"], [\"\", \"\", \"\", \"\"], [\"Pan\", \"Left button pans, Right button zooms\\nx/y fixes axis, CTRL fixes aspect\", \"fa fa-arrows icon-move\", \"pan\"], [\"Zoom\", \"Zoom to rectangle\\nx/y fixes axis\", \"fa fa-square-o icon-check-empty\", \"zoom\"], [\"\", \"\", \"\", \"\"], [\"Download\", \"Download plot\", \"fa fa-floppy-o icon-save\", \"download\"]];\n",
       "\n",
       "mpl.extensions = [\"eps\", \"jpeg\", \"pgf\", \"pdf\", \"png\", \"ps\", \"raw\", \"svg\", \"tif\"];\n",
       "\n",
       "mpl.default_extension = \"png\";/* global mpl */\n",
       "\n",
       "var comm_websocket_adapter = function (comm) {\n",
       "    // Create a \"websocket\"-like object which calls the given IPython comm\n",
       "    // object with the appropriate methods. Currently this is a non binary\n",
       "    // socket, so there is still some room for performance tuning.\n",
       "    var ws = {};\n",
       "\n",
       "    ws.binaryType = comm.kernel.ws.binaryType;\n",
       "    ws.readyState = comm.kernel.ws.readyState;\n",
       "    function updateReadyState(_event) {\n",
       "        if (comm.kernel.ws) {\n",
       "            ws.readyState = comm.kernel.ws.readyState;\n",
       "        } else {\n",
       "            ws.readyState = 3; // Closed state.\n",
       "        }\n",
       "    }\n",
       "    comm.kernel.ws.addEventListener('open', updateReadyState);\n",
       "    comm.kernel.ws.addEventListener('close', updateReadyState);\n",
       "    comm.kernel.ws.addEventListener('error', updateReadyState);\n",
       "\n",
       "    ws.close = function () {\n",
       "        comm.close();\n",
       "    };\n",
       "    ws.send = function (m) {\n",
       "        //console.log('sending', m);\n",
       "        comm.send(m);\n",
       "    };\n",
       "    // Register the callback with on_msg.\n",
       "    comm.on_msg(function (msg) {\n",
       "        //console.log('receiving', msg['content']['data'], msg);\n",
       "        var data = msg['content']['data'];\n",
       "        if (data['blob'] !== undefined) {\n",
       "            data = {\n",
       "                data: new Blob(msg['buffers'], { type: data['blob'] }),\n",
       "            };\n",
       "        }\n",
       "        // Pass the mpl event to the overridden (by mpl) onmessage function.\n",
       "        ws.onmessage(data);\n",
       "    });\n",
       "    return ws;\n",
       "};\n",
       "\n",
       "mpl.mpl_figure_comm = function (comm, msg) {\n",
       "    // This is the function which gets called when the mpl process\n",
       "    // starts-up an IPython Comm through the \"matplotlib\" channel.\n",
       "\n",
       "    var id = msg.content.data.id;\n",
       "    // Get hold of the div created by the display call when the Comm\n",
       "    // socket was opened in Python.\n",
       "    var element = document.getElementById(id);\n",
       "    var ws_proxy = comm_websocket_adapter(comm);\n",
       "\n",
       "    function ondownload(figure, _format) {\n",
       "        window.open(figure.canvas.toDataURL());\n",
       "    }\n",
       "\n",
       "    var fig = new mpl.figure(id, ws_proxy, ondownload, element);\n",
       "\n",
       "    // Call onopen now - mpl needs it, as it is assuming we've passed it a real\n",
       "    // web socket which is closed, not our websocket->open comm proxy.\n",
       "    ws_proxy.onopen();\n",
       "\n",
       "    fig.parent_element = element;\n",
       "    fig.cell_info = mpl.find_output_cell(\"<div id='\" + id + \"'></div>\");\n",
       "    if (!fig.cell_info) {\n",
       "        console.error('Failed to find cell for figure', id, fig);\n",
       "        return;\n",
       "    }\n",
       "    fig.cell_info[0].output_area.element.on(\n",
       "        'cleared',\n",
       "        { fig: fig },\n",
       "        fig._remove_fig_handler\n",
       "    );\n",
       "};\n",
       "\n",
       "mpl.figure.prototype.handle_close = function (fig, msg) {\n",
       "    var width = fig.canvas.width / fig.ratio;\n",
       "    fig.cell_info[0].output_area.element.off(\n",
       "        'cleared',\n",
       "        fig._remove_fig_handler\n",
       "    );\n",
       "    fig.resizeObserverInstance.unobserve(fig.canvas_div);\n",
       "\n",
       "    // Update the output cell to use the data from the current canvas.\n",
       "    fig.push_to_output();\n",
       "    var dataURL = fig.canvas.toDataURL();\n",
       "    // Re-enable the keyboard manager in IPython - without this line, in FF,\n",
       "    // the notebook keyboard shortcuts fail.\n",
       "    IPython.keyboard_manager.enable();\n",
       "    fig.parent_element.innerHTML =\n",
       "        '<img src=\"' + dataURL + '\" width=\"' + width + '\">';\n",
       "    fig.close_ws(fig, msg);\n",
       "};\n",
       "\n",
       "mpl.figure.prototype.close_ws = function (fig, msg) {\n",
       "    fig.send_message('closing', msg);\n",
       "    // fig.ws.close()\n",
       "};\n",
       "\n",
       "mpl.figure.prototype.push_to_output = function (_remove_interactive) {\n",
       "    // Turn the data on the canvas into data in the output cell.\n",
       "    var width = this.canvas.width / this.ratio;\n",
       "    var dataURL = this.canvas.toDataURL();\n",
       "    this.cell_info[1]['text/html'] =\n",
       "        '<img src=\"' + dataURL + '\" width=\"' + width + '\">';\n",
       "};\n",
       "\n",
       "mpl.figure.prototype.updated_canvas_event = function () {\n",
       "    // Tell IPython that the notebook contents must change.\n",
       "    IPython.notebook.set_dirty(true);\n",
       "    this.send_message('ack', {});\n",
       "    var fig = this;\n",
       "    // Wait a second, then push the new image to the DOM so\n",
       "    // that it is saved nicely (might be nice to debounce this).\n",
       "    setTimeout(function () {\n",
       "        fig.push_to_output();\n",
       "    }, 1000);\n",
       "};\n",
       "\n",
       "mpl.figure.prototype._init_toolbar = function () {\n",
       "    var fig = this;\n",
       "\n",
       "    var toolbar = document.createElement('div');\n",
       "    toolbar.classList = 'btn-toolbar';\n",
       "    this.root.appendChild(toolbar);\n",
       "\n",
       "    function on_click_closure(name) {\n",
       "        return function (_event) {\n",
       "            return fig.toolbar_button_onclick(name);\n",
       "        };\n",
       "    }\n",
       "\n",
       "    function on_mouseover_closure(tooltip) {\n",
       "        return function (event) {\n",
       "            if (!event.currentTarget.disabled) {\n",
       "                return fig.toolbar_button_onmouseover(tooltip);\n",
       "            }\n",
       "        };\n",
       "    }\n",
       "\n",
       "    fig.buttons = {};\n",
       "    var buttonGroup = document.createElement('div');\n",
       "    buttonGroup.classList = 'btn-group';\n",
       "    var button;\n",
       "    for (var toolbar_ind in mpl.toolbar_items) {\n",
       "        var name = mpl.toolbar_items[toolbar_ind][0];\n",
       "        var tooltip = mpl.toolbar_items[toolbar_ind][1];\n",
       "        var image = mpl.toolbar_items[toolbar_ind][2];\n",
       "        var method_name = mpl.toolbar_items[toolbar_ind][3];\n",
       "\n",
       "        if (!name) {\n",
       "            /* Instead of a spacer, we start a new button group. */\n",
       "            if (buttonGroup.hasChildNodes()) {\n",
       "                toolbar.appendChild(buttonGroup);\n",
       "            }\n",
       "            buttonGroup = document.createElement('div');\n",
       "            buttonGroup.classList = 'btn-group';\n",
       "            continue;\n",
       "        }\n",
       "\n",
       "        button = fig.buttons[name] = document.createElement('button');\n",
       "        button.classList = 'btn btn-default';\n",
       "        button.href = '#';\n",
       "        button.title = name;\n",
       "        button.innerHTML = '<i class=\"fa ' + image + ' fa-lg\"></i>';\n",
       "        button.addEventListener('click', on_click_closure(method_name));\n",
       "        button.addEventListener('mouseover', on_mouseover_closure(tooltip));\n",
       "        buttonGroup.appendChild(button);\n",
       "    }\n",
       "\n",
       "    if (buttonGroup.hasChildNodes()) {\n",
       "        toolbar.appendChild(buttonGroup);\n",
       "    }\n",
       "\n",
       "    // Add the status bar.\n",
       "    var status_bar = document.createElement('span');\n",
       "    status_bar.classList = 'mpl-message pull-right';\n",
       "    toolbar.appendChild(status_bar);\n",
       "    this.message = status_bar;\n",
       "\n",
       "    // Add the close button to the window.\n",
       "    var buttongrp = document.createElement('div');\n",
       "    buttongrp.classList = 'btn-group inline pull-right';\n",
       "    button = document.createElement('button');\n",
       "    button.classList = 'btn btn-mini btn-primary';\n",
       "    button.href = '#';\n",
       "    button.title = 'Stop Interaction';\n",
       "    button.innerHTML = '<i class=\"fa fa-power-off icon-remove icon-large\"></i>';\n",
       "    button.addEventListener('click', function (_evt) {\n",
       "        fig.handle_close(fig, {});\n",
       "    });\n",
       "    button.addEventListener(\n",
       "        'mouseover',\n",
       "        on_mouseover_closure('Stop Interaction')\n",
       "    );\n",
       "    buttongrp.appendChild(button);\n",
       "    var titlebar = this.root.querySelector('.ui-dialog-titlebar');\n",
       "    titlebar.insertBefore(buttongrp, titlebar.firstChild);\n",
       "};\n",
       "\n",
       "mpl.figure.prototype._remove_fig_handler = function (event) {\n",
       "    var fig = event.data.fig;\n",
       "    if (event.target !== this) {\n",
       "        // Ignore bubbled events from children.\n",
       "        return;\n",
       "    }\n",
       "    fig.close_ws(fig, {});\n",
       "};\n",
       "\n",
       "mpl.figure.prototype._root_extra_style = function (el) {\n",
       "    el.style.boxSizing = 'content-box'; // override notebook setting of border-box.\n",
       "};\n",
       "\n",
       "mpl.figure.prototype._canvas_extra_style = function (el) {\n",
       "    // this is important to make the div 'focusable\n",
       "    el.setAttribute('tabindex', 0);\n",
       "    // reach out to IPython and tell the keyboard manager to turn it's self\n",
       "    // off when our div gets focus\n",
       "\n",
       "    // location in version 3\n",
       "    if (IPython.notebook.keyboard_manager) {\n",
       "        IPython.notebook.keyboard_manager.register_events(el);\n",
       "    } else {\n",
       "        // location in version 2\n",
       "        IPython.keyboard_manager.register_events(el);\n",
       "    }\n",
       "};\n",
       "\n",
       "mpl.figure.prototype._key_event_extra = function (event, _name) {\n",
       "    // Check for shift+enter\n",
       "    if (event.shiftKey && event.which === 13) {\n",
       "        this.canvas_div.blur();\n",
       "        // select the cell after this one\n",
       "        var index = IPython.notebook.find_cell_index(this.cell_info[0]);\n",
       "        IPython.notebook.select(index + 1);\n",
       "    }\n",
       "};\n",
       "\n",
       "mpl.figure.prototype.handle_save = function (fig, _msg) {\n",
       "    fig.ondownload(fig, null);\n",
       "};\n",
       "\n",
       "mpl.find_output_cell = function (html_output) {\n",
       "    // Return the cell and output element which can be found *uniquely* in the notebook.\n",
       "    // Note - this is a bit hacky, but it is done because the \"notebook_saving.Notebook\"\n",
       "    // IPython event is triggered only after the cells have been serialised, which for\n",
       "    // our purposes (turning an active figure into a static one), is too late.\n",
       "    var cells = IPython.notebook.get_cells();\n",
       "    var ncells = cells.length;\n",
       "    for (var i = 0; i < ncells; i++) {\n",
       "        var cell = cells[i];\n",
       "        if (cell.cell_type === 'code') {\n",
       "            for (var j = 0; j < cell.output_area.outputs.length; j++) {\n",
       "                var data = cell.output_area.outputs[j];\n",
       "                if (data.data) {\n",
       "                    // IPython >= 3 moved mimebundle to data attribute of output\n",
       "                    data = data.data;\n",
       "                }\n",
       "                if (data['text/html'] === html_output) {\n",
       "                    return [cell, data, j];\n",
       "                }\n",
       "            }\n",
       "        }\n",
       "    }\n",
       "};\n",
       "\n",
       "// Register the function which deals with the matplotlib target/channel.\n",
       "// The kernel may be null if the page has been refreshed.\n",
       "if (IPython.notebook.kernel !== null) {\n",
       "    IPython.notebook.kernel.comm_manager.register_target(\n",
       "        'matplotlib',\n",
       "        mpl.mpl_figure_comm\n",
       "    );\n",
       "}\n"
      ],
      "text/plain": [
       "<IPython.core.display.Javascript object>"
      ]
     },
     "metadata": {},
     "output_type": "display_data"
    },
    {
     "data": {
      "text/html": [
       "<img src=\"data:image/png;base64,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\" width=\"720\">"
      ],
      "text/plain": [
       "<IPython.core.display.HTML object>"
      ]
     },
     "metadata": {},
     "output_type": "display_data"
    },
    {
     "data": {
      "text/plain": [
       "<AxesSubplot:title={'center':'Кількість публікацій'}, xlabel='year,month'>"
      ]
     },
     "execution_count": 11,
     "metadata": {},
     "output_type": "execute_result"
    }
   ],
   "source": [
    "# Ваш код тут\n",
    "df[df['year'].isin([2015, 2016]) & (df['month'].isin([3, 4]))].groupby(['year', 'month'])['post_id'].agg(['count'])\\\n",
    "  .plot(title='Кількість публікацій')\n",
    "\n",
    "# ⭕️ Згідно результатів найбільше публікацій було в березні 15-го року"
   ]
  },
  {
   "cell_type": "markdown",
   "metadata": {
    "id": "XxptKWUyHquQ"
   },
   "source": [
    "### <span style=\"color:red; font-size:1.5em;\">Завдання 2</span>\n",
    "\n",
    "**Проаналізуйте публікації в місяці з попереднього питання.**\n",
    "\n",
    "**Для варіантів 11-15:**\n",
    "\n",
    "Зобразіть порівнняня публікацій на Хабрі та на Гіктаймсі. Чи правда, що на Хабрі щодня більше статей, ніж на Гіктаймсі?  \n",
    "**⭕️ Ні, неправда (14-го та 21-го числа кількість публікацій на Хабрі було меньше ніж на Гіктаймсі)**"
   ]
  },
  {
   "cell_type": "code",
   "execution_count": 12,
   "metadata": {
    "executionInfo": {
     "elapsed": 269,
     "status": "ok",
     "timestamp": 1673265151268,
     "user": {
      "displayName": "Matviy Mashtalyar",
      "userId": "09378446567115214204"
     },
     "user_tz": -120
    },
    "id": "f-EFRZ62HquQ"
   },
   "outputs": [],
   "source": [
    "x = df[(df['year']== 2015) & (df['month'] == 3)].groupby(['domain', 'day'])['post_id'].agg(['count']).reset_index()"
   ]
  },
  {
   "cell_type": "code",
   "execution_count": 13,
   "metadata": {
    "colab": {
     "base_uri": "https://localhost:8080/",
     "height": 417
    },
    "executionInfo": {
     "elapsed": 9,
     "status": "ok",
     "timestamp": 1673265152453,
     "user": {
      "displayName": "Matviy Mashtalyar",
      "userId": "09378446567115214204"
     },
     "user_tz": -120
    },
    "id": "JxL087KpHquQ",
    "outputId": "bc93f2d2-97e8-4d3d-ecc2-8009051f4e13"
   },
   "outputs": [
    {
     "data": {
      "application/vnd.plotly.v1+json": {
       "config": {
        "plotlyServerURL": "https://plot.ly"
       },
       "data": [
        {
         "hovertemplate": "domain=geektimes.ru<br>day=%{x}<br>count=%{text}<extra></extra>",
         "legendgroup": "geektimes.ru",
         "line": {
          "color": "#636efa",
          "dash": "solid"
         },
         "marker": {
          "symbol": "circle"
         },
         "mode": "markers+text+lines",
         "name": "geektimes.ru",
         "orientation": "v",
         "showlegend": true,
         "text": [
          6,
          25,
          29,
          37,
          31,
          21,
          11,
          8,
          18,
          29,
          26,
          30,
          24,
          17,
          11,
          32,
          38,
          29,
          29,
          28,
          14,
          12,
          27,
          33,
          32,
          26,
          34,
          15,
          15,
          27,
          41
         ],
         "textposition": "top center",
         "type": "scatter",
         "x": [
          1,
          2,
          3,
          4,
          5,
          6,
          7,
          8,
          9,
          10,
          11,
          12,
          13,
          14,
          15,
          16,
          17,
          18,
          19,
          20,
          21,
          22,
          23,
          24,
          25,
          26,
          27,
          28,
          29,
          30,
          31
         ],
         "xaxis": "x",
         "y": [
          6,
          25,
          29,
          37,
          31,
          21,
          11,
          8,
          18,
          29,
          26,
          30,
          24,
          17,
          11,
          32,
          38,
          29,
          29,
          28,
          14,
          12,
          27,
          33,
          32,
          26,
          34,
          15,
          15,
          27,
          41
         ],
         "yaxis": "y"
        },
        {
         "hovertemplate": "domain=habrahabr.ru<br>day=%{x}<br>count=%{text}<extra></extra>",
         "legendgroup": "habrahabr.ru",
         "line": {
          "color": "#EF553B",
          "dash": "solid"
         },
         "marker": {
          "symbol": "circle"
         },
         "mode": "markers+text+lines",
         "name": "habrahabr.ru",
         "orientation": "v",
         "showlegend": true,
         "text": [
          26,
          73,
          65,
          61,
          41,
          50,
          20,
          18,
          24,
          69,
          66,
          69,
          54,
          13,
          19,
          67,
          69,
          51,
          59,
          46,
          8,
          18,
          51,
          53,
          60,
          63,
          58,
          17,
          23,
          52,
          71
         ],
         "textposition": "top center",
         "type": "scatter",
         "x": [
          1,
          2,
          3,
          4,
          5,
          6,
          7,
          8,
          9,
          10,
          11,
          12,
          13,
          14,
          15,
          16,
          17,
          18,
          19,
          20,
          21,
          22,
          23,
          24,
          25,
          26,
          27,
          28,
          29,
          30,
          31
         ],
         "xaxis": "x",
         "y": [
          26,
          73,
          65,
          61,
          41,
          50,
          20,
          18,
          24,
          69,
          66,
          69,
          54,
          13,
          19,
          67,
          69,
          51,
          59,
          46,
          8,
          18,
          51,
          53,
          60,
          63,
          58,
          17,
          23,
          52,
          71
         ],
         "yaxis": "y"
        }
       ],
       "layout": {
        "height": 400,
        "legend": {
         "title": {
          "text": "domain"
         },
         "tracegroupgap": 0
        },
        "margin": {
         "t": 60
        },
        "plot_bgcolor": "white",
        "template": {
         "data": {
          "bar": [
           {
            "error_x": {
             "color": "#2a3f5f"
            },
            "error_y": {
             "color": "#2a3f5f"
            },
            "marker": {
             "line": {
              "color": "#E5ECF6",
              "width": 0.5
             },
             "pattern": {
              "fillmode": "overlay",
              "size": 10,
              "solidity": 0.2
             }
            },
            "type": "bar"
           }
          ],
          "barpolar": [
           {
            "marker": {
             "line": {
              "color": "#E5ECF6",
              "width": 0.5
             },
             "pattern": {
              "fillmode": "overlay",
              "size": 10,
              "solidity": 0.2
             }
            },
            "type": "barpolar"
           }
          ],
          "carpet": [
           {
            "aaxis": {
             "endlinecolor": "#2a3f5f",
             "gridcolor": "white",
             "linecolor": "white",
             "minorgridcolor": "white",
             "startlinecolor": "#2a3f5f"
            },
            "baxis": {
             "endlinecolor": "#2a3f5f",
             "gridcolor": "white",
             "linecolor": "white",
             "minorgridcolor": "white",
             "startlinecolor": "#2a3f5f"
            },
            "type": "carpet"
           }
          ],
          "choropleth": [
           {
            "colorbar": {
             "outlinewidth": 0,
             "ticks": ""
            },
            "type": "choropleth"
           }
          ],
          "contour": [
           {
            "colorbar": {
             "outlinewidth": 0,
             "ticks": ""
            },
            "colorscale": [
             [
              0,
              "#0d0887"
             ],
             [
              0.1111111111111111,
              "#46039f"
             ],
             [
              0.2222222222222222,
              "#7201a8"
             ],
             [
              0.3333333333333333,
              "#9c179e"
             ],
             [
              0.4444444444444444,
              "#bd3786"
             ],
             [
              0.5555555555555556,
              "#d8576b"
             ],
             [
              0.6666666666666666,
              "#ed7953"
             ],
             [
              0.7777777777777778,
              "#fb9f3a"
             ],
             [
              0.8888888888888888,
              "#fdca26"
             ],
             [
              1,
              "#f0f921"
             ]
            ],
            "type": "contour"
           }
          ],
          "contourcarpet": [
           {
            "colorbar": {
             "outlinewidth": 0,
             "ticks": ""
            },
            "type": "contourcarpet"
           }
          ],
          "heatmap": [
           {
            "colorbar": {
             "outlinewidth": 0,
             "ticks": ""
            },
            "colorscale": [
             [
              0,
              "#0d0887"
             ],
             [
              0.1111111111111111,
              "#46039f"
             ],
             [
              0.2222222222222222,
              "#7201a8"
             ],
             [
              0.3333333333333333,
              "#9c179e"
             ],
             [
              0.4444444444444444,
              "#bd3786"
             ],
             [
              0.5555555555555556,
              "#d8576b"
             ],
             [
              0.6666666666666666,
              "#ed7953"
             ],
             [
              0.7777777777777778,
              "#fb9f3a"
             ],
             [
              0.8888888888888888,
              "#fdca26"
             ],
             [
              1,
              "#f0f921"
             ]
            ],
            "type": "heatmap"
           }
          ],
          "heatmapgl": [
           {
            "colorbar": {
             "outlinewidth": 0,
             "ticks": ""
            },
            "colorscale": [
             [
              0,
              "#0d0887"
             ],
             [
              0.1111111111111111,
              "#46039f"
             ],
             [
              0.2222222222222222,
              "#7201a8"
             ],
             [
              0.3333333333333333,
              "#9c179e"
             ],
             [
              0.4444444444444444,
              "#bd3786"
             ],
             [
              0.5555555555555556,
              "#d8576b"
             ],
             [
              0.6666666666666666,
              "#ed7953"
             ],
             [
              0.7777777777777778,
              "#fb9f3a"
             ],
             [
              0.8888888888888888,
              "#fdca26"
             ],
             [
              1,
              "#f0f921"
             ]
            ],
            "type": "heatmapgl"
           }
          ],
          "histogram": [
           {
            "marker": {
             "pattern": {
              "fillmode": "overlay",
              "size": 10,
              "solidity": 0.2
             }
            },
            "type": "histogram"
           }
          ],
          "histogram2d": [
           {
            "colorbar": {
             "outlinewidth": 0,
             "ticks": ""
            },
            "colorscale": [
             [
              0,
              "#0d0887"
             ],
             [
              0.1111111111111111,
              "#46039f"
             ],
             [
              0.2222222222222222,
              "#7201a8"
             ],
             [
              0.3333333333333333,
              "#9c179e"
             ],
             [
              0.4444444444444444,
              "#bd3786"
             ],
             [
              0.5555555555555556,
              "#d8576b"
             ],
             [
              0.6666666666666666,
              "#ed7953"
             ],
             [
              0.7777777777777778,
              "#fb9f3a"
             ],
             [
              0.8888888888888888,
              "#fdca26"
             ],
             [
              1,
              "#f0f921"
             ]
            ],
            "type": "histogram2d"
           }
          ],
          "histogram2dcontour": [
           {
            "colorbar": {
             "outlinewidth": 0,
             "ticks": ""
            },
            "colorscale": [
             [
              0,
              "#0d0887"
             ],
             [
              0.1111111111111111,
              "#46039f"
             ],
             [
              0.2222222222222222,
              "#7201a8"
             ],
             [
              0.3333333333333333,
              "#9c179e"
             ],
             [
              0.4444444444444444,
              "#bd3786"
             ],
             [
              0.5555555555555556,
              "#d8576b"
             ],
             [
              0.6666666666666666,
              "#ed7953"
             ],
             [
              0.7777777777777778,
              "#fb9f3a"
             ],
             [
              0.8888888888888888,
              "#fdca26"
             ],
             [
              1,
              "#f0f921"
             ]
            ],
            "type": "histogram2dcontour"
           }
          ],
          "mesh3d": [
           {
            "colorbar": {
             "outlinewidth": 0,
             "ticks": ""
            },
            "type": "mesh3d"
           }
          ],
          "parcoords": [
           {
            "line": {
             "colorbar": {
              "outlinewidth": 0,
              "ticks": ""
             }
            },
            "type": "parcoords"
           }
          ],
          "pie": [
           {
            "automargin": true,
            "type": "pie"
           }
          ],
          "scatter": [
           {
            "marker": {
             "colorbar": {
              "outlinewidth": 0,
              "ticks": ""
             }
            },
            "type": "scatter"
           }
          ],
          "scatter3d": [
           {
            "line": {
             "colorbar": {
              "outlinewidth": 0,
              "ticks": ""
             }
            },
            "marker": {
             "colorbar": {
              "outlinewidth": 0,
              "ticks": ""
             }
            },
            "type": "scatter3d"
           }
          ],
          "scattercarpet": [
           {
            "marker": {
             "colorbar": {
              "outlinewidth": 0,
              "ticks": ""
             }
            },
            "type": "scattercarpet"
           }
          ],
          "scattergeo": [
           {
            "marker": {
             "colorbar": {
              "outlinewidth": 0,
              "ticks": ""
             }
            },
            "type": "scattergeo"
           }
          ],
          "scattergl": [
           {
            "marker": {
             "colorbar": {
              "outlinewidth": 0,
              "ticks": ""
             }
            },
            "type": "scattergl"
           }
          ],
          "scattermapbox": [
           {
            "marker": {
             "colorbar": {
              "outlinewidth": 0,
              "ticks": ""
             }
            },
            "type": "scattermapbox"
           }
          ],
          "scatterpolar": [
           {
            "marker": {
             "colorbar": {
              "outlinewidth": 0,
              "ticks": ""
             }
            },
            "type": "scatterpolar"
           }
          ],
          "scatterpolargl": [
           {
            "marker": {
             "colorbar": {
              "outlinewidth": 0,
              "ticks": ""
             }
            },
            "type": "scatterpolargl"
           }
          ],
          "scatterternary": [
           {
            "marker": {
             "colorbar": {
              "outlinewidth": 0,
              "ticks": ""
             }
            },
            "type": "scatterternary"
           }
          ],
          "surface": [
           {
            "colorbar": {
             "outlinewidth": 0,
             "ticks": ""
            },
            "colorscale": [
             [
              0,
              "#0d0887"
             ],
             [
              0.1111111111111111,
              "#46039f"
             ],
             [
              0.2222222222222222,
              "#7201a8"
             ],
             [
              0.3333333333333333,
              "#9c179e"
             ],
             [
              0.4444444444444444,
              "#bd3786"
             ],
             [
              0.5555555555555556,
              "#d8576b"
             ],
             [
              0.6666666666666666,
              "#ed7953"
             ],
             [
              0.7777777777777778,
              "#fb9f3a"
             ],
             [
              0.8888888888888888,
              "#fdca26"
             ],
             [
              1,
              "#f0f921"
             ]
            ],
            "type": "surface"
           }
          ],
          "table": [
           {
            "cells": {
             "fill": {
              "color": "#EBF0F8"
             },
             "line": {
              "color": "white"
             }
            },
            "header": {
             "fill": {
              "color": "#C8D4E3"
             },
             "line": {
              "color": "white"
             }
            },
            "type": "table"
           }
          ]
         },
         "layout": {
          "annotationdefaults": {
           "arrowcolor": "#2a3f5f",
           "arrowhead": 0,
           "arrowwidth": 1
          },
          "autotypenumbers": "strict",
          "coloraxis": {
           "colorbar": {
            "outlinewidth": 0,
            "ticks": ""
           }
          },
          "colorscale": {
           "diverging": [
            [
             0,
             "#8e0152"
            ],
            [
             0.1,
             "#c51b7d"
            ],
            [
             0.2,
             "#de77ae"
            ],
            [
             0.3,
             "#f1b6da"
            ],
            [
             0.4,
             "#fde0ef"
            ],
            [
             0.5,
             "#f7f7f7"
            ],
            [
             0.6,
             "#e6f5d0"
            ],
            [
             0.7,
             "#b8e186"
            ],
            [
             0.8,
             "#7fbc41"
            ],
            [
             0.9,
             "#4d9221"
            ],
            [
             1,
             "#276419"
            ]
           ],
           "sequential": [
            [
             0,
             "#0d0887"
            ],
            [
             0.1111111111111111,
             "#46039f"
            ],
            [
             0.2222222222222222,
             "#7201a8"
            ],
            [
             0.3333333333333333,
             "#9c179e"
            ],
            [
             0.4444444444444444,
             "#bd3786"
            ],
            [
             0.5555555555555556,
             "#d8576b"
            ],
            [
             0.6666666666666666,
             "#ed7953"
            ],
            [
             0.7777777777777778,
             "#fb9f3a"
            ],
            [
             0.8888888888888888,
             "#fdca26"
            ],
            [
             1,
             "#f0f921"
            ]
           ],
           "sequentialminus": [
            [
             0,
             "#0d0887"
            ],
            [
             0.1111111111111111,
             "#46039f"
            ],
            [
             0.2222222222222222,
             "#7201a8"
            ],
            [
             0.3333333333333333,
             "#9c179e"
            ],
            [
             0.4444444444444444,
             "#bd3786"
            ],
            [
             0.5555555555555556,
             "#d8576b"
            ],
            [
             0.6666666666666666,
             "#ed7953"
            ],
            [
             0.7777777777777778,
             "#fb9f3a"
            ],
            [
             0.8888888888888888,
             "#fdca26"
            ],
            [
             1,
             "#f0f921"
            ]
           ]
          },
          "colorway": [
           "#636efa",
           "#EF553B",
           "#00cc96",
           "#ab63fa",
           "#FFA15A",
           "#19d3f3",
           "#FF6692",
           "#B6E880",
           "#FF97FF",
           "#FECB52"
          ],
          "font": {
           "color": "#2a3f5f"
          },
          "geo": {
           "bgcolor": "white",
           "lakecolor": "white",
           "landcolor": "#E5ECF6",
           "showlakes": true,
           "showland": true,
           "subunitcolor": "white"
          },
          "hoverlabel": {
           "align": "left"
          },
          "hovermode": "closest",
          "mapbox": {
           "style": "light"
          },
          "paper_bgcolor": "white",
          "plot_bgcolor": "#E5ECF6",
          "polar": {
           "angularaxis": {
            "gridcolor": "white",
            "linecolor": "white",
            "ticks": ""
           },
           "bgcolor": "#E5ECF6",
           "radialaxis": {
            "gridcolor": "white",
            "linecolor": "white",
            "ticks": ""
           }
          },
          "scene": {
           "xaxis": {
            "backgroundcolor": "#E5ECF6",
            "gridcolor": "white",
            "gridwidth": 2,
            "linecolor": "white",
            "showbackground": true,
            "ticks": "",
            "zerolinecolor": "white"
           },
           "yaxis": {
            "backgroundcolor": "#E5ECF6",
            "gridcolor": "white",
            "gridwidth": 2,
            "linecolor": "white",
            "showbackground": true,
            "ticks": "",
            "zerolinecolor": "white"
           },
           "zaxis": {
            "backgroundcolor": "#E5ECF6",
            "gridcolor": "white",
            "gridwidth": 2,
            "linecolor": "white",
            "showbackground": true,
            "ticks": "",
            "zerolinecolor": "white"
           }
          },
          "shapedefaults": {
           "line": {
            "color": "#2a3f5f"
           }
          },
          "ternary": {
           "aaxis": {
            "gridcolor": "white",
            "linecolor": "white",
            "ticks": ""
           },
           "baxis": {
            "gridcolor": "white",
            "linecolor": "white",
            "ticks": ""
           },
           "bgcolor": "#E5ECF6",
           "caxis": {
            "gridcolor": "white",
            "linecolor": "white",
            "ticks": ""
           }
          },
          "title": {
           "x": 0.05
          },
          "xaxis": {
           "automargin": true,
           "gridcolor": "white",
           "linecolor": "white",
           "ticks": "",
           "title": {
            "standoff": 15
           },
           "zerolinecolor": "white",
           "zerolinewidth": 2
          },
          "yaxis": {
           "automargin": true,
           "gridcolor": "white",
           "linecolor": "white",
           "ticks": "",
           "title": {
            "standoff": 15
           },
           "zerolinecolor": "white",
           "zerolinewidth": 2
          }
         }
        },
        "title": {
         "text": "Кількість публікацій на Хабрі та на Гіктаймсі"
        },
        "xaxis": {
         "anchor": "y",
         "domain": [
          0,
          1
         ],
         "dtick": 1,
         "title": {
          "text": "День"
         }
        },
        "yaxis": {
         "anchor": "x",
         "domain": [
          0,
          1
         ],
         "title": {
          "text": "Кількість публікацій"
         }
        }
       }
      },
      "text/html": [
       "<div>                            <div id=\"9365518b-5565-46a4-bde5-ce00b3942d42\" class=\"plotly-graph-div\" style=\"height:400px; width:100%;\"></div>            <script type=\"text/javascript\">                require([\"plotly\"], function(Plotly) {                    window.PLOTLYENV=window.PLOTLYENV || {};                                    if (document.getElementById(\"9365518b-5565-46a4-bde5-ce00b3942d42\")) {                    Plotly.newPlot(                        \"9365518b-5565-46a4-bde5-ce00b3942d42\",                        [{\"hovertemplate\":\"domain=geektimes.ru<br>day=%{x}<br>count=%{text}<extra></extra>\",\"legendgroup\":\"geektimes.ru\",\"line\":{\"color\":\"#636efa\",\"dash\":\"solid\"},\"marker\":{\"symbol\":\"circle\"},\"mode\":\"markers+text+lines\",\"name\":\"geektimes.ru\",\"orientation\":\"v\",\"showlegend\":true,\"text\":[6.0,25.0,29.0,37.0,31.0,21.0,11.0,8.0,18.0,29.0,26.0,30.0,24.0,17.0,11.0,32.0,38.0,29.0,29.0,28.0,14.0,12.0,27.0,33.0,32.0,26.0,34.0,15.0,15.0,27.0,41.0],\"x\":[1,2,3,4,5,6,7,8,9,10,11,12,13,14,15,16,17,18,19,20,21,22,23,24,25,26,27,28,29,30,31],\"xaxis\":\"x\",\"y\":[6,25,29,37,31,21,11,8,18,29,26,30,24,17,11,32,38,29,29,28,14,12,27,33,32,26,34,15,15,27,41],\"yaxis\":\"y\",\"type\":\"scatter\",\"textposition\":\"top center\"},{\"hovertemplate\":\"domain=habrahabr.ru<br>day=%{x}<br>count=%{text}<extra></extra>\",\"legendgroup\":\"habrahabr.ru\",\"line\":{\"color\":\"#EF553B\",\"dash\":\"solid\"},\"marker\":{\"symbol\":\"circle\"},\"mode\":\"markers+text+lines\",\"name\":\"habrahabr.ru\",\"orientation\":\"v\",\"showlegend\":true,\"text\":[26.0,73.0,65.0,61.0,41.0,50.0,20.0,18.0,24.0,69.0,66.0,69.0,54.0,13.0,19.0,67.0,69.0,51.0,59.0,46.0,8.0,18.0,51.0,53.0,60.0,63.0,58.0,17.0,23.0,52.0,71.0],\"x\":[1,2,3,4,5,6,7,8,9,10,11,12,13,14,15,16,17,18,19,20,21,22,23,24,25,26,27,28,29,30,31],\"xaxis\":\"x\",\"y\":[26,73,65,61,41,50,20,18,24,69,66,69,54,13,19,67,69,51,59,46,8,18,51,53,60,63,58,17,23,52,71],\"yaxis\":\"y\",\"type\":\"scatter\",\"textposition\":\"top center\"}],                        {\"template\":{\"data\":{\"bar\":[{\"error_x\":{\"color\":\"#2a3f5f\"},\"error_y\":{\"color\":\"#2a3f5f\"},\"marker\":{\"line\":{\"color\":\"#E5ECF6\",\"width\":0.5},\"pattern\":{\"fillmode\":\"overlay\",\"size\":10,\"solidity\":0.2}},\"type\":\"bar\"}],\"barpolar\":[{\"marker\":{\"line\":{\"color\":\"#E5ECF6\",\"width\":0.5},\"pattern\":{\"fillmode\":\"overlay\",\"size\":10,\"solidity\":0.2}},\"type\":\"barpolar\"}],\"carpet\":[{\"aaxis\":{\"endlinecolor\":\"#2a3f5f\",\"gridcolor\":\"white\",\"linecolor\":\"white\",\"minorgridcolor\":\"white\",\"startlinecolor\":\"#2a3f5f\"},\"baxis\":{\"endlinecolor\":\"#2a3f5f\",\"gridcolor\":\"white\",\"linecolor\":\"white\",\"minorgridcolor\":\"white\",\"startlinecolor\":\"#2a3f5f\"},\"type\":\"carpet\"}],\"choropleth\":[{\"colorbar\":{\"outlinewidth\":0,\"ticks\":\"\"},\"type\":\"choropleth\"}],\"contour\":[{\"colorbar\":{\"outlinewidth\":0,\"ticks\":\"\"},\"colorscale\":[[0.0,\"#0d0887\"],[0.1111111111111111,\"#46039f\"],[0.2222222222222222,\"#7201a8\"],[0.3333333333333333,\"#9c179e\"],[0.4444444444444444,\"#bd3786\"],[0.5555555555555556,\"#d8576b\"],[0.6666666666666666,\"#ed7953\"],[0.7777777777777778,\"#fb9f3a\"],[0.8888888888888888,\"#fdca26\"],[1.0,\"#f0f921\"]],\"type\":\"contour\"}],\"contourcarpet\":[{\"colorbar\":{\"outlinewidth\":0,\"ticks\":\"\"},\"type\":\"contourcarpet\"}],\"heatmap\":[{\"colorbar\":{\"outlinewidth\":0,\"ticks\":\"\"},\"colorscale\":[[0.0,\"#0d0887\"],[0.1111111111111111,\"#46039f\"],[0.2222222222222222,\"#7201a8\"],[0.3333333333333333,\"#9c179e\"],[0.4444444444444444,\"#bd3786\"],[0.5555555555555556,\"#d8576b\"],[0.6666666666666666,\"#ed7953\"],[0.7777777777777778,\"#fb9f3a\"],[0.8888888888888888,\"#fdca26\"],[1.0,\"#f0f921\"]],\"type\":\"heatmap\"}],\"heatmapgl\":[{\"colorbar\":{\"outlinewidth\":0,\"ticks\":\"\"},\"colorscale\":[[0.0,\"#0d0887\"],[0.1111111111111111,\"#46039f\"],[0.2222222222222222,\"#7201a8\"],[0.3333333333333333,\"#9c179e\"],[0.4444444444444444,\"#bd3786\"],[0.5555555555555556,\"#d8576b\"],[0.6666666666666666,\"#ed7953\"],[0.7777777777777778,\"#fb9f3a\"],[0.8888888888888888,\"#fdca26\"],[1.0,\"#f0f921\"]],\"type\":\"heatmapgl\"}],\"histogram\":[{\"marker\":{\"pattern\":{\"fillmode\":\"overlay\",\"size\":10,\"solidity\":0.2}},\"type\":\"histogram\"}],\"histogram2d\":[{\"colorbar\":{\"outlinewidth\":0,\"ticks\":\"\"},\"colorscale\":[[0.0,\"#0d0887\"],[0.1111111111111111,\"#46039f\"],[0.2222222222222222,\"#7201a8\"],[0.3333333333333333,\"#9c179e\"],[0.4444444444444444,\"#bd3786\"],[0.5555555555555556,\"#d8576b\"],[0.6666666666666666,\"#ed7953\"],[0.7777777777777778,\"#fb9f3a\"],[0.8888888888888888,\"#fdca26\"],[1.0,\"#f0f921\"]],\"type\":\"histogram2d\"}],\"histogram2dcontour\":[{\"colorbar\":{\"outlinewidth\":0,\"ticks\":\"\"},\"colorscale\":[[0.0,\"#0d0887\"],[0.1111111111111111,\"#46039f\"],[0.2222222222222222,\"#7201a8\"],[0.3333333333333333,\"#9c179e\"],[0.4444444444444444,\"#bd3786\"],[0.5555555555555556,\"#d8576b\"],[0.6666666666666666,\"#ed7953\"],[0.7777777777777778,\"#fb9f3a\"],[0.8888888888888888,\"#fdca26\"],[1.0,\"#f0f921\"]],\"type\":\"histogram2dcontour\"}],\"mesh3d\":[{\"colorbar\":{\"outlinewidth\":0,\"ticks\":\"\"},\"type\":\"mesh3d\"}],\"parcoords\":[{\"line\":{\"colorbar\":{\"outlinewidth\":0,\"ticks\":\"\"}},\"type\":\"parcoords\"}],\"pie\":[{\"automargin\":true,\"type\":\"pie\"}],\"scatter\":[{\"marker\":{\"colorbar\":{\"outlinewidth\":0,\"ticks\":\"\"}},\"type\":\"scatter\"}],\"scatter3d\":[{\"line\":{\"colorbar\":{\"outlinewidth\":0,\"ticks\":\"\"}},\"marker\":{\"colorbar\":{\"outlinewidth\":0,\"ticks\":\"\"}},\"type\":\"scatter3d\"}],\"scattercarpet\":[{\"marker\":{\"colorbar\":{\"outlinewidth\":0,\"ticks\":\"\"}},\"type\":\"scattercarpet\"}],\"scattergeo\":[{\"marker\":{\"colorbar\":{\"outlinewidth\":0,\"ticks\":\"\"}},\"type\":\"scattergeo\"}],\"scattergl\":[{\"marker\":{\"colorbar\":{\"outlinewidth\":0,\"ticks\":\"\"}},\"type\":\"scattergl\"}],\"scattermapbox\":[{\"marker\":{\"colorbar\":{\"outlinewidth\":0,\"ticks\":\"\"}},\"type\":\"scattermapbox\"}],\"scatterpolar\":[{\"marker\":{\"colorbar\":{\"outlinewidth\":0,\"ticks\":\"\"}},\"type\":\"scatterpolar\"}],\"scatterpolargl\":[{\"marker\":{\"colorbar\":{\"outlinewidth\":0,\"ticks\":\"\"}},\"type\":\"scatterpolargl\"}],\"scatterternary\":[{\"marker\":{\"colorbar\":{\"outlinewidth\":0,\"ticks\":\"\"}},\"type\":\"scatterternary\"}],\"surface\":[{\"colorbar\":{\"outlinewidth\":0,\"ticks\":\"\"},\"colorscale\":[[0.0,\"#0d0887\"],[0.1111111111111111,\"#46039f\"],[0.2222222222222222,\"#7201a8\"],[0.3333333333333333,\"#9c179e\"],[0.4444444444444444,\"#bd3786\"],[0.5555555555555556,\"#d8576b\"],[0.6666666666666666,\"#ed7953\"],[0.7777777777777778,\"#fb9f3a\"],[0.8888888888888888,\"#fdca26\"],[1.0,\"#f0f921\"]],\"type\":\"surface\"}],\"table\":[{\"cells\":{\"fill\":{\"color\":\"#EBF0F8\"},\"line\":{\"color\":\"white\"}},\"header\":{\"fill\":{\"color\":\"#C8D4E3\"},\"line\":{\"color\":\"white\"}},\"type\":\"table\"}]},\"layout\":{\"annotationdefaults\":{\"arrowcolor\":\"#2a3f5f\",\"arrowhead\":0,\"arrowwidth\":1},\"autotypenumbers\":\"strict\",\"coloraxis\":{\"colorbar\":{\"outlinewidth\":0,\"ticks\":\"\"}},\"colorscale\":{\"diverging\":[[0,\"#8e0152\"],[0.1,\"#c51b7d\"],[0.2,\"#de77ae\"],[0.3,\"#f1b6da\"],[0.4,\"#fde0ef\"],[0.5,\"#f7f7f7\"],[0.6,\"#e6f5d0\"],[0.7,\"#b8e186\"],[0.8,\"#7fbc41\"],[0.9,\"#4d9221\"],[1,\"#276419\"]],\"sequential\":[[0.0,\"#0d0887\"],[0.1111111111111111,\"#46039f\"],[0.2222222222222222,\"#7201a8\"],[0.3333333333333333,\"#9c179e\"],[0.4444444444444444,\"#bd3786\"],[0.5555555555555556,\"#d8576b\"],[0.6666666666666666,\"#ed7953\"],[0.7777777777777778,\"#fb9f3a\"],[0.8888888888888888,\"#fdca26\"],[1.0,\"#f0f921\"]],\"sequentialminus\":[[0.0,\"#0d0887\"],[0.1111111111111111,\"#46039f\"],[0.2222222222222222,\"#7201a8\"],[0.3333333333333333,\"#9c179e\"],[0.4444444444444444,\"#bd3786\"],[0.5555555555555556,\"#d8576b\"],[0.6666666666666666,\"#ed7953\"],[0.7777777777777778,\"#fb9f3a\"],[0.8888888888888888,\"#fdca26\"],[1.0,\"#f0f921\"]]},\"colorway\":[\"#636efa\",\"#EF553B\",\"#00cc96\",\"#ab63fa\",\"#FFA15A\",\"#19d3f3\",\"#FF6692\",\"#B6E880\",\"#FF97FF\",\"#FECB52\"],\"font\":{\"color\":\"#2a3f5f\"},\"geo\":{\"bgcolor\":\"white\",\"lakecolor\":\"white\",\"landcolor\":\"#E5ECF6\",\"showlakes\":true,\"showland\":true,\"subunitcolor\":\"white\"},\"hoverlabel\":{\"align\":\"left\"},\"hovermode\":\"closest\",\"mapbox\":{\"style\":\"light\"},\"paper_bgcolor\":\"white\",\"plot_bgcolor\":\"#E5ECF6\",\"polar\":{\"angularaxis\":{\"gridcolor\":\"white\",\"linecolor\":\"white\",\"ticks\":\"\"},\"bgcolor\":\"#E5ECF6\",\"radialaxis\":{\"gridcolor\":\"white\",\"linecolor\":\"white\",\"ticks\":\"\"}},\"scene\":{\"xaxis\":{\"backgroundcolor\":\"#E5ECF6\",\"gridcolor\":\"white\",\"gridwidth\":2,\"linecolor\":\"white\",\"showbackground\":true,\"ticks\":\"\",\"zerolinecolor\":\"white\"},\"yaxis\":{\"backgroundcolor\":\"#E5ECF6\",\"gridcolor\":\"white\",\"gridwidth\":2,\"linecolor\":\"white\",\"showbackground\":true,\"ticks\":\"\",\"zerolinecolor\":\"white\"},\"zaxis\":{\"backgroundcolor\":\"#E5ECF6\",\"gridcolor\":\"white\",\"gridwidth\":2,\"linecolor\":\"white\",\"showbackground\":true,\"ticks\":\"\",\"zerolinecolor\":\"white\"}},\"shapedefaults\":{\"line\":{\"color\":\"#2a3f5f\"}},\"ternary\":{\"aaxis\":{\"gridcolor\":\"white\",\"linecolor\":\"white\",\"ticks\":\"\"},\"baxis\":{\"gridcolor\":\"white\",\"linecolor\":\"white\",\"ticks\":\"\"},\"bgcolor\":\"#E5ECF6\",\"caxis\":{\"gridcolor\":\"white\",\"linecolor\":\"white\",\"ticks\":\"\"}},\"title\":{\"x\":0.05},\"xaxis\":{\"automargin\":true,\"gridcolor\":\"white\",\"linecolor\":\"white\",\"ticks\":\"\",\"title\":{\"standoff\":15},\"zerolinecolor\":\"white\",\"zerolinewidth\":2},\"yaxis\":{\"automargin\":true,\"gridcolor\":\"white\",\"linecolor\":\"white\",\"ticks\":\"\",\"title\":{\"standoff\":15},\"zerolinecolor\":\"white\",\"zerolinewidth\":2}}},\"xaxis\":{\"anchor\":\"y\",\"domain\":[0.0,1.0],\"title\":{\"text\":\"\\u0414\\u0435\\u043d\\u044c\"},\"dtick\":1},\"yaxis\":{\"anchor\":\"x\",\"domain\":[0.0,1.0],\"title\":{\"text\":\"\\u041a\\u0456\\u043b\\u044c\\u043a\\u0456\\u0441\\u0442\\u044c \\u043f\\u0443\\u0431\\u043b\\u0456\\u043a\\u0430\\u0446\\u0456\\u0439\"}},\"legend\":{\"title\":{\"text\":\"domain\"},\"tracegroupgap\":0},\"margin\":{\"t\":60},\"height\":400,\"title\":{\"text\":\"\\u041a\\u0456\\u043b\\u044c\\u043a\\u0456\\u0441\\u0442\\u044c \\u043f\\u0443\\u0431\\u043b\\u0456\\u043a\\u0430\\u0446\\u0456\\u0439 \\u043d\\u0430 \\u0425\\u0430\\u0431\\u0440\\u0456 \\u0442\\u0430 \\u043d\\u0430 \\u0413\\u0456\\u043a\\u0442\\u0430\\u0439\\u043c\\u0441\\u0456\"},\"plot_bgcolor\":\"white\"},                        {\"responsive\": true}                    ).then(function(){\n",
       "                            \n",
       "var gd = document.getElementById('9365518b-5565-46a4-bde5-ce00b3942d42');\n",
       "var x = new MutationObserver(function (mutations, observer) {{\n",
       "        var display = window.getComputedStyle(gd).display;\n",
       "        if (!display || display === 'none') {{\n",
       "            console.log([gd, 'removed!']);\n",
       "            Plotly.purge(gd);\n",
       "            observer.disconnect();\n",
       "        }}\n",
       "}});\n",
       "\n",
       "// Listen for the removal of the full notebook cells\n",
       "var notebookContainer = gd.closest('#notebook-container');\n",
       "if (notebookContainer) {{\n",
       "    x.observe(notebookContainer, {childList: true});\n",
       "}}\n",
       "\n",
       "// Listen for the clearing of the current output cell\n",
       "var outputEl = gd.closest('.output');\n",
       "if (outputEl) {{\n",
       "    x.observe(outputEl, {childList: true});\n",
       "}}\n",
       "\n",
       "                        })                };                });            </script>        </div>"
      ]
     },
     "metadata": {},
     "output_type": "display_data"
    }
   ],
   "source": [
    "fig = px.line(x, x=\"day\", y=\"count\", color='domain', text=\"count\", height=400)\n",
    "\n",
    "fig.update_traces(textposition=\"top center\")\n",
    "\n",
    "fig.update_layout(title='Кількість публікацій на Хабрі та на Гіктаймсі',\n",
    "                   xaxis_title='День',\n",
    "                   yaxis_title='Кількість публікацій',\n",
    "                   plot_bgcolor=\"white\")\n",
    "\n",
    "fig.update_xaxes(dtick=1)\n",
    "\n",
    "fig.show()"
   ]
  },
  {
   "cell_type": "markdown",
   "metadata": {
    "id": "z7IVLt0UHquQ"
   },
   "source": [
    "### <span style=\"color:red; font-size:1.5em;\">Завдання 3</span>\n",
    "\n",
    "**Коли найкраще публікувати статтю? Дайте відповіді на запитання з використанням інструментів візуалізації:**\n",
    "\n",
    "\n",
    "**Для варіантів 11-15:**\n",
    "\n",
    "Чи правда, що найменше переглядів набирають статті, які опубліковані о 6:00?   \n",
    "**⭕️ (Ні, найменше переглядів о 5-й годині = ~14.7mil) + найкраще всього публікувати статтю об 12-годині**\n"
   ]
  },
  {
   "cell_type": "code",
   "execution_count": 14,
   "metadata": {
    "colab": {
     "base_uri": "https://localhost:8080/",
     "height": 417
    },
    "executionInfo": {
     "elapsed": 277,
     "status": "ok",
     "timestamp": 1673263700400,
     "user": {
      "displayName": "Matviy Mashtalyar",
      "userId": "09378446567115214204"
     },
     "user_tz": -120
    },
    "id": "C5KpVo6eHquR",
    "outputId": "16328d47-9174-4b86-f6e1-048e95650ea2"
   },
   "outputs": [
    {
     "data": {
      "application/vnd.plotly.v1+json": {
       "config": {
        "plotlyServerURL": "https://plot.ly"
       },
       "data": [
        {
         "alignmentgroup": "True",
         "cliponaxis": false,
         "hovertemplate": "hour=%{x}<br>sum=%{y}<extra></extra>",
         "legendgroup": "",
         "marker": {
          "color": "rgb(158,202,225)",
          "line": {
           "color": "rgb(8,48,107)",
           "width": 1.5
          },
          "pattern": {
           "shape": ""
          }
         },
         "name": "",
         "offsetgroup": "",
         "opacity": 0.6,
         "orientation": "v",
         "showlegend": false,
         "textangle": 0,
         "textfont": {
          "size": 12
         },
         "textposition": "outside",
         "texttemplate": "%{y:.3s}",
         "type": "bar",
         "x": [
          0,
          1,
          2,
          3,
          4,
          5,
          6,
          7,
          8,
          9,
          10,
          11,
          12,
          13,
          14,
          15,
          16,
          17,
          18,
          19,
          20,
          21,
          22,
          23
         ],
         "xaxis": "x",
         "y": [
          71574141,
          55793066,
          39370785,
          28620488,
          22746228,
          14653279,
          22379317,
          27457105,
          40356336,
          82958032,
          128170279,
          160061962,
          177152709,
          171944260,
          165019258,
          151460266,
          156445444,
          136846168,
          124982145,
          105027594,
          95351805,
          83486794,
          86409148,
          82567593
         ],
         "yaxis": "y"
        }
       ],
       "layout": {
        "barmode": "relative",
        "height": 400,
        "legend": {
         "tracegroupgap": 0
        },
        "template": {
         "data": {
          "bar": [
           {
            "error_x": {
             "color": "#2a3f5f"
            },
            "error_y": {
             "color": "#2a3f5f"
            },
            "marker": {
             "line": {
              "color": "#E5ECF6",
              "width": 0.5
             },
             "pattern": {
              "fillmode": "overlay",
              "size": 10,
              "solidity": 0.2
             }
            },
            "type": "bar"
           }
          ],
          "barpolar": [
           {
            "marker": {
             "line": {
              "color": "#E5ECF6",
              "width": 0.5
             },
             "pattern": {
              "fillmode": "overlay",
              "size": 10,
              "solidity": 0.2
             }
            },
            "type": "barpolar"
           }
          ],
          "carpet": [
           {
            "aaxis": {
             "endlinecolor": "#2a3f5f",
             "gridcolor": "white",
             "linecolor": "white",
             "minorgridcolor": "white",
             "startlinecolor": "#2a3f5f"
            },
            "baxis": {
             "endlinecolor": "#2a3f5f",
             "gridcolor": "white",
             "linecolor": "white",
             "minorgridcolor": "white",
             "startlinecolor": "#2a3f5f"
            },
            "type": "carpet"
           }
          ],
          "choropleth": [
           {
            "colorbar": {
             "outlinewidth": 0,
             "ticks": ""
            },
            "type": "choropleth"
           }
          ],
          "contour": [
           {
            "colorbar": {
             "outlinewidth": 0,
             "ticks": ""
            },
            "colorscale": [
             [
              0,
              "#0d0887"
             ],
             [
              0.1111111111111111,
              "#46039f"
             ],
             [
              0.2222222222222222,
              "#7201a8"
             ],
             [
              0.3333333333333333,
              "#9c179e"
             ],
             [
              0.4444444444444444,
              "#bd3786"
             ],
             [
              0.5555555555555556,
              "#d8576b"
             ],
             [
              0.6666666666666666,
              "#ed7953"
             ],
             [
              0.7777777777777778,
              "#fb9f3a"
             ],
             [
              0.8888888888888888,
              "#fdca26"
             ],
             [
              1,
              "#f0f921"
             ]
            ],
            "type": "contour"
           }
          ],
          "contourcarpet": [
           {
            "colorbar": {
             "outlinewidth": 0,
             "ticks": ""
            },
            "type": "contourcarpet"
           }
          ],
          "heatmap": [
           {
            "colorbar": {
             "outlinewidth": 0,
             "ticks": ""
            },
            "colorscale": [
             [
              0,
              "#0d0887"
             ],
             [
              0.1111111111111111,
              "#46039f"
             ],
             [
              0.2222222222222222,
              "#7201a8"
             ],
             [
              0.3333333333333333,
              "#9c179e"
             ],
             [
              0.4444444444444444,
              "#bd3786"
             ],
             [
              0.5555555555555556,
              "#d8576b"
             ],
             [
              0.6666666666666666,
              "#ed7953"
             ],
             [
              0.7777777777777778,
              "#fb9f3a"
             ],
             [
              0.8888888888888888,
              "#fdca26"
             ],
             [
              1,
              "#f0f921"
             ]
            ],
            "type": "heatmap"
           }
          ],
          "heatmapgl": [
           {
            "colorbar": {
             "outlinewidth": 0,
             "ticks": ""
            },
            "colorscale": [
             [
              0,
              "#0d0887"
             ],
             [
              0.1111111111111111,
              "#46039f"
             ],
             [
              0.2222222222222222,
              "#7201a8"
             ],
             [
              0.3333333333333333,
              "#9c179e"
             ],
             [
              0.4444444444444444,
              "#bd3786"
             ],
             [
              0.5555555555555556,
              "#d8576b"
             ],
             [
              0.6666666666666666,
              "#ed7953"
             ],
             [
              0.7777777777777778,
              "#fb9f3a"
             ],
             [
              0.8888888888888888,
              "#fdca26"
             ],
             [
              1,
              "#f0f921"
             ]
            ],
            "type": "heatmapgl"
           }
          ],
          "histogram": [
           {
            "marker": {
             "pattern": {
              "fillmode": "overlay",
              "size": 10,
              "solidity": 0.2
             }
            },
            "type": "histogram"
           }
          ],
          "histogram2d": [
           {
            "colorbar": {
             "outlinewidth": 0,
             "ticks": ""
            },
            "colorscale": [
             [
              0,
              "#0d0887"
             ],
             [
              0.1111111111111111,
              "#46039f"
             ],
             [
              0.2222222222222222,
              "#7201a8"
             ],
             [
              0.3333333333333333,
              "#9c179e"
             ],
             [
              0.4444444444444444,
              "#bd3786"
             ],
             [
              0.5555555555555556,
              "#d8576b"
             ],
             [
              0.6666666666666666,
              "#ed7953"
             ],
             [
              0.7777777777777778,
              "#fb9f3a"
             ],
             [
              0.8888888888888888,
              "#fdca26"
             ],
             [
              1,
              "#f0f921"
             ]
            ],
            "type": "histogram2d"
           }
          ],
          "histogram2dcontour": [
           {
            "colorbar": {
             "outlinewidth": 0,
             "ticks": ""
            },
            "colorscale": [
             [
              0,
              "#0d0887"
             ],
             [
              0.1111111111111111,
              "#46039f"
             ],
             [
              0.2222222222222222,
              "#7201a8"
             ],
             [
              0.3333333333333333,
              "#9c179e"
             ],
             [
              0.4444444444444444,
              "#bd3786"
             ],
             [
              0.5555555555555556,
              "#d8576b"
             ],
             [
              0.6666666666666666,
              "#ed7953"
             ],
             [
              0.7777777777777778,
              "#fb9f3a"
             ],
             [
              0.8888888888888888,
              "#fdca26"
             ],
             [
              1,
              "#f0f921"
             ]
            ],
            "type": "histogram2dcontour"
           }
          ],
          "mesh3d": [
           {
            "colorbar": {
             "outlinewidth": 0,
             "ticks": ""
            },
            "type": "mesh3d"
           }
          ],
          "parcoords": [
           {
            "line": {
             "colorbar": {
              "outlinewidth": 0,
              "ticks": ""
             }
            },
            "type": "parcoords"
           }
          ],
          "pie": [
           {
            "automargin": true,
            "type": "pie"
           }
          ],
          "scatter": [
           {
            "marker": {
             "colorbar": {
              "outlinewidth": 0,
              "ticks": ""
             }
            },
            "type": "scatter"
           }
          ],
          "scatter3d": [
           {
            "line": {
             "colorbar": {
              "outlinewidth": 0,
              "ticks": ""
             }
            },
            "marker": {
             "colorbar": {
              "outlinewidth": 0,
              "ticks": ""
             }
            },
            "type": "scatter3d"
           }
          ],
          "scattercarpet": [
           {
            "marker": {
             "colorbar": {
              "outlinewidth": 0,
              "ticks": ""
             }
            },
            "type": "scattercarpet"
           }
          ],
          "scattergeo": [
           {
            "marker": {
             "colorbar": {
              "outlinewidth": 0,
              "ticks": ""
             }
            },
            "type": "scattergeo"
           }
          ],
          "scattergl": [
           {
            "marker": {
             "colorbar": {
              "outlinewidth": 0,
              "ticks": ""
             }
            },
            "type": "scattergl"
           }
          ],
          "scattermapbox": [
           {
            "marker": {
             "colorbar": {
              "outlinewidth": 0,
              "ticks": ""
             }
            },
            "type": "scattermapbox"
           }
          ],
          "scatterpolar": [
           {
            "marker": {
             "colorbar": {
              "outlinewidth": 0,
              "ticks": ""
             }
            },
            "type": "scatterpolar"
           }
          ],
          "scatterpolargl": [
           {
            "marker": {
             "colorbar": {
              "outlinewidth": 0,
              "ticks": ""
             }
            },
            "type": "scatterpolargl"
           }
          ],
          "scatterternary": [
           {
            "marker": {
             "colorbar": {
              "outlinewidth": 0,
              "ticks": ""
             }
            },
            "type": "scatterternary"
           }
          ],
          "surface": [
           {
            "colorbar": {
             "outlinewidth": 0,
             "ticks": ""
            },
            "colorscale": [
             [
              0,
              "#0d0887"
             ],
             [
              0.1111111111111111,
              "#46039f"
             ],
             [
              0.2222222222222222,
              "#7201a8"
             ],
             [
              0.3333333333333333,
              "#9c179e"
             ],
             [
              0.4444444444444444,
              "#bd3786"
             ],
             [
              0.5555555555555556,
              "#d8576b"
             ],
             [
              0.6666666666666666,
              "#ed7953"
             ],
             [
              0.7777777777777778,
              "#fb9f3a"
             ],
             [
              0.8888888888888888,
              "#fdca26"
             ],
             [
              1,
              "#f0f921"
             ]
            ],
            "type": "surface"
           }
          ],
          "table": [
           {
            "cells": {
             "fill": {
              "color": "#EBF0F8"
             },
             "line": {
              "color": "white"
             }
            },
            "header": {
             "fill": {
              "color": "#C8D4E3"
             },
             "line": {
              "color": "white"
             }
            },
            "type": "table"
           }
          ]
         },
         "layout": {
          "annotationdefaults": {
           "arrowcolor": "#2a3f5f",
           "arrowhead": 0,
           "arrowwidth": 1
          },
          "autotypenumbers": "strict",
          "coloraxis": {
           "colorbar": {
            "outlinewidth": 0,
            "ticks": ""
           }
          },
          "colorscale": {
           "diverging": [
            [
             0,
             "#8e0152"
            ],
            [
             0.1,
             "#c51b7d"
            ],
            [
             0.2,
             "#de77ae"
            ],
            [
             0.3,
             "#f1b6da"
            ],
            [
             0.4,
             "#fde0ef"
            ],
            [
             0.5,
             "#f7f7f7"
            ],
            [
             0.6,
             "#e6f5d0"
            ],
            [
             0.7,
             "#b8e186"
            ],
            [
             0.8,
             "#7fbc41"
            ],
            [
             0.9,
             "#4d9221"
            ],
            [
             1,
             "#276419"
            ]
           ],
           "sequential": [
            [
             0,
             "#0d0887"
            ],
            [
             0.1111111111111111,
             "#46039f"
            ],
            [
             0.2222222222222222,
             "#7201a8"
            ],
            [
             0.3333333333333333,
             "#9c179e"
            ],
            [
             0.4444444444444444,
             "#bd3786"
            ],
            [
             0.5555555555555556,
             "#d8576b"
            ],
            [
             0.6666666666666666,
             "#ed7953"
            ],
            [
             0.7777777777777778,
             "#fb9f3a"
            ],
            [
             0.8888888888888888,
             "#fdca26"
            ],
            [
             1,
             "#f0f921"
            ]
           ],
           "sequentialminus": [
            [
             0,
             "#0d0887"
            ],
            [
             0.1111111111111111,
             "#46039f"
            ],
            [
             0.2222222222222222,
             "#7201a8"
            ],
            [
             0.3333333333333333,
             "#9c179e"
            ],
            [
             0.4444444444444444,
             "#bd3786"
            ],
            [
             0.5555555555555556,
             "#d8576b"
            ],
            [
             0.6666666666666666,
             "#ed7953"
            ],
            [
             0.7777777777777778,
             "#fb9f3a"
            ],
            [
             0.8888888888888888,
             "#fdca26"
            ],
            [
             1,
             "#f0f921"
            ]
           ]
          },
          "colorway": [
           "#636efa",
           "#EF553B",
           "#00cc96",
           "#ab63fa",
           "#FFA15A",
           "#19d3f3",
           "#FF6692",
           "#B6E880",
           "#FF97FF",
           "#FECB52"
          ],
          "font": {
           "color": "#2a3f5f"
          },
          "geo": {
           "bgcolor": "white",
           "lakecolor": "white",
           "landcolor": "#E5ECF6",
           "showlakes": true,
           "showland": true,
           "subunitcolor": "white"
          },
          "hoverlabel": {
           "align": "left"
          },
          "hovermode": "closest",
          "mapbox": {
           "style": "light"
          },
          "paper_bgcolor": "white",
          "plot_bgcolor": "#E5ECF6",
          "polar": {
           "angularaxis": {
            "gridcolor": "white",
            "linecolor": "white",
            "ticks": ""
           },
           "bgcolor": "#E5ECF6",
           "radialaxis": {
            "gridcolor": "white",
            "linecolor": "white",
            "ticks": ""
           }
          },
          "scene": {
           "xaxis": {
            "backgroundcolor": "#E5ECF6",
            "gridcolor": "white",
            "gridwidth": 2,
            "linecolor": "white",
            "showbackground": true,
            "ticks": "",
            "zerolinecolor": "white"
           },
           "yaxis": {
            "backgroundcolor": "#E5ECF6",
            "gridcolor": "white",
            "gridwidth": 2,
            "linecolor": "white",
            "showbackground": true,
            "ticks": "",
            "zerolinecolor": "white"
           },
           "zaxis": {
            "backgroundcolor": "#E5ECF6",
            "gridcolor": "white",
            "gridwidth": 2,
            "linecolor": "white",
            "showbackground": true,
            "ticks": "",
            "zerolinecolor": "white"
           }
          },
          "shapedefaults": {
           "line": {
            "color": "#2a3f5f"
           }
          },
          "ternary": {
           "aaxis": {
            "gridcolor": "white",
            "linecolor": "white",
            "ticks": ""
           },
           "baxis": {
            "gridcolor": "white",
            "linecolor": "white",
            "ticks": ""
           },
           "bgcolor": "#E5ECF6",
           "caxis": {
            "gridcolor": "white",
            "linecolor": "white",
            "ticks": ""
           }
          },
          "title": {
           "x": 0.05
          },
          "xaxis": {
           "automargin": true,
           "gridcolor": "white",
           "linecolor": "white",
           "ticks": "",
           "title": {
            "standoff": 15
           },
           "zerolinecolor": "white",
           "zerolinewidth": 2
          },
          "yaxis": {
           "automargin": true,
           "gridcolor": "white",
           "linecolor": "white",
           "ticks": "",
           "title": {
            "standoff": 15
           },
           "zerolinecolor": "white",
           "zerolinewidth": 2
          }
         }
        },
        "title": {
         "text": "Кількість переглядів погодинно"
        },
        "xaxis": {
         "anchor": "y",
         "domain": [
          0,
          1
         ],
         "dtick": 1,
         "title": {
          "text": "Година"
         }
        },
        "yaxis": {
         "anchor": "x",
         "domain": [
          0,
          1
         ],
         "title": {
          "text": "Кількість переглядів"
         }
        }
       }
      },
      "text/html": [
       "<div>                            <div id=\"7116a660-901a-4cfe-9ec5-be1ffc8ced26\" class=\"plotly-graph-div\" style=\"height:400px; width:100%;\"></div>            <script type=\"text/javascript\">                require([\"plotly\"], function(Plotly) {                    window.PLOTLYENV=window.PLOTLYENV || {};                                    if (document.getElementById(\"7116a660-901a-4cfe-9ec5-be1ffc8ced26\")) {                    Plotly.newPlot(                        \"7116a660-901a-4cfe-9ec5-be1ffc8ced26\",                        [{\"alignmentgroup\":\"True\",\"hovertemplate\":\"hour=%{x}<br>sum=%{y}<extra></extra>\",\"legendgroup\":\"\",\"marker\":{\"color\":\"rgb(158,202,225)\",\"pattern\":{\"shape\":\"\"},\"line\":{\"color\":\"rgb(8,48,107)\",\"width\":1.5}},\"name\":\"\",\"offsetgroup\":\"\",\"orientation\":\"v\",\"showlegend\":false,\"textposition\":\"outside\",\"texttemplate\":\"%{y:.3s}\",\"x\":[0,1,2,3,4,5,6,7,8,9,10,11,12,13,14,15,16,17,18,19,20,21,22,23],\"xaxis\":\"x\",\"y\":[71574141,55793066,39370785,28620488,22746228,14653279,22379317,27457105,40356336,82958032,128170279,160061962,177152709,171944260,165019258,151460266,156445444,136846168,124982145,105027594,95351805,83486794,86409148,82567593],\"yaxis\":\"y\",\"type\":\"bar\",\"textfont\":{\"size\":12},\"cliponaxis\":false,\"opacity\":0.6,\"textangle\":0}],                        {\"template\":{\"data\":{\"bar\":[{\"error_x\":{\"color\":\"#2a3f5f\"},\"error_y\":{\"color\":\"#2a3f5f\"},\"marker\":{\"line\":{\"color\":\"#E5ECF6\",\"width\":0.5},\"pattern\":{\"fillmode\":\"overlay\",\"size\":10,\"solidity\":0.2}},\"type\":\"bar\"}],\"barpolar\":[{\"marker\":{\"line\":{\"color\":\"#E5ECF6\",\"width\":0.5},\"pattern\":{\"fillmode\":\"overlay\",\"size\":10,\"solidity\":0.2}},\"type\":\"barpolar\"}],\"carpet\":[{\"aaxis\":{\"endlinecolor\":\"#2a3f5f\",\"gridcolor\":\"white\",\"linecolor\":\"white\",\"minorgridcolor\":\"white\",\"startlinecolor\":\"#2a3f5f\"},\"baxis\":{\"endlinecolor\":\"#2a3f5f\",\"gridcolor\":\"white\",\"linecolor\":\"white\",\"minorgridcolor\":\"white\",\"startlinecolor\":\"#2a3f5f\"},\"type\":\"carpet\"}],\"choropleth\":[{\"colorbar\":{\"outlinewidth\":0,\"ticks\":\"\"},\"type\":\"choropleth\"}],\"contour\":[{\"colorbar\":{\"outlinewidth\":0,\"ticks\":\"\"},\"colorscale\":[[0.0,\"#0d0887\"],[0.1111111111111111,\"#46039f\"],[0.2222222222222222,\"#7201a8\"],[0.3333333333333333,\"#9c179e\"],[0.4444444444444444,\"#bd3786\"],[0.5555555555555556,\"#d8576b\"],[0.6666666666666666,\"#ed7953\"],[0.7777777777777778,\"#fb9f3a\"],[0.8888888888888888,\"#fdca26\"],[1.0,\"#f0f921\"]],\"type\":\"contour\"}],\"contourcarpet\":[{\"colorbar\":{\"outlinewidth\":0,\"ticks\":\"\"},\"type\":\"contourcarpet\"}],\"heatmap\":[{\"colorbar\":{\"outlinewidth\":0,\"ticks\":\"\"},\"colorscale\":[[0.0,\"#0d0887\"],[0.1111111111111111,\"#46039f\"],[0.2222222222222222,\"#7201a8\"],[0.3333333333333333,\"#9c179e\"],[0.4444444444444444,\"#bd3786\"],[0.5555555555555556,\"#d8576b\"],[0.6666666666666666,\"#ed7953\"],[0.7777777777777778,\"#fb9f3a\"],[0.8888888888888888,\"#fdca26\"],[1.0,\"#f0f921\"]],\"type\":\"heatmap\"}],\"heatmapgl\":[{\"colorbar\":{\"outlinewidth\":0,\"ticks\":\"\"},\"colorscale\":[[0.0,\"#0d0887\"],[0.1111111111111111,\"#46039f\"],[0.2222222222222222,\"#7201a8\"],[0.3333333333333333,\"#9c179e\"],[0.4444444444444444,\"#bd3786\"],[0.5555555555555556,\"#d8576b\"],[0.6666666666666666,\"#ed7953\"],[0.7777777777777778,\"#fb9f3a\"],[0.8888888888888888,\"#fdca26\"],[1.0,\"#f0f921\"]],\"type\":\"heatmapgl\"}],\"histogram\":[{\"marker\":{\"pattern\":{\"fillmode\":\"overlay\",\"size\":10,\"solidity\":0.2}},\"type\":\"histogram\"}],\"histogram2d\":[{\"colorbar\":{\"outlinewidth\":0,\"ticks\":\"\"},\"colorscale\":[[0.0,\"#0d0887\"],[0.1111111111111111,\"#46039f\"],[0.2222222222222222,\"#7201a8\"],[0.3333333333333333,\"#9c179e\"],[0.4444444444444444,\"#bd3786\"],[0.5555555555555556,\"#d8576b\"],[0.6666666666666666,\"#ed7953\"],[0.7777777777777778,\"#fb9f3a\"],[0.8888888888888888,\"#fdca26\"],[1.0,\"#f0f921\"]],\"type\":\"histogram2d\"}],\"histogram2dcontour\":[{\"colorbar\":{\"outlinewidth\":0,\"ticks\":\"\"},\"colorscale\":[[0.0,\"#0d0887\"],[0.1111111111111111,\"#46039f\"],[0.2222222222222222,\"#7201a8\"],[0.3333333333333333,\"#9c179e\"],[0.4444444444444444,\"#bd3786\"],[0.5555555555555556,\"#d8576b\"],[0.6666666666666666,\"#ed7953\"],[0.7777777777777778,\"#fb9f3a\"],[0.8888888888888888,\"#fdca26\"],[1.0,\"#f0f921\"]],\"type\":\"histogram2dcontour\"}],\"mesh3d\":[{\"colorbar\":{\"outlinewidth\":0,\"ticks\":\"\"},\"type\":\"mesh3d\"}],\"parcoords\":[{\"line\":{\"colorbar\":{\"outlinewidth\":0,\"ticks\":\"\"}},\"type\":\"parcoords\"}],\"pie\":[{\"automargin\":true,\"type\":\"pie\"}],\"scatter\":[{\"marker\":{\"colorbar\":{\"outlinewidth\":0,\"ticks\":\"\"}},\"type\":\"scatter\"}],\"scatter3d\":[{\"line\":{\"colorbar\":{\"outlinewidth\":0,\"ticks\":\"\"}},\"marker\":{\"colorbar\":{\"outlinewidth\":0,\"ticks\":\"\"}},\"type\":\"scatter3d\"}],\"scattercarpet\":[{\"marker\":{\"colorbar\":{\"outlinewidth\":0,\"ticks\":\"\"}},\"type\":\"scattercarpet\"}],\"scattergeo\":[{\"marker\":{\"colorbar\":{\"outlinewidth\":0,\"ticks\":\"\"}},\"type\":\"scattergeo\"}],\"scattergl\":[{\"marker\":{\"colorbar\":{\"outlinewidth\":0,\"ticks\":\"\"}},\"type\":\"scattergl\"}],\"scattermapbox\":[{\"marker\":{\"colorbar\":{\"outlinewidth\":0,\"ticks\":\"\"}},\"type\":\"scattermapbox\"}],\"scatterpolar\":[{\"marker\":{\"colorbar\":{\"outlinewidth\":0,\"ticks\":\"\"}},\"type\":\"scatterpolar\"}],\"scatterpolargl\":[{\"marker\":{\"colorbar\":{\"outlinewidth\":0,\"ticks\":\"\"}},\"type\":\"scatterpolargl\"}],\"scatterternary\":[{\"marker\":{\"colorbar\":{\"outlinewidth\":0,\"ticks\":\"\"}},\"type\":\"scatterternary\"}],\"surface\":[{\"colorbar\":{\"outlinewidth\":0,\"ticks\":\"\"},\"colorscale\":[[0.0,\"#0d0887\"],[0.1111111111111111,\"#46039f\"],[0.2222222222222222,\"#7201a8\"],[0.3333333333333333,\"#9c179e\"],[0.4444444444444444,\"#bd3786\"],[0.5555555555555556,\"#d8576b\"],[0.6666666666666666,\"#ed7953\"],[0.7777777777777778,\"#fb9f3a\"],[0.8888888888888888,\"#fdca26\"],[1.0,\"#f0f921\"]],\"type\":\"surface\"}],\"table\":[{\"cells\":{\"fill\":{\"color\":\"#EBF0F8\"},\"line\":{\"color\":\"white\"}},\"header\":{\"fill\":{\"color\":\"#C8D4E3\"},\"line\":{\"color\":\"white\"}},\"type\":\"table\"}]},\"layout\":{\"annotationdefaults\":{\"arrowcolor\":\"#2a3f5f\",\"arrowhead\":0,\"arrowwidth\":1},\"autotypenumbers\":\"strict\",\"coloraxis\":{\"colorbar\":{\"outlinewidth\":0,\"ticks\":\"\"}},\"colorscale\":{\"diverging\":[[0,\"#8e0152\"],[0.1,\"#c51b7d\"],[0.2,\"#de77ae\"],[0.3,\"#f1b6da\"],[0.4,\"#fde0ef\"],[0.5,\"#f7f7f7\"],[0.6,\"#e6f5d0\"],[0.7,\"#b8e186\"],[0.8,\"#7fbc41\"],[0.9,\"#4d9221\"],[1,\"#276419\"]],\"sequential\":[[0.0,\"#0d0887\"],[0.1111111111111111,\"#46039f\"],[0.2222222222222222,\"#7201a8\"],[0.3333333333333333,\"#9c179e\"],[0.4444444444444444,\"#bd3786\"],[0.5555555555555556,\"#d8576b\"],[0.6666666666666666,\"#ed7953\"],[0.7777777777777778,\"#fb9f3a\"],[0.8888888888888888,\"#fdca26\"],[1.0,\"#f0f921\"]],\"sequentialminus\":[[0.0,\"#0d0887\"],[0.1111111111111111,\"#46039f\"],[0.2222222222222222,\"#7201a8\"],[0.3333333333333333,\"#9c179e\"],[0.4444444444444444,\"#bd3786\"],[0.5555555555555556,\"#d8576b\"],[0.6666666666666666,\"#ed7953\"],[0.7777777777777778,\"#fb9f3a\"],[0.8888888888888888,\"#fdca26\"],[1.0,\"#f0f921\"]]},\"colorway\":[\"#636efa\",\"#EF553B\",\"#00cc96\",\"#ab63fa\",\"#FFA15A\",\"#19d3f3\",\"#FF6692\",\"#B6E880\",\"#FF97FF\",\"#FECB52\"],\"font\":{\"color\":\"#2a3f5f\"},\"geo\":{\"bgcolor\":\"white\",\"lakecolor\":\"white\",\"landcolor\":\"#E5ECF6\",\"showlakes\":true,\"showland\":true,\"subunitcolor\":\"white\"},\"hoverlabel\":{\"align\":\"left\"},\"hovermode\":\"closest\",\"mapbox\":{\"style\":\"light\"},\"paper_bgcolor\":\"white\",\"plot_bgcolor\":\"#E5ECF6\",\"polar\":{\"angularaxis\":{\"gridcolor\":\"white\",\"linecolor\":\"white\",\"ticks\":\"\"},\"bgcolor\":\"#E5ECF6\",\"radialaxis\":{\"gridcolor\":\"white\",\"linecolor\":\"white\",\"ticks\":\"\"}},\"scene\":{\"xaxis\":{\"backgroundcolor\":\"#E5ECF6\",\"gridcolor\":\"white\",\"gridwidth\":2,\"linecolor\":\"white\",\"showbackground\":true,\"ticks\":\"\",\"zerolinecolor\":\"white\"},\"yaxis\":{\"backgroundcolor\":\"#E5ECF6\",\"gridcolor\":\"white\",\"gridwidth\":2,\"linecolor\":\"white\",\"showbackground\":true,\"ticks\":\"\",\"zerolinecolor\":\"white\"},\"zaxis\":{\"backgroundcolor\":\"#E5ECF6\",\"gridcolor\":\"white\",\"gridwidth\":2,\"linecolor\":\"white\",\"showbackground\":true,\"ticks\":\"\",\"zerolinecolor\":\"white\"}},\"shapedefaults\":{\"line\":{\"color\":\"#2a3f5f\"}},\"ternary\":{\"aaxis\":{\"gridcolor\":\"white\",\"linecolor\":\"white\",\"ticks\":\"\"},\"baxis\":{\"gridcolor\":\"white\",\"linecolor\":\"white\",\"ticks\":\"\"},\"bgcolor\":\"#E5ECF6\",\"caxis\":{\"gridcolor\":\"white\",\"linecolor\":\"white\",\"ticks\":\"\"}},\"title\":{\"x\":0.05},\"xaxis\":{\"automargin\":true,\"gridcolor\":\"white\",\"linecolor\":\"white\",\"ticks\":\"\",\"title\":{\"standoff\":15},\"zerolinecolor\":\"white\",\"zerolinewidth\":2},\"yaxis\":{\"automargin\":true,\"gridcolor\":\"white\",\"linecolor\":\"white\",\"ticks\":\"\",\"title\":{\"standoff\":15},\"zerolinecolor\":\"white\",\"zerolinewidth\":2}}},\"xaxis\":{\"anchor\":\"y\",\"domain\":[0.0,1.0],\"title\":{\"text\":\"\\u0413\\u043e\\u0434\\u0438\\u043d\\u0430\"},\"dtick\":1},\"yaxis\":{\"anchor\":\"x\",\"domain\":[0.0,1.0],\"title\":{\"text\":\"\\u041a\\u0456\\u043b\\u044c\\u043a\\u0456\\u0441\\u0442\\u044c \\u043f\\u0435\\u0440\\u0435\\u0433\\u043b\\u044f\\u0434\\u0456\\u0432\"}},\"legend\":{\"tracegroupgap\":0},\"title\":{\"text\":\"\\u041a\\u0456\\u043b\\u044c\\u043a\\u0456\\u0441\\u0442\\u044c \\u043f\\u0435\\u0440\\u0435\\u0433\\u043b\\u044f\\u0434\\u0456\\u0432 \\u043f\\u043e\\u0433\\u043e\\u0434\\u0438\\u043d\\u043d\\u043e\"},\"barmode\":\"relative\",\"height\":400},                        {\"responsive\": true}                    ).then(function(){\n",
       "                            \n",
       "var gd = document.getElementById('7116a660-901a-4cfe-9ec5-be1ffc8ced26');\n",
       "var x = new MutationObserver(function (mutations, observer) {{\n",
       "        var display = window.getComputedStyle(gd).display;\n",
       "        if (!display || display === 'none') {{\n",
       "            console.log([gd, 'removed!']);\n",
       "            Plotly.purge(gd);\n",
       "            observer.disconnect();\n",
       "        }}\n",
       "}});\n",
       "\n",
       "// Listen for the removal of the full notebook cells\n",
       "var notebookContainer = gd.closest('#notebook-container');\n",
       "if (notebookContainer) {{\n",
       "    x.observe(notebookContainer, {childList: true});\n",
       "}}\n",
       "\n",
       "// Listen for the clearing of the current output cell\n",
       "var outputEl = gd.closest('.output');\n",
       "if (outputEl) {{\n",
       "    x.observe(outputEl, {childList: true});\n",
       "}}\n",
       "\n",
       "                        })                };                });            </script>        </div>"
      ]
     },
     "metadata": {},
     "output_type": "display_data"
    }
   ],
   "source": [
    "fig = px.bar(df.groupby(['hour'])['views'].agg(['sum']).reset_index(), x='hour', y='sum', \n",
    "       title=\"Кількість переглядів погодинно\",\n",
    "       text_auto='.3s',\n",
    "       height=400\n",
    "    \n",
    ")\n",
    "\n",
    "fig.update_traces(\n",
    "    textfont_size=12, textangle=0, textposition=\"outside\", cliponaxis=False,\n",
    "    marker_color='rgb(158,202,225)', marker_line_color='rgb(8,48,107)',\n",
    "    marker_line_width=1.5, opacity=0.6\n",
    ")\n",
    "\n",
    "fig.update_layout(xaxis_title='Година', yaxis_title=\"Кількість переглядів\")\n",
    "fig.update_xaxes(dtick=1)"
   ]
  },
  {
   "cell_type": "markdown",
   "metadata": {
    "id": "A7XBtsc0HquR"
   },
   "source": [
    "### <span style=\"color:red; font-size:1.5em;\">Завдання 4</span>\n",
    "\n",
    "**Виконайте аналітику кращих авторів з допомопогою інструментів візуалізації:**\n",
    "\n",
    "**Для варіантів 11-15:**\n",
    "\n",
    "Виведіть топ-10 авторів з найбільшою кількістю коментарів (сума коментарів), які збирають їхні статті, за днями тижня.\n"
   ]
  },
  {
   "cell_type": "code",
   "execution_count": 15,
   "metadata": {
    "id": "bvHu48_dHquR"
   },
   "outputs": [],
   "source": [
    "top_authors = df.groupby(['author'])['comments'].agg(['sum']).sort_values(by='sum', ascending=False).head(10).index\n",
    "d = df[df['author'].isin(top_authors)].groupby(['author', 'dayofweek'])['comments'].agg(['sum']).reset_index()"
   ]
  },
  {
   "cell_type": "code",
   "execution_count": 16,
   "metadata": {
    "id": "ZY9TSVxDHquR",
    "outputId": "9c2dff84-e6e8-4422-ee55-b589c0eb79f3"
   },
   "outputs": [
    {
     "data": {
      "application/vnd.plotly.v1+json": {
       "config": {
        "plotlyServerURL": "https://plot.ly"
       },
       "data": [
        {
         "alignmentgroup": "True",
         "hovertemplate": "author=@Mithgol<br>dayofweek=%{x}<br>sum=%{y}<extra></extra>",
         "legendgroup": "@Mithgol",
         "marker": {
          "color": "#636efa",
          "pattern": {
           "shape": ""
          }
         },
         "name": "@Mithgol",
         "offsetgroup": "@Mithgol",
         "orientation": "v",
         "showlegend": true,
         "textposition": "auto",
         "type": "bar",
         "x": [
          1,
          2,
          3,
          4,
          5,
          6,
          7
         ],
         "xaxis": "x",
         "y": [
          3815,
          7204,
          4807,
          5865,
          5393,
          2372,
          2771
         ],
         "yaxis": "y"
        },
        {
         "alignmentgroup": "True",
         "hovertemplate": "author=@SLY_G<br>dayofweek=%{x}<br>sum=%{y}<extra></extra>",
         "legendgroup": "@SLY_G",
         "marker": {
          "color": "#EF553B",
          "pattern": {
           "shape": ""
          }
         },
         "name": "@SLY_G",
         "offsetgroup": "@SLY_G",
         "orientation": "v",
         "showlegend": true,
         "textposition": "auto",
         "type": "bar",
         "x": [
          1,
          2,
          3,
          4,
          5,
          6,
          7
         ],
         "xaxis": "x",
         "y": [
          9184,
          9926,
          10443,
          9533,
          9236,
          7979,
          6621
         ],
         "yaxis": "y"
        },
        {
         "alignmentgroup": "True",
         "hovertemplate": "author=@XaocCPS<br>dayofweek=%{x}<br>sum=%{y}<extra></extra>",
         "legendgroup": "@XaocCPS",
         "marker": {
          "color": "#00cc96",
          "pattern": {
           "shape": ""
          }
         },
         "name": "@XaocCPS",
         "offsetgroup": "@XaocCPS",
         "orientation": "v",
         "showlegend": true,
         "textposition": "auto",
         "type": "bar",
         "x": [
          1,
          2,
          3,
          4,
          5,
          6,
          7
         ],
         "xaxis": "x",
         "y": [
          4490,
          3956,
          4249,
          3790,
          4558,
          2058,
          1173
         ],
         "yaxis": "y"
        },
        {
         "alignmentgroup": "True",
         "hovertemplate": "author=@aleksandrit<br>dayofweek=%{x}<br>sum=%{y}<extra></extra>",
         "legendgroup": "@aleksandrit",
         "marker": {
          "color": "#ab63fa",
          "pattern": {
           "shape": ""
          }
         },
         "name": "@aleksandrit",
         "offsetgroup": "@aleksandrit",
         "orientation": "v",
         "showlegend": true,
         "textposition": "auto",
         "type": "bar",
         "x": [
          1,
          2,
          3,
          4,
          5,
          6,
          7
         ],
         "xaxis": "x",
         "y": [
          4596,
          7430,
          6156,
          4965,
          4014,
          2710,
          2562
         ],
         "yaxis": "y"
        },
        {
         "alignmentgroup": "True",
         "hovertemplate": "author=@alizar<br>dayofweek=%{x}<br>sum=%{y}<extra></extra>",
         "legendgroup": "@alizar",
         "marker": {
          "color": "#FFA15A",
          "pattern": {
           "shape": ""
          }
         },
         "name": "@alizar",
         "offsetgroup": "@alizar",
         "orientation": "v",
         "showlegend": true,
         "textposition": "auto",
         "type": "bar",
         "x": [
          1,
          2,
          3,
          4,
          5,
          6,
          7
         ],
         "xaxis": "x",
         "y": [
          55116,
          54229,
          63075,
          58243,
          51640,
          25520,
          34708
         ],
         "yaxis": "y"
        },
        {
         "alignmentgroup": "True",
         "hovertemplate": "author=@ilya42<br>dayofweek=%{x}<br>sum=%{y}<extra></extra>",
         "legendgroup": "@ilya42",
         "marker": {
          "color": "#19d3f3",
          "pattern": {
           "shape": ""
          }
         },
         "name": "@ilya42",
         "offsetgroup": "@ilya42",
         "orientation": "v",
         "showlegend": true,
         "textposition": "auto",
         "type": "bar",
         "x": [
          1,
          2,
          3,
          4,
          5,
          6,
          7
         ],
         "xaxis": "x",
         "y": [
          5692,
          4244,
          5189,
          4460,
          4462,
          2445,
          2946
         ],
         "yaxis": "y"
        },
        {
         "alignmentgroup": "True",
         "hovertemplate": "author=@ivansychev<br>dayofweek=%{x}<br>sum=%{y}<extra></extra>",
         "legendgroup": "@ivansychev",
         "marker": {
          "color": "#FF6692",
          "pattern": {
           "shape": ""
          }
         },
         "name": "@ivansychev",
         "offsetgroup": "@ivansychev",
         "orientation": "v",
         "showlegend": true,
         "textposition": "auto",
         "type": "bar",
         "x": [
          1,
          2,
          3,
          4,
          5,
          6,
          7
         ],
         "xaxis": "x",
         "y": [
          5950,
          5989,
          6172,
          5327,
          3347,
          4238,
          5364
         ],
         "yaxis": "y"
        },
        {
         "alignmentgroup": "True",
         "hovertemplate": "author=@jeston<br>dayofweek=%{x}<br>sum=%{y}<extra></extra>",
         "legendgroup": "@jeston",
         "marker": {
          "color": "#B6E880",
          "pattern": {
           "shape": ""
          }
         },
         "name": "@jeston",
         "offsetgroup": "@jeston",
         "orientation": "v",
         "showlegend": true,
         "textposition": "auto",
         "type": "bar",
         "x": [
          1,
          2,
          3,
          4,
          5,
          6,
          7
         ],
         "xaxis": "x",
         "y": [
          7134,
          7665,
          6984,
          7387,
          5068,
          4421,
          3421
         ],
         "yaxis": "y"
        },
        {
         "alignmentgroup": "True",
         "hovertemplate": "author=@marks<br>dayofweek=%{x}<br>sum=%{y}<extra></extra>",
         "legendgroup": "@marks",
         "marker": {
          "color": "#FF97FF",
          "pattern": {
           "shape": ""
          }
         },
         "name": "@marks",
         "offsetgroup": "@marks",
         "orientation": "v",
         "showlegend": true,
         "textposition": "auto",
         "type": "bar",
         "x": [
          1,
          2,
          3,
          4,
          5,
          6,
          7
         ],
         "xaxis": "x",
         "y": [
          27708,
          28107,
          31078,
          29681,
          27666,
          11616,
          23676
         ],
         "yaxis": "y"
        },
        {
         "alignmentgroup": "True",
         "hovertemplate": "author=@ragequit<br>dayofweek=%{x}<br>sum=%{y}<extra></extra>",
         "legendgroup": "@ragequit",
         "marker": {
          "color": "#FECB52",
          "pattern": {
           "shape": ""
          }
         },
         "name": "@ragequit",
         "offsetgroup": "@ragequit",
         "orientation": "v",
         "showlegend": true,
         "textposition": "auto",
         "type": "bar",
         "x": [
          1,
          2,
          3,
          4,
          5,
          6,
          7
         ],
         "xaxis": "x",
         "y": [
          4671,
          6461,
          5202,
          5537,
          5782,
          1837,
          713
         ],
         "yaxis": "y"
        }
       ],
       "layout": {
        "barmode": "group",
        "legend": {
         "title": {
          "text": "author"
         },
         "tracegroupgap": 0
        },
        "margin": {
         "t": 60
        },
        "template": {
         "data": {
          "bar": [
           {
            "error_x": {
             "color": "#2a3f5f"
            },
            "error_y": {
             "color": "#2a3f5f"
            },
            "marker": {
             "line": {
              "color": "#E5ECF6",
              "width": 0.5
             },
             "pattern": {
              "fillmode": "overlay",
              "size": 10,
              "solidity": 0.2
             }
            },
            "type": "bar"
           }
          ],
          "barpolar": [
           {
            "marker": {
             "line": {
              "color": "#E5ECF6",
              "width": 0.5
             },
             "pattern": {
              "fillmode": "overlay",
              "size": 10,
              "solidity": 0.2
             }
            },
            "type": "barpolar"
           }
          ],
          "carpet": [
           {
            "aaxis": {
             "endlinecolor": "#2a3f5f",
             "gridcolor": "white",
             "linecolor": "white",
             "minorgridcolor": "white",
             "startlinecolor": "#2a3f5f"
            },
            "baxis": {
             "endlinecolor": "#2a3f5f",
             "gridcolor": "white",
             "linecolor": "white",
             "minorgridcolor": "white",
             "startlinecolor": "#2a3f5f"
            },
            "type": "carpet"
           }
          ],
          "choropleth": [
           {
            "colorbar": {
             "outlinewidth": 0,
             "ticks": ""
            },
            "type": "choropleth"
           }
          ],
          "contour": [
           {
            "colorbar": {
             "outlinewidth": 0,
             "ticks": ""
            },
            "colorscale": [
             [
              0,
              "#0d0887"
             ],
             [
              0.1111111111111111,
              "#46039f"
             ],
             [
              0.2222222222222222,
              "#7201a8"
             ],
             [
              0.3333333333333333,
              "#9c179e"
             ],
             [
              0.4444444444444444,
              "#bd3786"
             ],
             [
              0.5555555555555556,
              "#d8576b"
             ],
             [
              0.6666666666666666,
              "#ed7953"
             ],
             [
              0.7777777777777778,
              "#fb9f3a"
             ],
             [
              0.8888888888888888,
              "#fdca26"
             ],
             [
              1,
              "#f0f921"
             ]
            ],
            "type": "contour"
           }
          ],
          "contourcarpet": [
           {
            "colorbar": {
             "outlinewidth": 0,
             "ticks": ""
            },
            "type": "contourcarpet"
           }
          ],
          "heatmap": [
           {
            "colorbar": {
             "outlinewidth": 0,
             "ticks": ""
            },
            "colorscale": [
             [
              0,
              "#0d0887"
             ],
             [
              0.1111111111111111,
              "#46039f"
             ],
             [
              0.2222222222222222,
              "#7201a8"
             ],
             [
              0.3333333333333333,
              "#9c179e"
             ],
             [
              0.4444444444444444,
              "#bd3786"
             ],
             [
              0.5555555555555556,
              "#d8576b"
             ],
             [
              0.6666666666666666,
              "#ed7953"
             ],
             [
              0.7777777777777778,
              "#fb9f3a"
             ],
             [
              0.8888888888888888,
              "#fdca26"
             ],
             [
              1,
              "#f0f921"
             ]
            ],
            "type": "heatmap"
           }
          ],
          "heatmapgl": [
           {
            "colorbar": {
             "outlinewidth": 0,
             "ticks": ""
            },
            "colorscale": [
             [
              0,
              "#0d0887"
             ],
             [
              0.1111111111111111,
              "#46039f"
             ],
             [
              0.2222222222222222,
              "#7201a8"
             ],
             [
              0.3333333333333333,
              "#9c179e"
             ],
             [
              0.4444444444444444,
              "#bd3786"
             ],
             [
              0.5555555555555556,
              "#d8576b"
             ],
             [
              0.6666666666666666,
              "#ed7953"
             ],
             [
              0.7777777777777778,
              "#fb9f3a"
             ],
             [
              0.8888888888888888,
              "#fdca26"
             ],
             [
              1,
              "#f0f921"
             ]
            ],
            "type": "heatmapgl"
           }
          ],
          "histogram": [
           {
            "marker": {
             "pattern": {
              "fillmode": "overlay",
              "size": 10,
              "solidity": 0.2
             }
            },
            "type": "histogram"
           }
          ],
          "histogram2d": [
           {
            "colorbar": {
             "outlinewidth": 0,
             "ticks": ""
            },
            "colorscale": [
             [
              0,
              "#0d0887"
             ],
             [
              0.1111111111111111,
              "#46039f"
             ],
             [
              0.2222222222222222,
              "#7201a8"
             ],
             [
              0.3333333333333333,
              "#9c179e"
             ],
             [
              0.4444444444444444,
              "#bd3786"
             ],
             [
              0.5555555555555556,
              "#d8576b"
             ],
             [
              0.6666666666666666,
              "#ed7953"
             ],
             [
              0.7777777777777778,
              "#fb9f3a"
             ],
             [
              0.8888888888888888,
              "#fdca26"
             ],
             [
              1,
              "#f0f921"
             ]
            ],
            "type": "histogram2d"
           }
          ],
          "histogram2dcontour": [
           {
            "colorbar": {
             "outlinewidth": 0,
             "ticks": ""
            },
            "colorscale": [
             [
              0,
              "#0d0887"
             ],
             [
              0.1111111111111111,
              "#46039f"
             ],
             [
              0.2222222222222222,
              "#7201a8"
             ],
             [
              0.3333333333333333,
              "#9c179e"
             ],
             [
              0.4444444444444444,
              "#bd3786"
             ],
             [
              0.5555555555555556,
              "#d8576b"
             ],
             [
              0.6666666666666666,
              "#ed7953"
             ],
             [
              0.7777777777777778,
              "#fb9f3a"
             ],
             [
              0.8888888888888888,
              "#fdca26"
             ],
             [
              1,
              "#f0f921"
             ]
            ],
            "type": "histogram2dcontour"
           }
          ],
          "mesh3d": [
           {
            "colorbar": {
             "outlinewidth": 0,
             "ticks": ""
            },
            "type": "mesh3d"
           }
          ],
          "parcoords": [
           {
            "line": {
             "colorbar": {
              "outlinewidth": 0,
              "ticks": ""
             }
            },
            "type": "parcoords"
           }
          ],
          "pie": [
           {
            "automargin": true,
            "type": "pie"
           }
          ],
          "scatter": [
           {
            "marker": {
             "colorbar": {
              "outlinewidth": 0,
              "ticks": ""
             }
            },
            "type": "scatter"
           }
          ],
          "scatter3d": [
           {
            "line": {
             "colorbar": {
              "outlinewidth": 0,
              "ticks": ""
             }
            },
            "marker": {
             "colorbar": {
              "outlinewidth": 0,
              "ticks": ""
             }
            },
            "type": "scatter3d"
           }
          ],
          "scattercarpet": [
           {
            "marker": {
             "colorbar": {
              "outlinewidth": 0,
              "ticks": ""
             }
            },
            "type": "scattercarpet"
           }
          ],
          "scattergeo": [
           {
            "marker": {
             "colorbar": {
              "outlinewidth": 0,
              "ticks": ""
             }
            },
            "type": "scattergeo"
           }
          ],
          "scattergl": [
           {
            "marker": {
             "colorbar": {
              "outlinewidth": 0,
              "ticks": ""
             }
            },
            "type": "scattergl"
           }
          ],
          "scattermapbox": [
           {
            "marker": {
             "colorbar": {
              "outlinewidth": 0,
              "ticks": ""
             }
            },
            "type": "scattermapbox"
           }
          ],
          "scatterpolar": [
           {
            "marker": {
             "colorbar": {
              "outlinewidth": 0,
              "ticks": ""
             }
            },
            "type": "scatterpolar"
           }
          ],
          "scatterpolargl": [
           {
            "marker": {
             "colorbar": {
              "outlinewidth": 0,
              "ticks": ""
             }
            },
            "type": "scatterpolargl"
           }
          ],
          "scatterternary": [
           {
            "marker": {
             "colorbar": {
              "outlinewidth": 0,
              "ticks": ""
             }
            },
            "type": "scatterternary"
           }
          ],
          "surface": [
           {
            "colorbar": {
             "outlinewidth": 0,
             "ticks": ""
            },
            "colorscale": [
             [
              0,
              "#0d0887"
             ],
             [
              0.1111111111111111,
              "#46039f"
             ],
             [
              0.2222222222222222,
              "#7201a8"
             ],
             [
              0.3333333333333333,
              "#9c179e"
             ],
             [
              0.4444444444444444,
              "#bd3786"
             ],
             [
              0.5555555555555556,
              "#d8576b"
             ],
             [
              0.6666666666666666,
              "#ed7953"
             ],
             [
              0.7777777777777778,
              "#fb9f3a"
             ],
             [
              0.8888888888888888,
              "#fdca26"
             ],
             [
              1,
              "#f0f921"
             ]
            ],
            "type": "surface"
           }
          ],
          "table": [
           {
            "cells": {
             "fill": {
              "color": "#EBF0F8"
             },
             "line": {
              "color": "white"
             }
            },
            "header": {
             "fill": {
              "color": "#C8D4E3"
             },
             "line": {
              "color": "white"
             }
            },
            "type": "table"
           }
          ]
         },
         "layout": {
          "annotationdefaults": {
           "arrowcolor": "#2a3f5f",
           "arrowhead": 0,
           "arrowwidth": 1
          },
          "autotypenumbers": "strict",
          "coloraxis": {
           "colorbar": {
            "outlinewidth": 0,
            "ticks": ""
           }
          },
          "colorscale": {
           "diverging": [
            [
             0,
             "#8e0152"
            ],
            [
             0.1,
             "#c51b7d"
            ],
            [
             0.2,
             "#de77ae"
            ],
            [
             0.3,
             "#f1b6da"
            ],
            [
             0.4,
             "#fde0ef"
            ],
            [
             0.5,
             "#f7f7f7"
            ],
            [
             0.6,
             "#e6f5d0"
            ],
            [
             0.7,
             "#b8e186"
            ],
            [
             0.8,
             "#7fbc41"
            ],
            [
             0.9,
             "#4d9221"
            ],
            [
             1,
             "#276419"
            ]
           ],
           "sequential": [
            [
             0,
             "#0d0887"
            ],
            [
             0.1111111111111111,
             "#46039f"
            ],
            [
             0.2222222222222222,
             "#7201a8"
            ],
            [
             0.3333333333333333,
             "#9c179e"
            ],
            [
             0.4444444444444444,
             "#bd3786"
            ],
            [
             0.5555555555555556,
             "#d8576b"
            ],
            [
             0.6666666666666666,
             "#ed7953"
            ],
            [
             0.7777777777777778,
             "#fb9f3a"
            ],
            [
             0.8888888888888888,
             "#fdca26"
            ],
            [
             1,
             "#f0f921"
            ]
           ],
           "sequentialminus": [
            [
             0,
             "#0d0887"
            ],
            [
             0.1111111111111111,
             "#46039f"
            ],
            [
             0.2222222222222222,
             "#7201a8"
            ],
            [
             0.3333333333333333,
             "#9c179e"
            ],
            [
             0.4444444444444444,
             "#bd3786"
            ],
            [
             0.5555555555555556,
             "#d8576b"
            ],
            [
             0.6666666666666666,
             "#ed7953"
            ],
            [
             0.7777777777777778,
             "#fb9f3a"
            ],
            [
             0.8888888888888888,
             "#fdca26"
            ],
            [
             1,
             "#f0f921"
            ]
           ]
          },
          "colorway": [
           "#636efa",
           "#EF553B",
           "#00cc96",
           "#ab63fa",
           "#FFA15A",
           "#19d3f3",
           "#FF6692",
           "#B6E880",
           "#FF97FF",
           "#FECB52"
          ],
          "font": {
           "color": "#2a3f5f"
          },
          "geo": {
           "bgcolor": "white",
           "lakecolor": "white",
           "landcolor": "#E5ECF6",
           "showlakes": true,
           "showland": true,
           "subunitcolor": "white"
          },
          "hoverlabel": {
           "align": "left"
          },
          "hovermode": "closest",
          "mapbox": {
           "style": "light"
          },
          "paper_bgcolor": "white",
          "plot_bgcolor": "#E5ECF6",
          "polar": {
           "angularaxis": {
            "gridcolor": "white",
            "linecolor": "white",
            "ticks": ""
           },
           "bgcolor": "#E5ECF6",
           "radialaxis": {
            "gridcolor": "white",
            "linecolor": "white",
            "ticks": ""
           }
          },
          "scene": {
           "xaxis": {
            "backgroundcolor": "#E5ECF6",
            "gridcolor": "white",
            "gridwidth": 2,
            "linecolor": "white",
            "showbackground": true,
            "ticks": "",
            "zerolinecolor": "white"
           },
           "yaxis": {
            "backgroundcolor": "#E5ECF6",
            "gridcolor": "white",
            "gridwidth": 2,
            "linecolor": "white",
            "showbackground": true,
            "ticks": "",
            "zerolinecolor": "white"
           },
           "zaxis": {
            "backgroundcolor": "#E5ECF6",
            "gridcolor": "white",
            "gridwidth": 2,
            "linecolor": "white",
            "showbackground": true,
            "ticks": "",
            "zerolinecolor": "white"
           }
          },
          "shapedefaults": {
           "line": {
            "color": "#2a3f5f"
           }
          },
          "ternary": {
           "aaxis": {
            "gridcolor": "white",
            "linecolor": "white",
            "ticks": ""
           },
           "baxis": {
            "gridcolor": "white",
            "linecolor": "white",
            "ticks": ""
           },
           "bgcolor": "#E5ECF6",
           "caxis": {
            "gridcolor": "white",
            "linecolor": "white",
            "ticks": ""
           }
          },
          "title": {
           "x": 0.05
          },
          "xaxis": {
           "automargin": true,
           "gridcolor": "white",
           "linecolor": "white",
           "ticks": "",
           "title": {
            "standoff": 15
           },
           "zerolinecolor": "white",
           "zerolinewidth": 2
          },
          "yaxis": {
           "automargin": true,
           "gridcolor": "white",
           "linecolor": "white",
           "ticks": "",
           "title": {
            "standoff": 15
           },
           "zerolinecolor": "white",
           "zerolinewidth": 2
          }
         }
        },
        "xaxis": {
         "anchor": "y",
         "domain": [
          0,
          1
         ],
         "dtick": 1,
         "title": {
          "text": "День тижня"
         }
        },
        "yaxis": {
         "anchor": "x",
         "domain": [
          0,
          1
         ],
         "title": {
          "text": "Кількість коментарів"
         }
        }
       }
      },
      "text/html": [
       "<div>                            <div id=\"20c804a8-366e-4531-80ab-fd10f5ba3b0a\" class=\"plotly-graph-div\" style=\"height:525px; width:100%;\"></div>            <script type=\"text/javascript\">                require([\"plotly\"], function(Plotly) {                    window.PLOTLYENV=window.PLOTLYENV || {};                                    if (document.getElementById(\"20c804a8-366e-4531-80ab-fd10f5ba3b0a\")) {                    Plotly.newPlot(                        \"20c804a8-366e-4531-80ab-fd10f5ba3b0a\",                        [{\"alignmentgroup\":\"True\",\"hovertemplate\":\"author=@Mithgol<br>dayofweek=%{x}<br>sum=%{y}<extra></extra>\",\"legendgroup\":\"@Mithgol\",\"marker\":{\"color\":\"#636efa\",\"pattern\":{\"shape\":\"\"}},\"name\":\"@Mithgol\",\"offsetgroup\":\"@Mithgol\",\"orientation\":\"v\",\"showlegend\":true,\"textposition\":\"auto\",\"x\":[1,2,3,4,5,6,7],\"xaxis\":\"x\",\"y\":[3815,7204,4807,5865,5393,2372,2771],\"yaxis\":\"y\",\"type\":\"bar\"},{\"alignmentgroup\":\"True\",\"hovertemplate\":\"author=@SLY_G<br>dayofweek=%{x}<br>sum=%{y}<extra></extra>\",\"legendgroup\":\"@SLY_G\",\"marker\":{\"color\":\"#EF553B\",\"pattern\":{\"shape\":\"\"}},\"name\":\"@SLY_G\",\"offsetgroup\":\"@SLY_G\",\"orientation\":\"v\",\"showlegend\":true,\"textposition\":\"auto\",\"x\":[1,2,3,4,5,6,7],\"xaxis\":\"x\",\"y\":[9184,9926,10443,9533,9236,7979,6621],\"yaxis\":\"y\",\"type\":\"bar\"},{\"alignmentgroup\":\"True\",\"hovertemplate\":\"author=@XaocCPS<br>dayofweek=%{x}<br>sum=%{y}<extra></extra>\",\"legendgroup\":\"@XaocCPS\",\"marker\":{\"color\":\"#00cc96\",\"pattern\":{\"shape\":\"\"}},\"name\":\"@XaocCPS\",\"offsetgroup\":\"@XaocCPS\",\"orientation\":\"v\",\"showlegend\":true,\"textposition\":\"auto\",\"x\":[1,2,3,4,5,6,7],\"xaxis\":\"x\",\"y\":[4490,3956,4249,3790,4558,2058,1173],\"yaxis\":\"y\",\"type\":\"bar\"},{\"alignmentgroup\":\"True\",\"hovertemplate\":\"author=@aleksandrit<br>dayofweek=%{x}<br>sum=%{y}<extra></extra>\",\"legendgroup\":\"@aleksandrit\",\"marker\":{\"color\":\"#ab63fa\",\"pattern\":{\"shape\":\"\"}},\"name\":\"@aleksandrit\",\"offsetgroup\":\"@aleksandrit\",\"orientation\":\"v\",\"showlegend\":true,\"textposition\":\"auto\",\"x\":[1,2,3,4,5,6,7],\"xaxis\":\"x\",\"y\":[4596,7430,6156,4965,4014,2710,2562],\"yaxis\":\"y\",\"type\":\"bar\"},{\"alignmentgroup\":\"True\",\"hovertemplate\":\"author=@alizar<br>dayofweek=%{x}<br>sum=%{y}<extra></extra>\",\"legendgroup\":\"@alizar\",\"marker\":{\"color\":\"#FFA15A\",\"pattern\":{\"shape\":\"\"}},\"name\":\"@alizar\",\"offsetgroup\":\"@alizar\",\"orientation\":\"v\",\"showlegend\":true,\"textposition\":\"auto\",\"x\":[1,2,3,4,5,6,7],\"xaxis\":\"x\",\"y\":[55116,54229,63075,58243,51640,25520,34708],\"yaxis\":\"y\",\"type\":\"bar\"},{\"alignmentgroup\":\"True\",\"hovertemplate\":\"author=@ilya42<br>dayofweek=%{x}<br>sum=%{y}<extra></extra>\",\"legendgroup\":\"@ilya42\",\"marker\":{\"color\":\"#19d3f3\",\"pattern\":{\"shape\":\"\"}},\"name\":\"@ilya42\",\"offsetgroup\":\"@ilya42\",\"orientation\":\"v\",\"showlegend\":true,\"textposition\":\"auto\",\"x\":[1,2,3,4,5,6,7],\"xaxis\":\"x\",\"y\":[5692,4244,5189,4460,4462,2445,2946],\"yaxis\":\"y\",\"type\":\"bar\"},{\"alignmentgroup\":\"True\",\"hovertemplate\":\"author=@ivansychev<br>dayofweek=%{x}<br>sum=%{y}<extra></extra>\",\"legendgroup\":\"@ivansychev\",\"marker\":{\"color\":\"#FF6692\",\"pattern\":{\"shape\":\"\"}},\"name\":\"@ivansychev\",\"offsetgroup\":\"@ivansychev\",\"orientation\":\"v\",\"showlegend\":true,\"textposition\":\"auto\",\"x\":[1,2,3,4,5,6,7],\"xaxis\":\"x\",\"y\":[5950,5989,6172,5327,3347,4238,5364],\"yaxis\":\"y\",\"type\":\"bar\"},{\"alignmentgroup\":\"True\",\"hovertemplate\":\"author=@jeston<br>dayofweek=%{x}<br>sum=%{y}<extra></extra>\",\"legendgroup\":\"@jeston\",\"marker\":{\"color\":\"#B6E880\",\"pattern\":{\"shape\":\"\"}},\"name\":\"@jeston\",\"offsetgroup\":\"@jeston\",\"orientation\":\"v\",\"showlegend\":true,\"textposition\":\"auto\",\"x\":[1,2,3,4,5,6,7],\"xaxis\":\"x\",\"y\":[7134,7665,6984,7387,5068,4421,3421],\"yaxis\":\"y\",\"type\":\"bar\"},{\"alignmentgroup\":\"True\",\"hovertemplate\":\"author=@marks<br>dayofweek=%{x}<br>sum=%{y}<extra></extra>\",\"legendgroup\":\"@marks\",\"marker\":{\"color\":\"#FF97FF\",\"pattern\":{\"shape\":\"\"}},\"name\":\"@marks\",\"offsetgroup\":\"@marks\",\"orientation\":\"v\",\"showlegend\":true,\"textposition\":\"auto\",\"x\":[1,2,3,4,5,6,7],\"xaxis\":\"x\",\"y\":[27708,28107,31078,29681,27666,11616,23676],\"yaxis\":\"y\",\"type\":\"bar\"},{\"alignmentgroup\":\"True\",\"hovertemplate\":\"author=@ragequit<br>dayofweek=%{x}<br>sum=%{y}<extra></extra>\",\"legendgroup\":\"@ragequit\",\"marker\":{\"color\":\"#FECB52\",\"pattern\":{\"shape\":\"\"}},\"name\":\"@ragequit\",\"offsetgroup\":\"@ragequit\",\"orientation\":\"v\",\"showlegend\":true,\"textposition\":\"auto\",\"x\":[1,2,3,4,5,6,7],\"xaxis\":\"x\",\"y\":[4671,6461,5202,5537,5782,1837,713],\"yaxis\":\"y\",\"type\":\"bar\"}],                        {\"template\":{\"data\":{\"bar\":[{\"error_x\":{\"color\":\"#2a3f5f\"},\"error_y\":{\"color\":\"#2a3f5f\"},\"marker\":{\"line\":{\"color\":\"#E5ECF6\",\"width\":0.5},\"pattern\":{\"fillmode\":\"overlay\",\"size\":10,\"solidity\":0.2}},\"type\":\"bar\"}],\"barpolar\":[{\"marker\":{\"line\":{\"color\":\"#E5ECF6\",\"width\":0.5},\"pattern\":{\"fillmode\":\"overlay\",\"size\":10,\"solidity\":0.2}},\"type\":\"barpolar\"}],\"carpet\":[{\"aaxis\":{\"endlinecolor\":\"#2a3f5f\",\"gridcolor\":\"white\",\"linecolor\":\"white\",\"minorgridcolor\":\"white\",\"startlinecolor\":\"#2a3f5f\"},\"baxis\":{\"endlinecolor\":\"#2a3f5f\",\"gridcolor\":\"white\",\"linecolor\":\"white\",\"minorgridcolor\":\"white\",\"startlinecolor\":\"#2a3f5f\"},\"type\":\"carpet\"}],\"choropleth\":[{\"colorbar\":{\"outlinewidth\":0,\"ticks\":\"\"},\"type\":\"choropleth\"}],\"contour\":[{\"colorbar\":{\"outlinewidth\":0,\"ticks\":\"\"},\"colorscale\":[[0.0,\"#0d0887\"],[0.1111111111111111,\"#46039f\"],[0.2222222222222222,\"#7201a8\"],[0.3333333333333333,\"#9c179e\"],[0.4444444444444444,\"#bd3786\"],[0.5555555555555556,\"#d8576b\"],[0.6666666666666666,\"#ed7953\"],[0.7777777777777778,\"#fb9f3a\"],[0.8888888888888888,\"#fdca26\"],[1.0,\"#f0f921\"]],\"type\":\"contour\"}],\"contourcarpet\":[{\"colorbar\":{\"outlinewidth\":0,\"ticks\":\"\"},\"type\":\"contourcarpet\"}],\"heatmap\":[{\"colorbar\":{\"outlinewidth\":0,\"ticks\":\"\"},\"colorscale\":[[0.0,\"#0d0887\"],[0.1111111111111111,\"#46039f\"],[0.2222222222222222,\"#7201a8\"],[0.3333333333333333,\"#9c179e\"],[0.4444444444444444,\"#bd3786\"],[0.5555555555555556,\"#d8576b\"],[0.6666666666666666,\"#ed7953\"],[0.7777777777777778,\"#fb9f3a\"],[0.8888888888888888,\"#fdca26\"],[1.0,\"#f0f921\"]],\"type\":\"heatmap\"}],\"heatmapgl\":[{\"colorbar\":{\"outlinewidth\":0,\"ticks\":\"\"},\"colorscale\":[[0.0,\"#0d0887\"],[0.1111111111111111,\"#46039f\"],[0.2222222222222222,\"#7201a8\"],[0.3333333333333333,\"#9c179e\"],[0.4444444444444444,\"#bd3786\"],[0.5555555555555556,\"#d8576b\"],[0.6666666666666666,\"#ed7953\"],[0.7777777777777778,\"#fb9f3a\"],[0.8888888888888888,\"#fdca26\"],[1.0,\"#f0f921\"]],\"type\":\"heatmapgl\"}],\"histogram\":[{\"marker\":{\"pattern\":{\"fillmode\":\"overlay\",\"size\":10,\"solidity\":0.2}},\"type\":\"histogram\"}],\"histogram2d\":[{\"colorbar\":{\"outlinewidth\":0,\"ticks\":\"\"},\"colorscale\":[[0.0,\"#0d0887\"],[0.1111111111111111,\"#46039f\"],[0.2222222222222222,\"#7201a8\"],[0.3333333333333333,\"#9c179e\"],[0.4444444444444444,\"#bd3786\"],[0.5555555555555556,\"#d8576b\"],[0.6666666666666666,\"#ed7953\"],[0.7777777777777778,\"#fb9f3a\"],[0.8888888888888888,\"#fdca26\"],[1.0,\"#f0f921\"]],\"type\":\"histogram2d\"}],\"histogram2dcontour\":[{\"colorbar\":{\"outlinewidth\":0,\"ticks\":\"\"},\"colorscale\":[[0.0,\"#0d0887\"],[0.1111111111111111,\"#46039f\"],[0.2222222222222222,\"#7201a8\"],[0.3333333333333333,\"#9c179e\"],[0.4444444444444444,\"#bd3786\"],[0.5555555555555556,\"#d8576b\"],[0.6666666666666666,\"#ed7953\"],[0.7777777777777778,\"#fb9f3a\"],[0.8888888888888888,\"#fdca26\"],[1.0,\"#f0f921\"]],\"type\":\"histogram2dcontour\"}],\"mesh3d\":[{\"colorbar\":{\"outlinewidth\":0,\"ticks\":\"\"},\"type\":\"mesh3d\"}],\"parcoords\":[{\"line\":{\"colorbar\":{\"outlinewidth\":0,\"ticks\":\"\"}},\"type\":\"parcoords\"}],\"pie\":[{\"automargin\":true,\"type\":\"pie\"}],\"scatter\":[{\"marker\":{\"colorbar\":{\"outlinewidth\":0,\"ticks\":\"\"}},\"type\":\"scatter\"}],\"scatter3d\":[{\"line\":{\"colorbar\":{\"outlinewidth\":0,\"ticks\":\"\"}},\"marker\":{\"colorbar\":{\"outlinewidth\":0,\"ticks\":\"\"}},\"type\":\"scatter3d\"}],\"scattercarpet\":[{\"marker\":{\"colorbar\":{\"outlinewidth\":0,\"ticks\":\"\"}},\"type\":\"scattercarpet\"}],\"scattergeo\":[{\"marker\":{\"colorbar\":{\"outlinewidth\":0,\"ticks\":\"\"}},\"type\":\"scattergeo\"}],\"scattergl\":[{\"marker\":{\"colorbar\":{\"outlinewidth\":0,\"ticks\":\"\"}},\"type\":\"scattergl\"}],\"scattermapbox\":[{\"marker\":{\"colorbar\":{\"outlinewidth\":0,\"ticks\":\"\"}},\"type\":\"scattermapbox\"}],\"scatterpolar\":[{\"marker\":{\"colorbar\":{\"outlinewidth\":0,\"ticks\":\"\"}},\"type\":\"scatterpolar\"}],\"scatterpolargl\":[{\"marker\":{\"colorbar\":{\"outlinewidth\":0,\"ticks\":\"\"}},\"type\":\"scatterpolargl\"}],\"scatterternary\":[{\"marker\":{\"colorbar\":{\"outlinewidth\":0,\"ticks\":\"\"}},\"type\":\"scatterternary\"}],\"surface\":[{\"colorbar\":{\"outlinewidth\":0,\"ticks\":\"\"},\"colorscale\":[[0.0,\"#0d0887\"],[0.1111111111111111,\"#46039f\"],[0.2222222222222222,\"#7201a8\"],[0.3333333333333333,\"#9c179e\"],[0.4444444444444444,\"#bd3786\"],[0.5555555555555556,\"#d8576b\"],[0.6666666666666666,\"#ed7953\"],[0.7777777777777778,\"#fb9f3a\"],[0.8888888888888888,\"#fdca26\"],[1.0,\"#f0f921\"]],\"type\":\"surface\"}],\"table\":[{\"cells\":{\"fill\":{\"color\":\"#EBF0F8\"},\"line\":{\"color\":\"white\"}},\"header\":{\"fill\":{\"color\":\"#C8D4E3\"},\"line\":{\"color\":\"white\"}},\"type\":\"table\"}]},\"layout\":{\"annotationdefaults\":{\"arrowcolor\":\"#2a3f5f\",\"arrowhead\":0,\"arrowwidth\":1},\"autotypenumbers\":\"strict\",\"coloraxis\":{\"colorbar\":{\"outlinewidth\":0,\"ticks\":\"\"}},\"colorscale\":{\"diverging\":[[0,\"#8e0152\"],[0.1,\"#c51b7d\"],[0.2,\"#de77ae\"],[0.3,\"#f1b6da\"],[0.4,\"#fde0ef\"],[0.5,\"#f7f7f7\"],[0.6,\"#e6f5d0\"],[0.7,\"#b8e186\"],[0.8,\"#7fbc41\"],[0.9,\"#4d9221\"],[1,\"#276419\"]],\"sequential\":[[0.0,\"#0d0887\"],[0.1111111111111111,\"#46039f\"],[0.2222222222222222,\"#7201a8\"],[0.3333333333333333,\"#9c179e\"],[0.4444444444444444,\"#bd3786\"],[0.5555555555555556,\"#d8576b\"],[0.6666666666666666,\"#ed7953\"],[0.7777777777777778,\"#fb9f3a\"],[0.8888888888888888,\"#fdca26\"],[1.0,\"#f0f921\"]],\"sequentialminus\":[[0.0,\"#0d0887\"],[0.1111111111111111,\"#46039f\"],[0.2222222222222222,\"#7201a8\"],[0.3333333333333333,\"#9c179e\"],[0.4444444444444444,\"#bd3786\"],[0.5555555555555556,\"#d8576b\"],[0.6666666666666666,\"#ed7953\"],[0.7777777777777778,\"#fb9f3a\"],[0.8888888888888888,\"#fdca26\"],[1.0,\"#f0f921\"]]},\"colorway\":[\"#636efa\",\"#EF553B\",\"#00cc96\",\"#ab63fa\",\"#FFA15A\",\"#19d3f3\",\"#FF6692\",\"#B6E880\",\"#FF97FF\",\"#FECB52\"],\"font\":{\"color\":\"#2a3f5f\"},\"geo\":{\"bgcolor\":\"white\",\"lakecolor\":\"white\",\"landcolor\":\"#E5ECF6\",\"showlakes\":true,\"showland\":true,\"subunitcolor\":\"white\"},\"hoverlabel\":{\"align\":\"left\"},\"hovermode\":\"closest\",\"mapbox\":{\"style\":\"light\"},\"paper_bgcolor\":\"white\",\"plot_bgcolor\":\"#E5ECF6\",\"polar\":{\"angularaxis\":{\"gridcolor\":\"white\",\"linecolor\":\"white\",\"ticks\":\"\"},\"bgcolor\":\"#E5ECF6\",\"radialaxis\":{\"gridcolor\":\"white\",\"linecolor\":\"white\",\"ticks\":\"\"}},\"scene\":{\"xaxis\":{\"backgroundcolor\":\"#E5ECF6\",\"gridcolor\":\"white\",\"gridwidth\":2,\"linecolor\":\"white\",\"showbackground\":true,\"ticks\":\"\",\"zerolinecolor\":\"white\"},\"yaxis\":{\"backgroundcolor\":\"#E5ECF6\",\"gridcolor\":\"white\",\"gridwidth\":2,\"linecolor\":\"white\",\"showbackground\":true,\"ticks\":\"\",\"zerolinecolor\":\"white\"},\"zaxis\":{\"backgroundcolor\":\"#E5ECF6\",\"gridcolor\":\"white\",\"gridwidth\":2,\"linecolor\":\"white\",\"showbackground\":true,\"ticks\":\"\",\"zerolinecolor\":\"white\"}},\"shapedefaults\":{\"line\":{\"color\":\"#2a3f5f\"}},\"ternary\":{\"aaxis\":{\"gridcolor\":\"white\",\"linecolor\":\"white\",\"ticks\":\"\"},\"baxis\":{\"gridcolor\":\"white\",\"linecolor\":\"white\",\"ticks\":\"\"},\"bgcolor\":\"#E5ECF6\",\"caxis\":{\"gridcolor\":\"white\",\"linecolor\":\"white\",\"ticks\":\"\"}},\"title\":{\"x\":0.05},\"xaxis\":{\"automargin\":true,\"gridcolor\":\"white\",\"linecolor\":\"white\",\"ticks\":\"\",\"title\":{\"standoff\":15},\"zerolinecolor\":\"white\",\"zerolinewidth\":2},\"yaxis\":{\"automargin\":true,\"gridcolor\":\"white\",\"linecolor\":\"white\",\"ticks\":\"\",\"title\":{\"standoff\":15},\"zerolinecolor\":\"white\",\"zerolinewidth\":2}}},\"xaxis\":{\"anchor\":\"y\",\"domain\":[0.0,1.0],\"title\":{\"text\":\"\\u0414\\u0435\\u043d\\u044c \\u0442\\u0438\\u0436\\u043d\\u044f\"},\"dtick\":1},\"yaxis\":{\"anchor\":\"x\",\"domain\":[0.0,1.0],\"title\":{\"text\":\"\\u041a\\u0456\\u043b\\u044c\\u043a\\u0456\\u0441\\u0442\\u044c \\u043a\\u043e\\u043c\\u0435\\u043d\\u0442\\u0430\\u0440\\u0456\\u0432\"}},\"legend\":{\"title\":{\"text\":\"author\"},\"tracegroupgap\":0},\"margin\":{\"t\":60},\"barmode\":\"group\"},                        {\"responsive\": true}                    ).then(function(){\n",
       "                            \n",
       "var gd = document.getElementById('20c804a8-366e-4531-80ab-fd10f5ba3b0a');\n",
       "var x = new MutationObserver(function (mutations, observer) {{\n",
       "        var display = window.getComputedStyle(gd).display;\n",
       "        if (!display || display === 'none') {{\n",
       "            console.log([gd, 'removed!']);\n",
       "            Plotly.purge(gd);\n",
       "            observer.disconnect();\n",
       "        }}\n",
       "}});\n",
       "\n",
       "// Listen for the removal of the full notebook cells\n",
       "var notebookContainer = gd.closest('#notebook-container');\n",
       "if (notebookContainer) {{\n",
       "    x.observe(notebookContainer, {childList: true});\n",
       "}}\n",
       "\n",
       "// Listen for the clearing of the current output cell\n",
       "var outputEl = gd.closest('.output');\n",
       "if (outputEl) {{\n",
       "    x.observe(outputEl, {childList: true});\n",
       "}}\n",
       "\n",
       "                        })                };                });            </script>        </div>"
      ]
     },
     "metadata": {},
     "output_type": "display_data"
    }
   ],
   "source": [
    "fig = px.bar(d, x=\"dayofweek\", y=\"sum\", color=\"author\", barmode=\"group\")\n",
    "\n",
    "fig.update_layout(xaxis_title='День тижня', yaxis_title=\"Кількість коментарів\")\n",
    "fig.update_xaxes(dtick=1)"
   ]
  },
  {
   "cell_type": "markdown",
   "metadata": {
    "id": "mH-R_g80HquR"
   },
   "source": [
    "### <span style=\"color:red; font-size:1.5em;\">Завдання 5</span>\n",
    "\n",
    "**Проаналізуйте день тижня та пору дня, за яких автори публікують свої статті найчастіше:**\n",
    "\n",
    "\n",
    "**Для варіантів 11-15:**\n",
    "\n",
    "Чи правда, що автори зазвичай пишуть щонеділі вночі (00:00 - 04:59)?\n",
    "\n",
    "**⭕️ Ні, зазвичай в неділю автори пишуть ввечері (17:00 - 23:59) = 4251 публікація**"
   ]
  },
  {
   "cell_type": "code",
   "execution_count": 17,
   "metadata": {
    "id": "Rcpb10uxHquR",
    "outputId": "0cc6acbe-0215-420c-ec59-8410d2c31aca"
   },
   "outputs": [
    {
     "data": {
      "application/vnd.plotly.v1+json": {
       "config": {
        "plotlyServerURL": "https://plot.ly"
       },
       "data": [
        {
         "alignmentgroup": "True",
         "hovertemplate": "timegroup_of_the_day=00:00 - 4:59<br>dayofweek=%{x}<br>count=%{y}<extra></extra>",
         "legendgroup": "00:00 - 4:59",
         "marker": {
          "color": "rgb(136, 204, 238)",
          "pattern": {
           "shape": "."
          }
         },
         "name": "00:00 - 4:59",
         "offsetgroup": "00:00 - 4:59",
         "orientation": "v",
         "showlegend": true,
         "textposition": "auto",
         "type": "bar",
         "x": [
          1,
          2,
          3,
          4,
          5,
          6,
          7
         ],
         "xaxis": "x",
         "y": [
          1654,
          1894,
          2042,
          1972,
          1892,
          1420,
          1284
         ],
         "yaxis": "y"
        },
        {
         "alignmentgroup": "True",
         "hovertemplate": "timegroup_of_the_day=5:00 - 11:59<br>dayofweek=%{x}<br>count=%{y}<extra></extra>",
         "legendgroup": "5:00 - 11:59",
         "marker": {
          "color": "rgb(204, 102, 119)",
          "pattern": {
           "shape": "x"
          }
         },
         "name": "5:00 - 11:59",
         "offsetgroup": "5:00 - 11:59",
         "orientation": "v",
         "showlegend": true,
         "textposition": "auto",
         "type": "bar",
         "x": [
          1,
          2,
          3,
          4,
          5,
          6,
          7
         ],
         "xaxis": "x",
         "y": [
          5384,
          5708,
          5246,
          4890,
          4819,
          1168,
          1080
         ],
         "yaxis": "y"
        },
        {
         "alignmentgroup": "True",
         "hovertemplate": "timegroup_of_the_day=12:00 - 16:59<br>dayofweek=%{x}<br>count=%{y}<extra></extra>",
         "legendgroup": "12:00 - 16:59",
         "marker": {
          "color": "rgb(221, 204, 119)",
          "pattern": {
           "shape": "+"
          }
         },
         "name": "12:00 - 16:59",
         "offsetgroup": "12:00 - 16:59",
         "orientation": "v",
         "showlegend": true,
         "textposition": "auto",
         "type": "bar",
         "x": [
          1,
          2,
          3,
          4,
          5,
          6,
          7
         ],
         "xaxis": "x",
         "y": [
          9321,
          9806,
          9379,
          9355,
          8705,
          2505,
          2897
         ],
         "yaxis": "y"
        },
        {
         "alignmentgroup": "True",
         "hovertemplate": "timegroup_of_the_day=17:00 - 23:59<br>dayofweek=%{x}<br>count=%{y}<extra></extra>",
         "legendgroup": "17:00 - 23:59",
         "marker": {
          "color": "rgb(17, 119, 51)",
          "pattern": {
           "shape": "/"
          }
         },
         "name": "17:00 - 23:59",
         "offsetgroup": "17:00 - 23:59",
         "orientation": "v",
         "showlegend": true,
         "textposition": "auto",
         "type": "bar",
         "x": [
          1,
          2,
          3,
          4,
          5,
          6,
          7
         ],
         "xaxis": "x",
         "y": [
          7277,
          7167,
          6993,
          6865,
          5876,
          3287,
          4251
         ],
         "yaxis": "y"
        }
       ],
       "layout": {
        "barmode": "group",
        "legend": {
         "title": {
          "text": "timegroup_of_the_day"
         },
         "tracegroupgap": 0
        },
        "margin": {
         "t": 60
        },
        "template": {
         "data": {
          "bar": [
           {
            "error_x": {
             "color": "#2a3f5f"
            },
            "error_y": {
             "color": "#2a3f5f"
            },
            "marker": {
             "line": {
              "color": "#E5ECF6",
              "width": 0.5
             },
             "pattern": {
              "fillmode": "overlay",
              "size": 10,
              "solidity": 0.2
             }
            },
            "type": "bar"
           }
          ],
          "barpolar": [
           {
            "marker": {
             "line": {
              "color": "#E5ECF6",
              "width": 0.5
             },
             "pattern": {
              "fillmode": "overlay",
              "size": 10,
              "solidity": 0.2
             }
            },
            "type": "barpolar"
           }
          ],
          "carpet": [
           {
            "aaxis": {
             "endlinecolor": "#2a3f5f",
             "gridcolor": "white",
             "linecolor": "white",
             "minorgridcolor": "white",
             "startlinecolor": "#2a3f5f"
            },
            "baxis": {
             "endlinecolor": "#2a3f5f",
             "gridcolor": "white",
             "linecolor": "white",
             "minorgridcolor": "white",
             "startlinecolor": "#2a3f5f"
            },
            "type": "carpet"
           }
          ],
          "choropleth": [
           {
            "colorbar": {
             "outlinewidth": 0,
             "ticks": ""
            },
            "type": "choropleth"
           }
          ],
          "contour": [
           {
            "colorbar": {
             "outlinewidth": 0,
             "ticks": ""
            },
            "colorscale": [
             [
              0,
              "#0d0887"
             ],
             [
              0.1111111111111111,
              "#46039f"
             ],
             [
              0.2222222222222222,
              "#7201a8"
             ],
             [
              0.3333333333333333,
              "#9c179e"
             ],
             [
              0.4444444444444444,
              "#bd3786"
             ],
             [
              0.5555555555555556,
              "#d8576b"
             ],
             [
              0.6666666666666666,
              "#ed7953"
             ],
             [
              0.7777777777777778,
              "#fb9f3a"
             ],
             [
              0.8888888888888888,
              "#fdca26"
             ],
             [
              1,
              "#f0f921"
             ]
            ],
            "type": "contour"
           }
          ],
          "contourcarpet": [
           {
            "colorbar": {
             "outlinewidth": 0,
             "ticks": ""
            },
            "type": "contourcarpet"
           }
          ],
          "heatmap": [
           {
            "colorbar": {
             "outlinewidth": 0,
             "ticks": ""
            },
            "colorscale": [
             [
              0,
              "#0d0887"
             ],
             [
              0.1111111111111111,
              "#46039f"
             ],
             [
              0.2222222222222222,
              "#7201a8"
             ],
             [
              0.3333333333333333,
              "#9c179e"
             ],
             [
              0.4444444444444444,
              "#bd3786"
             ],
             [
              0.5555555555555556,
              "#d8576b"
             ],
             [
              0.6666666666666666,
              "#ed7953"
             ],
             [
              0.7777777777777778,
              "#fb9f3a"
             ],
             [
              0.8888888888888888,
              "#fdca26"
             ],
             [
              1,
              "#f0f921"
             ]
            ],
            "type": "heatmap"
           }
          ],
          "heatmapgl": [
           {
            "colorbar": {
             "outlinewidth": 0,
             "ticks": ""
            },
            "colorscale": [
             [
              0,
              "#0d0887"
             ],
             [
              0.1111111111111111,
              "#46039f"
             ],
             [
              0.2222222222222222,
              "#7201a8"
             ],
             [
              0.3333333333333333,
              "#9c179e"
             ],
             [
              0.4444444444444444,
              "#bd3786"
             ],
             [
              0.5555555555555556,
              "#d8576b"
             ],
             [
              0.6666666666666666,
              "#ed7953"
             ],
             [
              0.7777777777777778,
              "#fb9f3a"
             ],
             [
              0.8888888888888888,
              "#fdca26"
             ],
             [
              1,
              "#f0f921"
             ]
            ],
            "type": "heatmapgl"
           }
          ],
          "histogram": [
           {
            "marker": {
             "pattern": {
              "fillmode": "overlay",
              "size": 10,
              "solidity": 0.2
             }
            },
            "type": "histogram"
           }
          ],
          "histogram2d": [
           {
            "colorbar": {
             "outlinewidth": 0,
             "ticks": ""
            },
            "colorscale": [
             [
              0,
              "#0d0887"
             ],
             [
              0.1111111111111111,
              "#46039f"
             ],
             [
              0.2222222222222222,
              "#7201a8"
             ],
             [
              0.3333333333333333,
              "#9c179e"
             ],
             [
              0.4444444444444444,
              "#bd3786"
             ],
             [
              0.5555555555555556,
              "#d8576b"
             ],
             [
              0.6666666666666666,
              "#ed7953"
             ],
             [
              0.7777777777777778,
              "#fb9f3a"
             ],
             [
              0.8888888888888888,
              "#fdca26"
             ],
             [
              1,
              "#f0f921"
             ]
            ],
            "type": "histogram2d"
           }
          ],
          "histogram2dcontour": [
           {
            "colorbar": {
             "outlinewidth": 0,
             "ticks": ""
            },
            "colorscale": [
             [
              0,
              "#0d0887"
             ],
             [
              0.1111111111111111,
              "#46039f"
             ],
             [
              0.2222222222222222,
              "#7201a8"
             ],
             [
              0.3333333333333333,
              "#9c179e"
             ],
             [
              0.4444444444444444,
              "#bd3786"
             ],
             [
              0.5555555555555556,
              "#d8576b"
             ],
             [
              0.6666666666666666,
              "#ed7953"
             ],
             [
              0.7777777777777778,
              "#fb9f3a"
             ],
             [
              0.8888888888888888,
              "#fdca26"
             ],
             [
              1,
              "#f0f921"
             ]
            ],
            "type": "histogram2dcontour"
           }
          ],
          "mesh3d": [
           {
            "colorbar": {
             "outlinewidth": 0,
             "ticks": ""
            },
            "type": "mesh3d"
           }
          ],
          "parcoords": [
           {
            "line": {
             "colorbar": {
              "outlinewidth": 0,
              "ticks": ""
             }
            },
            "type": "parcoords"
           }
          ],
          "pie": [
           {
            "automargin": true,
            "type": "pie"
           }
          ],
          "scatter": [
           {
            "marker": {
             "colorbar": {
              "outlinewidth": 0,
              "ticks": ""
             }
            },
            "type": "scatter"
           }
          ],
          "scatter3d": [
           {
            "line": {
             "colorbar": {
              "outlinewidth": 0,
              "ticks": ""
             }
            },
            "marker": {
             "colorbar": {
              "outlinewidth": 0,
              "ticks": ""
             }
            },
            "type": "scatter3d"
           }
          ],
          "scattercarpet": [
           {
            "marker": {
             "colorbar": {
              "outlinewidth": 0,
              "ticks": ""
             }
            },
            "type": "scattercarpet"
           }
          ],
          "scattergeo": [
           {
            "marker": {
             "colorbar": {
              "outlinewidth": 0,
              "ticks": ""
             }
            },
            "type": "scattergeo"
           }
          ],
          "scattergl": [
           {
            "marker": {
             "colorbar": {
              "outlinewidth": 0,
              "ticks": ""
             }
            },
            "type": "scattergl"
           }
          ],
          "scattermapbox": [
           {
            "marker": {
             "colorbar": {
              "outlinewidth": 0,
              "ticks": ""
             }
            },
            "type": "scattermapbox"
           }
          ],
          "scatterpolar": [
           {
            "marker": {
             "colorbar": {
              "outlinewidth": 0,
              "ticks": ""
             }
            },
            "type": "scatterpolar"
           }
          ],
          "scatterpolargl": [
           {
            "marker": {
             "colorbar": {
              "outlinewidth": 0,
              "ticks": ""
             }
            },
            "type": "scatterpolargl"
           }
          ],
          "scatterternary": [
           {
            "marker": {
             "colorbar": {
              "outlinewidth": 0,
              "ticks": ""
             }
            },
            "type": "scatterternary"
           }
          ],
          "surface": [
           {
            "colorbar": {
             "outlinewidth": 0,
             "ticks": ""
            },
            "colorscale": [
             [
              0,
              "#0d0887"
             ],
             [
              0.1111111111111111,
              "#46039f"
             ],
             [
              0.2222222222222222,
              "#7201a8"
             ],
             [
              0.3333333333333333,
              "#9c179e"
             ],
             [
              0.4444444444444444,
              "#bd3786"
             ],
             [
              0.5555555555555556,
              "#d8576b"
             ],
             [
              0.6666666666666666,
              "#ed7953"
             ],
             [
              0.7777777777777778,
              "#fb9f3a"
             ],
             [
              0.8888888888888888,
              "#fdca26"
             ],
             [
              1,
              "#f0f921"
             ]
            ],
            "type": "surface"
           }
          ],
          "table": [
           {
            "cells": {
             "fill": {
              "color": "#EBF0F8"
             },
             "line": {
              "color": "white"
             }
            },
            "header": {
             "fill": {
              "color": "#C8D4E3"
             },
             "line": {
              "color": "white"
             }
            },
            "type": "table"
           }
          ]
         },
         "layout": {
          "annotationdefaults": {
           "arrowcolor": "#2a3f5f",
           "arrowhead": 0,
           "arrowwidth": 1
          },
          "autotypenumbers": "strict",
          "coloraxis": {
           "colorbar": {
            "outlinewidth": 0,
            "ticks": ""
           }
          },
          "colorscale": {
           "diverging": [
            [
             0,
             "#8e0152"
            ],
            [
             0.1,
             "#c51b7d"
            ],
            [
             0.2,
             "#de77ae"
            ],
            [
             0.3,
             "#f1b6da"
            ],
            [
             0.4,
             "#fde0ef"
            ],
            [
             0.5,
             "#f7f7f7"
            ],
            [
             0.6,
             "#e6f5d0"
            ],
            [
             0.7,
             "#b8e186"
            ],
            [
             0.8,
             "#7fbc41"
            ],
            [
             0.9,
             "#4d9221"
            ],
            [
             1,
             "#276419"
            ]
           ],
           "sequential": [
            [
             0,
             "#0d0887"
            ],
            [
             0.1111111111111111,
             "#46039f"
            ],
            [
             0.2222222222222222,
             "#7201a8"
            ],
            [
             0.3333333333333333,
             "#9c179e"
            ],
            [
             0.4444444444444444,
             "#bd3786"
            ],
            [
             0.5555555555555556,
             "#d8576b"
            ],
            [
             0.6666666666666666,
             "#ed7953"
            ],
            [
             0.7777777777777778,
             "#fb9f3a"
            ],
            [
             0.8888888888888888,
             "#fdca26"
            ],
            [
             1,
             "#f0f921"
            ]
           ],
           "sequentialminus": [
            [
             0,
             "#0d0887"
            ],
            [
             0.1111111111111111,
             "#46039f"
            ],
            [
             0.2222222222222222,
             "#7201a8"
            ],
            [
             0.3333333333333333,
             "#9c179e"
            ],
            [
             0.4444444444444444,
             "#bd3786"
            ],
            [
             0.5555555555555556,
             "#d8576b"
            ],
            [
             0.6666666666666666,
             "#ed7953"
            ],
            [
             0.7777777777777778,
             "#fb9f3a"
            ],
            [
             0.8888888888888888,
             "#fdca26"
            ],
            [
             1,
             "#f0f921"
            ]
           ]
          },
          "colorway": [
           "#636efa",
           "#EF553B",
           "#00cc96",
           "#ab63fa",
           "#FFA15A",
           "#19d3f3",
           "#FF6692",
           "#B6E880",
           "#FF97FF",
           "#FECB52"
          ],
          "font": {
           "color": "#2a3f5f"
          },
          "geo": {
           "bgcolor": "white",
           "lakecolor": "white",
           "landcolor": "#E5ECF6",
           "showlakes": true,
           "showland": true,
           "subunitcolor": "white"
          },
          "hoverlabel": {
           "align": "left"
          },
          "hovermode": "closest",
          "mapbox": {
           "style": "light"
          },
          "paper_bgcolor": "white",
          "plot_bgcolor": "#E5ECF6",
          "polar": {
           "angularaxis": {
            "gridcolor": "white",
            "linecolor": "white",
            "ticks": ""
           },
           "bgcolor": "#E5ECF6",
           "radialaxis": {
            "gridcolor": "white",
            "linecolor": "white",
            "ticks": ""
           }
          },
          "scene": {
           "xaxis": {
            "backgroundcolor": "#E5ECF6",
            "gridcolor": "white",
            "gridwidth": 2,
            "linecolor": "white",
            "showbackground": true,
            "ticks": "",
            "zerolinecolor": "white"
           },
           "yaxis": {
            "backgroundcolor": "#E5ECF6",
            "gridcolor": "white",
            "gridwidth": 2,
            "linecolor": "white",
            "showbackground": true,
            "ticks": "",
            "zerolinecolor": "white"
           },
           "zaxis": {
            "backgroundcolor": "#E5ECF6",
            "gridcolor": "white",
            "gridwidth": 2,
            "linecolor": "white",
            "showbackground": true,
            "ticks": "",
            "zerolinecolor": "white"
           }
          },
          "shapedefaults": {
           "line": {
            "color": "#2a3f5f"
           }
          },
          "ternary": {
           "aaxis": {
            "gridcolor": "white",
            "linecolor": "white",
            "ticks": ""
           },
           "baxis": {
            "gridcolor": "white",
            "linecolor": "white",
            "ticks": ""
           },
           "bgcolor": "#E5ECF6",
           "caxis": {
            "gridcolor": "white",
            "linecolor": "white",
            "ticks": ""
           }
          },
          "title": {
           "x": 0.05
          },
          "xaxis": {
           "automargin": true,
           "gridcolor": "white",
           "linecolor": "white",
           "ticks": "",
           "title": {
            "standoff": 15
           },
           "zerolinecolor": "white",
           "zerolinewidth": 2
          },
          "yaxis": {
           "automargin": true,
           "gridcolor": "white",
           "linecolor": "white",
           "ticks": "",
           "title": {
            "standoff": 15
           },
           "zerolinecolor": "white",
           "zerolinewidth": 2
          }
         }
        },
        "xaxis": {
         "anchor": "y",
         "domain": [
          0,
          1
         ],
         "title": {
          "text": "День тижня"
         }
        },
        "yaxis": {
         "anchor": "x",
         "domain": [
          0,
          1
         ],
         "title": {
          "text": "Кількість публікацій"
         }
        }
       }
      },
      "text/html": [
       "<div>                            <div id=\"c90f4496-fa3d-4895-882a-25ceb2886169\" class=\"plotly-graph-div\" style=\"height:525px; width:100%;\"></div>            <script type=\"text/javascript\">                require([\"plotly\"], function(Plotly) {                    window.PLOTLYENV=window.PLOTLYENV || {};                                    if (document.getElementById(\"c90f4496-fa3d-4895-882a-25ceb2886169\")) {                    Plotly.newPlot(                        \"c90f4496-fa3d-4895-882a-25ceb2886169\",                        [{\"alignmentgroup\":\"True\",\"hovertemplate\":\"timegroup_of_the_day=00:00 - 4:59<br>dayofweek=%{x}<br>count=%{y}<extra></extra>\",\"legendgroup\":\"00:00 - 4:59\",\"marker\":{\"color\":\"rgb(136, 204, 238)\",\"pattern\":{\"shape\":\".\"}},\"name\":\"00:00 - 4:59\",\"offsetgroup\":\"00:00 - 4:59\",\"orientation\":\"v\",\"showlegend\":true,\"textposition\":\"auto\",\"x\":[1,2,3,4,5,6,7],\"xaxis\":\"x\",\"y\":[1654,1894,2042,1972,1892,1420,1284],\"yaxis\":\"y\",\"type\":\"bar\"},{\"alignmentgroup\":\"True\",\"hovertemplate\":\"timegroup_of_the_day=5:00 - 11:59<br>dayofweek=%{x}<br>count=%{y}<extra></extra>\",\"legendgroup\":\"5:00 - 11:59\",\"marker\":{\"color\":\"rgb(204, 102, 119)\",\"pattern\":{\"shape\":\"x\"}},\"name\":\"5:00 - 11:59\",\"offsetgroup\":\"5:00 - 11:59\",\"orientation\":\"v\",\"showlegend\":true,\"textposition\":\"auto\",\"x\":[1,2,3,4,5,6,7],\"xaxis\":\"x\",\"y\":[5384,5708,5246,4890,4819,1168,1080],\"yaxis\":\"y\",\"type\":\"bar\"},{\"alignmentgroup\":\"True\",\"hovertemplate\":\"timegroup_of_the_day=12:00 - 16:59<br>dayofweek=%{x}<br>count=%{y}<extra></extra>\",\"legendgroup\":\"12:00 - 16:59\",\"marker\":{\"color\":\"rgb(221, 204, 119)\",\"pattern\":{\"shape\":\"+\"}},\"name\":\"12:00 - 16:59\",\"offsetgroup\":\"12:00 - 16:59\",\"orientation\":\"v\",\"showlegend\":true,\"textposition\":\"auto\",\"x\":[1,2,3,4,5,6,7],\"xaxis\":\"x\",\"y\":[9321,9806,9379,9355,8705,2505,2897],\"yaxis\":\"y\",\"type\":\"bar\"},{\"alignmentgroup\":\"True\",\"hovertemplate\":\"timegroup_of_the_day=17:00 - 23:59<br>dayofweek=%{x}<br>count=%{y}<extra></extra>\",\"legendgroup\":\"17:00 - 23:59\",\"marker\":{\"color\":\"rgb(17, 119, 51)\",\"pattern\":{\"shape\":\"/\"}},\"name\":\"17:00 - 23:59\",\"offsetgroup\":\"17:00 - 23:59\",\"orientation\":\"v\",\"showlegend\":true,\"textposition\":\"auto\",\"x\":[1,2,3,4,5,6,7],\"xaxis\":\"x\",\"y\":[7277,7167,6993,6865,5876,3287,4251],\"yaxis\":\"y\",\"type\":\"bar\"}],                        {\"template\":{\"data\":{\"bar\":[{\"error_x\":{\"color\":\"#2a3f5f\"},\"error_y\":{\"color\":\"#2a3f5f\"},\"marker\":{\"line\":{\"color\":\"#E5ECF6\",\"width\":0.5},\"pattern\":{\"fillmode\":\"overlay\",\"size\":10,\"solidity\":0.2}},\"type\":\"bar\"}],\"barpolar\":[{\"marker\":{\"line\":{\"color\":\"#E5ECF6\",\"width\":0.5},\"pattern\":{\"fillmode\":\"overlay\",\"size\":10,\"solidity\":0.2}},\"type\":\"barpolar\"}],\"carpet\":[{\"aaxis\":{\"endlinecolor\":\"#2a3f5f\",\"gridcolor\":\"white\",\"linecolor\":\"white\",\"minorgridcolor\":\"white\",\"startlinecolor\":\"#2a3f5f\"},\"baxis\":{\"endlinecolor\":\"#2a3f5f\",\"gridcolor\":\"white\",\"linecolor\":\"white\",\"minorgridcolor\":\"white\",\"startlinecolor\":\"#2a3f5f\"},\"type\":\"carpet\"}],\"choropleth\":[{\"colorbar\":{\"outlinewidth\":0,\"ticks\":\"\"},\"type\":\"choropleth\"}],\"contour\":[{\"colorbar\":{\"outlinewidth\":0,\"ticks\":\"\"},\"colorscale\":[[0.0,\"#0d0887\"],[0.1111111111111111,\"#46039f\"],[0.2222222222222222,\"#7201a8\"],[0.3333333333333333,\"#9c179e\"],[0.4444444444444444,\"#bd3786\"],[0.5555555555555556,\"#d8576b\"],[0.6666666666666666,\"#ed7953\"],[0.7777777777777778,\"#fb9f3a\"],[0.8888888888888888,\"#fdca26\"],[1.0,\"#f0f921\"]],\"type\":\"contour\"}],\"contourcarpet\":[{\"colorbar\":{\"outlinewidth\":0,\"ticks\":\"\"},\"type\":\"contourcarpet\"}],\"heatmap\":[{\"colorbar\":{\"outlinewidth\":0,\"ticks\":\"\"},\"colorscale\":[[0.0,\"#0d0887\"],[0.1111111111111111,\"#46039f\"],[0.2222222222222222,\"#7201a8\"],[0.3333333333333333,\"#9c179e\"],[0.4444444444444444,\"#bd3786\"],[0.5555555555555556,\"#d8576b\"],[0.6666666666666666,\"#ed7953\"],[0.7777777777777778,\"#fb9f3a\"],[0.8888888888888888,\"#fdca26\"],[1.0,\"#f0f921\"]],\"type\":\"heatmap\"}],\"heatmapgl\":[{\"colorbar\":{\"outlinewidth\":0,\"ticks\":\"\"},\"colorscale\":[[0.0,\"#0d0887\"],[0.1111111111111111,\"#46039f\"],[0.2222222222222222,\"#7201a8\"],[0.3333333333333333,\"#9c179e\"],[0.4444444444444444,\"#bd3786\"],[0.5555555555555556,\"#d8576b\"],[0.6666666666666666,\"#ed7953\"],[0.7777777777777778,\"#fb9f3a\"],[0.8888888888888888,\"#fdca26\"],[1.0,\"#f0f921\"]],\"type\":\"heatmapgl\"}],\"histogram\":[{\"marker\":{\"pattern\":{\"fillmode\":\"overlay\",\"size\":10,\"solidity\":0.2}},\"type\":\"histogram\"}],\"histogram2d\":[{\"colorbar\":{\"outlinewidth\":0,\"ticks\":\"\"},\"colorscale\":[[0.0,\"#0d0887\"],[0.1111111111111111,\"#46039f\"],[0.2222222222222222,\"#7201a8\"],[0.3333333333333333,\"#9c179e\"],[0.4444444444444444,\"#bd3786\"],[0.5555555555555556,\"#d8576b\"],[0.6666666666666666,\"#ed7953\"],[0.7777777777777778,\"#fb9f3a\"],[0.8888888888888888,\"#fdca26\"],[1.0,\"#f0f921\"]],\"type\":\"histogram2d\"}],\"histogram2dcontour\":[{\"colorbar\":{\"outlinewidth\":0,\"ticks\":\"\"},\"colorscale\":[[0.0,\"#0d0887\"],[0.1111111111111111,\"#46039f\"],[0.2222222222222222,\"#7201a8\"],[0.3333333333333333,\"#9c179e\"],[0.4444444444444444,\"#bd3786\"],[0.5555555555555556,\"#d8576b\"],[0.6666666666666666,\"#ed7953\"],[0.7777777777777778,\"#fb9f3a\"],[0.8888888888888888,\"#fdca26\"],[1.0,\"#f0f921\"]],\"type\":\"histogram2dcontour\"}],\"mesh3d\":[{\"colorbar\":{\"outlinewidth\":0,\"ticks\":\"\"},\"type\":\"mesh3d\"}],\"parcoords\":[{\"line\":{\"colorbar\":{\"outlinewidth\":0,\"ticks\":\"\"}},\"type\":\"parcoords\"}],\"pie\":[{\"automargin\":true,\"type\":\"pie\"}],\"scatter\":[{\"marker\":{\"colorbar\":{\"outlinewidth\":0,\"ticks\":\"\"}},\"type\":\"scatter\"}],\"scatter3d\":[{\"line\":{\"colorbar\":{\"outlinewidth\":0,\"ticks\":\"\"}},\"marker\":{\"colorbar\":{\"outlinewidth\":0,\"ticks\":\"\"}},\"type\":\"scatter3d\"}],\"scattercarpet\":[{\"marker\":{\"colorbar\":{\"outlinewidth\":0,\"ticks\":\"\"}},\"type\":\"scattercarpet\"}],\"scattergeo\":[{\"marker\":{\"colorbar\":{\"outlinewidth\":0,\"ticks\":\"\"}},\"type\":\"scattergeo\"}],\"scattergl\":[{\"marker\":{\"colorbar\":{\"outlinewidth\":0,\"ticks\":\"\"}},\"type\":\"scattergl\"}],\"scattermapbox\":[{\"marker\":{\"colorbar\":{\"outlinewidth\":0,\"ticks\":\"\"}},\"type\":\"scattermapbox\"}],\"scatterpolar\":[{\"marker\":{\"colorbar\":{\"outlinewidth\":0,\"ticks\":\"\"}},\"type\":\"scatterpolar\"}],\"scatterpolargl\":[{\"marker\":{\"colorbar\":{\"outlinewidth\":0,\"ticks\":\"\"}},\"type\":\"scatterpolargl\"}],\"scatterternary\":[{\"marker\":{\"colorbar\":{\"outlinewidth\":0,\"ticks\":\"\"}},\"type\":\"scatterternary\"}],\"surface\":[{\"colorbar\":{\"outlinewidth\":0,\"ticks\":\"\"},\"colorscale\":[[0.0,\"#0d0887\"],[0.1111111111111111,\"#46039f\"],[0.2222222222222222,\"#7201a8\"],[0.3333333333333333,\"#9c179e\"],[0.4444444444444444,\"#bd3786\"],[0.5555555555555556,\"#d8576b\"],[0.6666666666666666,\"#ed7953\"],[0.7777777777777778,\"#fb9f3a\"],[0.8888888888888888,\"#fdca26\"],[1.0,\"#f0f921\"]],\"type\":\"surface\"}],\"table\":[{\"cells\":{\"fill\":{\"color\":\"#EBF0F8\"},\"line\":{\"color\":\"white\"}},\"header\":{\"fill\":{\"color\":\"#C8D4E3\"},\"line\":{\"color\":\"white\"}},\"type\":\"table\"}]},\"layout\":{\"annotationdefaults\":{\"arrowcolor\":\"#2a3f5f\",\"arrowhead\":0,\"arrowwidth\":1},\"autotypenumbers\":\"strict\",\"coloraxis\":{\"colorbar\":{\"outlinewidth\":0,\"ticks\":\"\"}},\"colorscale\":{\"diverging\":[[0,\"#8e0152\"],[0.1,\"#c51b7d\"],[0.2,\"#de77ae\"],[0.3,\"#f1b6da\"],[0.4,\"#fde0ef\"],[0.5,\"#f7f7f7\"],[0.6,\"#e6f5d0\"],[0.7,\"#b8e186\"],[0.8,\"#7fbc41\"],[0.9,\"#4d9221\"],[1,\"#276419\"]],\"sequential\":[[0.0,\"#0d0887\"],[0.1111111111111111,\"#46039f\"],[0.2222222222222222,\"#7201a8\"],[0.3333333333333333,\"#9c179e\"],[0.4444444444444444,\"#bd3786\"],[0.5555555555555556,\"#d8576b\"],[0.6666666666666666,\"#ed7953\"],[0.7777777777777778,\"#fb9f3a\"],[0.8888888888888888,\"#fdca26\"],[1.0,\"#f0f921\"]],\"sequentialminus\":[[0.0,\"#0d0887\"],[0.1111111111111111,\"#46039f\"],[0.2222222222222222,\"#7201a8\"],[0.3333333333333333,\"#9c179e\"],[0.4444444444444444,\"#bd3786\"],[0.5555555555555556,\"#d8576b\"],[0.6666666666666666,\"#ed7953\"],[0.7777777777777778,\"#fb9f3a\"],[0.8888888888888888,\"#fdca26\"],[1.0,\"#f0f921\"]]},\"colorway\":[\"#636efa\",\"#EF553B\",\"#00cc96\",\"#ab63fa\",\"#FFA15A\",\"#19d3f3\",\"#FF6692\",\"#B6E880\",\"#FF97FF\",\"#FECB52\"],\"font\":{\"color\":\"#2a3f5f\"},\"geo\":{\"bgcolor\":\"white\",\"lakecolor\":\"white\",\"landcolor\":\"#E5ECF6\",\"showlakes\":true,\"showland\":true,\"subunitcolor\":\"white\"},\"hoverlabel\":{\"align\":\"left\"},\"hovermode\":\"closest\",\"mapbox\":{\"style\":\"light\"},\"paper_bgcolor\":\"white\",\"plot_bgcolor\":\"#E5ECF6\",\"polar\":{\"angularaxis\":{\"gridcolor\":\"white\",\"linecolor\":\"white\",\"ticks\":\"\"},\"bgcolor\":\"#E5ECF6\",\"radialaxis\":{\"gridcolor\":\"white\",\"linecolor\":\"white\",\"ticks\":\"\"}},\"scene\":{\"xaxis\":{\"backgroundcolor\":\"#E5ECF6\",\"gridcolor\":\"white\",\"gridwidth\":2,\"linecolor\":\"white\",\"showbackground\":true,\"ticks\":\"\",\"zerolinecolor\":\"white\"},\"yaxis\":{\"backgroundcolor\":\"#E5ECF6\",\"gridcolor\":\"white\",\"gridwidth\":2,\"linecolor\":\"white\",\"showbackground\":true,\"ticks\":\"\",\"zerolinecolor\":\"white\"},\"zaxis\":{\"backgroundcolor\":\"#E5ECF6\",\"gridcolor\":\"white\",\"gridwidth\":2,\"linecolor\":\"white\",\"showbackground\":true,\"ticks\":\"\",\"zerolinecolor\":\"white\"}},\"shapedefaults\":{\"line\":{\"color\":\"#2a3f5f\"}},\"ternary\":{\"aaxis\":{\"gridcolor\":\"white\",\"linecolor\":\"white\",\"ticks\":\"\"},\"baxis\":{\"gridcolor\":\"white\",\"linecolor\":\"white\",\"ticks\":\"\"},\"bgcolor\":\"#E5ECF6\",\"caxis\":{\"gridcolor\":\"white\",\"linecolor\":\"white\",\"ticks\":\"\"}},\"title\":{\"x\":0.05},\"xaxis\":{\"automargin\":true,\"gridcolor\":\"white\",\"linecolor\":\"white\",\"ticks\":\"\",\"title\":{\"standoff\":15},\"zerolinecolor\":\"white\",\"zerolinewidth\":2},\"yaxis\":{\"automargin\":true,\"gridcolor\":\"white\",\"linecolor\":\"white\",\"ticks\":\"\",\"title\":{\"standoff\":15},\"zerolinecolor\":\"white\",\"zerolinewidth\":2}}},\"xaxis\":{\"anchor\":\"y\",\"domain\":[0.0,1.0],\"title\":{\"text\":\"\\u0414\\u0435\\u043d\\u044c \\u0442\\u0438\\u0436\\u043d\\u044f\"}},\"yaxis\":{\"anchor\":\"x\",\"domain\":[0.0,1.0],\"title\":{\"text\":\"\\u041a\\u0456\\u043b\\u044c\\u043a\\u0456\\u0441\\u0442\\u044c \\u043f\\u0443\\u0431\\u043b\\u0456\\u043a\\u0430\\u0446\\u0456\\u0439\"}},\"legend\":{\"title\":{\"text\":\"timegroup_of_the_day\"},\"tracegroupgap\":0},\"margin\":{\"t\":60},\"barmode\":\"group\"},                        {\"responsive\": true}                    ).then(function(){\n",
       "                            \n",
       "var gd = document.getElementById('c90f4496-fa3d-4895-882a-25ceb2886169');\n",
       "var x = new MutationObserver(function (mutations, observer) {{\n",
       "        var display = window.getComputedStyle(gd).display;\n",
       "        if (!display || display === 'none') {{\n",
       "            console.log([gd, 'removed!']);\n",
       "            Plotly.purge(gd);\n",
       "            observer.disconnect();\n",
       "        }}\n",
       "}});\n",
       "\n",
       "// Listen for the removal of the full notebook cells\n",
       "var notebookContainer = gd.closest('#notebook-container');\n",
       "if (notebookContainer) {{\n",
       "    x.observe(notebookContainer, {childList: true});\n",
       "}}\n",
       "\n",
       "// Listen for the clearing of the current output cell\n",
       "var outputEl = gd.closest('.output');\n",
       "if (outputEl) {{\n",
       "    x.observe(outputEl, {childList: true});\n",
       "}}\n",
       "\n",
       "                        })                };                });            </script>        </div>"
      ]
     },
     "metadata": {},
     "output_type": "display_data"
    }
   ],
   "source": [
    "def get_timegroup_of_the_day(hour):\n",
    "    if hour >= 0 and hour < 5:\n",
    "        return \"00:00 - 4:59\"\n",
    "    elif hour >= 5 and hour < 12:\n",
    "        return \"5:00 - 11:59\"\n",
    "    elif hour >= 12 and hour < 17:\n",
    "        return \"12:00 - 16:59\"\n",
    "    else: return \"17:00 - 23:59\"\n",
    "\n",
    "df['timegroup_of_the_day'] = df['hour'].apply(get_timegroup_of_the_day)\n",
    "d = df.groupby(['dayofweek', 'timegroup_of_the_day'])['post_id'].agg(['count']).reset_index()\n",
    "\n",
    "fig = px.bar(d, x=\"dayofweek\", y=\"count\", color=\"timegroup_of_the_day\", \n",
    "             barmode=\"group\", pattern_shape=\"timegroup_of_the_day\", pattern_shape_sequence=[\".\", \"x\", \"+\", \"/\"],\n",
    "             category_orders={\"timegroup_of_the_day\": [\"00:00 - 4:59\", \"5:00 - 11:59\", \"12:00 - 16:59\", \"17:00 - 23:59\"]},\n",
    "             color_discrete_sequence=px.colors.qualitative.Safe)\n",
    "\n",
    "fig.update_layout(xaxis_title='День тижня', yaxis_title=\"Кількість публікацій\")\n",
    "\n",
    "fig.show()"
   ]
  }
 ],
 "metadata": {
  "colab": {
   "provenance": []
  },
  "kernelspec": {
   "display_name": "Python 3 (ipykernel)",
   "language": "python",
   "name": "python3"
  },
  "language_info": {
   "codemirror_mode": {
    "name": "ipython",
    "version": 3
   },
   "file_extension": ".py",
   "mimetype": "text/x-python",
   "name": "python",
   "nbconvert_exporter": "python",
   "pygments_lexer": "ipython3",
   "version": "3.9.12"
  }
 },
 "nbformat": 4,
 "nbformat_minor": 4
}
