{
 "cells": [
  {
   "cell_type": "markdown",
   "metadata": {
    "id": "hwadGzHPM5M5"
   },
   "source": [
    "<h1><center>Лабораторна робота 6.</center></h1>\n",
    "<h2><center>Лінійна регресія, Lasso і RF-регресія для задачі визначення якості вина</center></h2>"
   ]
  },
  {
   "cell_type": "markdown",
   "metadata": {
    "id": "9SD2u6JXM5M8"
   },
   "source": [
    "\n",
    "**Виконав:** Машталяр М.Б.\n",
    "\n",
    "**Варіант:** №14"
   ]
  },
  {
   "cell_type": "markdown",
   "metadata": {
    "id": "45QWCOSAM5M8"
   },
   "source": [
    "<a class=\"anchor\" id=\"lab-6\"></a>"
   ]
  },
  {
   "cell_type": "markdown",
   "metadata": {
    "id": "fdiTa8u8M5M9"
   },
   "source": [
    "## Зміст\n",
    "\n",
    "- [6.1. Завантаження навчальних даних](#lab-6.1)\n",
    "- [6.2. Лінійна регресія](#lab-6.2)  \n",
    "- [6.3. LASSO-регресія](#lab-6.3)\n",
    "- [6.4. Випадковий ліс](#lab-6.4)\n",
    "- [6.5. Порівняння моделей](#lab-6.5)"
   ]
  },
  {
   "cell_type": "code",
   "execution_count": 1,
   "metadata": {
    "id": "492qOSoiM5M9"
   },
   "outputs": [],
   "source": [
    "# відключимо попередження Anaconda\n",
    "import warnings\n",
    "warnings.filterwarnings('ignore')\n",
    "import numpy as np\n",
    "import pandas as pd\n",
    "from sklearn.metrics import mean_squared_error\n",
    "from sklearn.preprocessing import StandardScaler\n",
    "from sklearn.model_selection import GridSearchCV\n",
    "from sklearn.model_selection import cross_val_score, train_test_split\n",
    "from sklearn.linear_model import LinearRegression, LassoCV, Lasso\n",
    "from sklearn.ensemble import RandomForestRegressor"
   ]
  },
  {
   "cell_type": "markdown",
   "metadata": {
    "id": "JaBk3WT1M5M-"
   },
   "source": [
    "<a class=\"anchor\" id=\"lab-6.1\"></a>"
   ]
  },
  {
   "cell_type": "markdown",
   "metadata": {
    "id": "YkOk241SM5M-"
   },
   "source": [
    "## <span style=\"color:blue; font-size:1.2em;\">6.1. Завантаження навчальних даних</span>\n",
    "\n",
    "[Повернутися до змісту](#lab-6)"
   ]
  },
  {
   "cell_type": "markdown",
   "metadata": {
    "id": "eR61DEUkM5M_"
   },
   "source": [
    "В цій лабораторній робота будемо працювати з набором даних за якістю білого вина ([репозиторій UCI](https://archive.ics.uci.edu/ml/datasets/wine+quality)).\n",
    "\n",
    "Спершу завантажуємо дані:"
   ]
  },
  {
   "cell_type": "code",
   "execution_count": 2,
   "metadata": {
    "id": "KUCLerf_M5M_"
   },
   "outputs": [],
   "source": [
    "winequality_white_url = 'https://raw.githubusercontent.com/radiukpavlo/intelligent-data-analysis/main/02_assignments/ida_lab-06_regression-wine/winequality-white.csv'\n",
    "data = pd.read_csv(winequality_white_url, sep=';')"
   ]
  },
  {
   "cell_type": "code",
   "execution_count": 3,
   "metadata": {
    "id": "T8tCy9pEM5NA",
    "outputId": "54f42f96-326e-4956-dbac-8c55518bf859"
   },
   "outputs": [
    {
     "data": {
      "text/html": [
       "<div>\n",
       "<style scoped>\n",
       "    .dataframe tbody tr th:only-of-type {\n",
       "        vertical-align: middle;\n",
       "    }\n",
       "\n",
       "    .dataframe tbody tr th {\n",
       "        vertical-align: top;\n",
       "    }\n",
       "\n",
       "    .dataframe thead th {\n",
       "        text-align: right;\n",
       "    }\n",
       "</style>\n",
       "<table border=\"1\" class=\"dataframe\">\n",
       "  <thead>\n",
       "    <tr style=\"text-align: right;\">\n",
       "      <th></th>\n",
       "      <th>fixed acidity</th>\n",
       "      <th>volatile acidity</th>\n",
       "      <th>citric acid</th>\n",
       "      <th>residual sugar</th>\n",
       "      <th>chlorides</th>\n",
       "      <th>free sulfur dioxide</th>\n",
       "      <th>total sulfur dioxide</th>\n",
       "      <th>density</th>\n",
       "      <th>pH</th>\n",
       "      <th>sulphates</th>\n",
       "      <th>alcohol</th>\n",
       "      <th>quality</th>\n",
       "    </tr>\n",
       "  </thead>\n",
       "  <tbody>\n",
       "    <tr>\n",
       "      <th>0</th>\n",
       "      <td>7.0</td>\n",
       "      <td>0.27</td>\n",
       "      <td>0.36</td>\n",
       "      <td>20.7</td>\n",
       "      <td>0.045</td>\n",
       "      <td>45.0</td>\n",
       "      <td>170.0</td>\n",
       "      <td>1.0010</td>\n",
       "      <td>3.00</td>\n",
       "      <td>0.45</td>\n",
       "      <td>8.8</td>\n",
       "      <td>6</td>\n",
       "    </tr>\n",
       "    <tr>\n",
       "      <th>1</th>\n",
       "      <td>6.3</td>\n",
       "      <td>0.30</td>\n",
       "      <td>0.34</td>\n",
       "      <td>1.6</td>\n",
       "      <td>0.049</td>\n",
       "      <td>14.0</td>\n",
       "      <td>132.0</td>\n",
       "      <td>0.9940</td>\n",
       "      <td>3.30</td>\n",
       "      <td>0.49</td>\n",
       "      <td>9.5</td>\n",
       "      <td>6</td>\n",
       "    </tr>\n",
       "    <tr>\n",
       "      <th>2</th>\n",
       "      <td>8.1</td>\n",
       "      <td>0.28</td>\n",
       "      <td>0.40</td>\n",
       "      <td>6.9</td>\n",
       "      <td>0.050</td>\n",
       "      <td>30.0</td>\n",
       "      <td>97.0</td>\n",
       "      <td>0.9951</td>\n",
       "      <td>3.26</td>\n",
       "      <td>0.44</td>\n",
       "      <td>10.1</td>\n",
       "      <td>6</td>\n",
       "    </tr>\n",
       "    <tr>\n",
       "      <th>3</th>\n",
       "      <td>7.2</td>\n",
       "      <td>0.23</td>\n",
       "      <td>0.32</td>\n",
       "      <td>8.5</td>\n",
       "      <td>0.058</td>\n",
       "      <td>47.0</td>\n",
       "      <td>186.0</td>\n",
       "      <td>0.9956</td>\n",
       "      <td>3.19</td>\n",
       "      <td>0.40</td>\n",
       "      <td>9.9</td>\n",
       "      <td>6</td>\n",
       "    </tr>\n",
       "    <tr>\n",
       "      <th>4</th>\n",
       "      <td>7.2</td>\n",
       "      <td>0.23</td>\n",
       "      <td>0.32</td>\n",
       "      <td>8.5</td>\n",
       "      <td>0.058</td>\n",
       "      <td>47.0</td>\n",
       "      <td>186.0</td>\n",
       "      <td>0.9956</td>\n",
       "      <td>3.19</td>\n",
       "      <td>0.40</td>\n",
       "      <td>9.9</td>\n",
       "      <td>6</td>\n",
       "    </tr>\n",
       "  </tbody>\n",
       "</table>\n",
       "</div>"
      ],
      "text/plain": [
       "   fixed acidity  volatile acidity  citric acid  residual sugar  chlorides  \\\n",
       "0            7.0              0.27         0.36            20.7      0.045   \n",
       "1            6.3              0.30         0.34             1.6      0.049   \n",
       "2            8.1              0.28         0.40             6.9      0.050   \n",
       "3            7.2              0.23         0.32             8.5      0.058   \n",
       "4            7.2              0.23         0.32             8.5      0.058   \n",
       "\n",
       "   free sulfur dioxide  total sulfur dioxide  density    pH  sulphates  \\\n",
       "0                 45.0                 170.0   1.0010  3.00       0.45   \n",
       "1                 14.0                 132.0   0.9940  3.30       0.49   \n",
       "2                 30.0                  97.0   0.9951  3.26       0.44   \n",
       "3                 47.0                 186.0   0.9956  3.19       0.40   \n",
       "4                 47.0                 186.0   0.9956  3.19       0.40   \n",
       "\n",
       "   alcohol  quality  \n",
       "0      8.8        6  \n",
       "1      9.5        6  \n",
       "2     10.1        6  \n",
       "3      9.9        6  \n",
       "4      9.9        6  "
      ]
     },
     "execution_count": 3,
     "metadata": {},
     "output_type": "execute_result"
    }
   ],
   "source": [
    "data.head()"
   ]
  },
  {
   "cell_type": "code",
   "execution_count": 4,
   "metadata": {
    "id": "NEAFPk01M5NB",
    "outputId": "f3524edf-319f-4240-f67d-4be7efd42112"
   },
   "outputs": [
    {
     "name": "stdout",
     "output_type": "stream",
     "text": [
      "<class 'pandas.core.frame.DataFrame'>\n",
      "RangeIndex: 4898 entries, 0 to 4897\n",
      "Data columns (total 12 columns):\n",
      " #   Column                Non-Null Count  Dtype  \n",
      "---  ------                --------------  -----  \n",
      " 0   fixed acidity         4898 non-null   float64\n",
      " 1   volatile acidity      4898 non-null   float64\n",
      " 2   citric acid           4898 non-null   float64\n",
      " 3   residual sugar        4898 non-null   float64\n",
      " 4   chlorides             4898 non-null   float64\n",
      " 5   free sulfur dioxide   4898 non-null   float64\n",
      " 6   total sulfur dioxide  4898 non-null   float64\n",
      " 7   density               4898 non-null   float64\n",
      " 8   pH                    4898 non-null   float64\n",
      " 9   sulphates             4898 non-null   float64\n",
      " 10  alcohol               4898 non-null   float64\n",
      " 11  quality               4898 non-null   int64  \n",
      "dtypes: float64(11), int64(1)\n",
      "memory usage: 459.3 KB\n"
     ]
    }
   ],
   "source": [
    "data.info()"
   ]
  },
  {
   "cell_type": "markdown",
   "metadata": {
    "id": "soYNxkWFM5NB"
   },
   "source": [
    "Виконаємо відокремлення цільової ознаки. Для цього розділимо навчальну вибірку за відношенням 7:3. Тут 30% даних - валідаційна вибірка. Задамо random_state = 17 і виконаємо стандартизацію даних за допомогою StandardScaler()."
   ]
  },
  {
   "cell_type": "code",
   "execution_count": 5,
   "metadata": {
    "id": "l7Wa2_rGM5NB"
   },
   "outputs": [],
   "source": [
    "y = data['quality']\n",
    "X = data.drop('quality', axis=1)\n",
    "\n",
    "X_train, X_valid, y_train, y_valid = train_test_split(X, y, test_size=0.3, random_state=17)\n",
    "scaler = StandardScaler()\n",
    "X_train_scaled = scaler.fit_transform(X_train)\n",
    "X_valid_scaled = scaler.transform(X_valid)"
   ]
  },
  {
   "cell_type": "markdown",
   "metadata": {
    "id": "ZbS49nSkM5NB"
   },
   "source": [
    "<a class=\"anchor\" id=\"lab-6.2\"></a>"
   ]
  },
  {
   "cell_type": "markdown",
   "metadata": {
    "id": "pXZ2csgVM5NC"
   },
   "source": [
    "## <span style=\"color:blue; font-size:1.2em;\">6.2. Лінійна регресія</span>\n",
    "\n",
    "[Повернутися до змісту](#lab-6)"
   ]
  },
  {
   "cell_type": "markdown",
   "metadata": {
    "id": "RpT9W_MsM5NC"
   },
   "source": [
    "Виконайте навчання простої лінійної регресії. Пам'ятейте, що для навчання та тестування моделі ми використовуємо стандартизовані значення незалежних змінних `X_train_scaled` та `X_valid_scaled`, і початкові значення цільової ознаки `y_train` та `y_valid`."
   ]
  },
  {
   "cell_type": "code",
   "execution_count": 6,
   "metadata": {
    "id": "S06RrJ0jM5NC",
    "outputId": "42b14375-d75f-4818-9835-39ec1592c2c9"
   },
   "outputs": [
    {
     "data": {
      "text/plain": [
       "LinearRegression()"
      ]
     },
     "execution_count": 6,
     "metadata": {},
     "output_type": "execute_result"
    }
   ],
   "source": [
    "linreg = LinearRegression()\n",
    "linreg.fit(X_train_scaled, y_train)"
   ]
  },
  {
   "cell_type": "markdown",
   "metadata": {
    "id": "smw6bGEGM5NC"
   },
   "source": [
    "Після навчання моделі перегляньте її коефіцієнти й відсортуйте ознаки за впливом на якість вина. Майте на увазі, що великі за модулем негативні значення коефіцієнтів теж вказують на сильний вплив на цільову ознаку. Для виконання цього завдання створіть новий DataFrame, як в попередній темі."
   ]
  },
  {
   "cell_type": "code",
   "execution_count": 7,
   "metadata": {
    "id": "UPbzq0X0M5NC",
    "outputId": "623bab8d-f2dc-425f-94b4-a99f856987f9"
   },
   "outputs": [
    {
     "data": {
      "text/html": [
       "<div>\n",
       "<style scoped>\n",
       "    .dataframe tbody tr th:only-of-type {\n",
       "        vertical-align: middle;\n",
       "    }\n",
       "\n",
       "    .dataframe tbody tr th {\n",
       "        vertical-align: top;\n",
       "    }\n",
       "\n",
       "    .dataframe thead th {\n",
       "        text-align: right;\n",
       "    }\n",
       "</style>\n",
       "<table border=\"1\" class=\"dataframe\">\n",
       "  <thead>\n",
       "    <tr style=\"text-align: right;\">\n",
       "      <th></th>\n",
       "      <th>coef</th>\n",
       "    </tr>\n",
       "  </thead>\n",
       "  <tbody>\n",
       "    <tr>\n",
       "      <th>residual sugar</th>\n",
       "      <td>0.538164</td>\n",
       "    </tr>\n",
       "    <tr>\n",
       "      <th>pH</th>\n",
       "      <td>0.150036</td>\n",
       "    </tr>\n",
       "    <tr>\n",
       "      <th>alcohol</th>\n",
       "      <td>0.129533</td>\n",
       "    </tr>\n",
       "    <tr>\n",
       "      <th>fixed acidity</th>\n",
       "      <td>0.097822</td>\n",
       "    </tr>\n",
       "    <tr>\n",
       "      <th>sulphates</th>\n",
       "      <td>0.062053</td>\n",
       "    </tr>\n",
       "    <tr>\n",
       "      <th>free sulfur dioxide</th>\n",
       "      <td>0.042180</td>\n",
       "    </tr>\n",
       "    <tr>\n",
       "      <th>total sulfur dioxide</th>\n",
       "      <td>0.014304</td>\n",
       "    </tr>\n",
       "    <tr>\n",
       "      <th>chlorides</th>\n",
       "      <td>0.008127</td>\n",
       "    </tr>\n",
       "    <tr>\n",
       "      <th>citric acid</th>\n",
       "      <td>-0.000183</td>\n",
       "    </tr>\n",
       "    <tr>\n",
       "      <th>volatile acidity</th>\n",
       "      <td>-0.192260</td>\n",
       "    </tr>\n",
       "    <tr>\n",
       "      <th>density</th>\n",
       "      <td>-0.665720</td>\n",
       "    </tr>\n",
       "  </tbody>\n",
       "</table>\n",
       "</div>"
      ],
      "text/plain": [
       "                          coef\n",
       "residual sugar        0.538164\n",
       "pH                    0.150036\n",
       "alcohol               0.129533\n",
       "fixed acidity         0.097822\n",
       "sulphates             0.062053\n",
       "free sulfur dioxide   0.042180\n",
       "total sulfur dioxide  0.014304\n",
       "chlorides             0.008127\n",
       "citric acid          -0.000183\n",
       "volatile acidity     -0.192260\n",
       "density              -0.665720"
      ]
     },
     "execution_count": 7,
     "metadata": {},
     "output_type": "execute_result"
    }
   ],
   "source": [
    "linreg_coef = pd.DataFrame(linreg.coef_, data.drop('quality', axis=1).columns, columns=['coef'])\n",
    "linreg_coef.sort_values(by=['coef'], ascending=False)"
   ]
  },
  {
   "cell_type": "markdown",
   "metadata": {
    "id": "upTJJFLGM5ND"
   },
   "source": [
    "### <span style=\"color:red; font-size:1.5em;\">Завдання 1</span>\n",
    "\n",
    "**Для варіантів 11-15:**\n",
    "\n",
    "Обрахуйте середньоквадратичні помилки лінійної регресії за навчальною та валідаційною вибірками. \n"
   ]
  },
  {
   "cell_type": "code",
   "execution_count": 8,
   "metadata": {
    "id": "CbvjbQbuQ3_E",
    "outputId": "1b064328-24c8-4372-b67d-97e293db04dc"
   },
   "outputs": [
    {
     "name": "stdout",
     "output_type": "stream",
     "text": [
      "Mean squared error (train): 0.558\n",
      "Mean squared error (test): 0.584\n"
     ]
    }
   ],
   "source": [
    "print(\"Mean squared error (train): %.3f\" % mean_squared_error(y_train, linreg.predict(X_train_scaled)))\n",
    "print(\"Mean squared error (test): %.3f\" % mean_squared_error(y_valid, linreg.predict(X_valid_scaled)))"
   ]
  },
  {
   "cell_type": "markdown",
   "metadata": {
    "id": "zYwKdvBlM5ND"
   },
   "source": [
    "<a class=\"anchor\" id=\"lab-6.3\"></a>"
   ]
  },
  {
   "cell_type": "markdown",
   "metadata": {
    "id": "J1vyZtILM5ND"
   },
   "source": [
    "## <span style=\"color:blue; font-size:1.2em;\">6.3. Lasso-регресія</span>\n",
    "\n",
    "[Повернутися до змісту](#lab-6)"
   ]
  },
  {
   "cell_type": "markdown",
   "metadata": {
    "id": "-LgVRZjqM5ND"
   },
   "source": [
    "Навчіть Lasso-регресію з невеликим коефіцієнтом $\\alpha = 0.01$ (слабка регуляризація). Прийміть `random_state=17` та `cv=5`."
   ]
  },
  {
   "cell_type": "code",
   "execution_count": 9,
   "metadata": {
    "id": "IG07JZb0M5ND",
    "outputId": "89faa123-59a9-4c02-da96-48987701757f"
   },
   "outputs": [
    {
     "data": {
      "text/plain": [
       "Lasso(alpha=0.01, random_state=17)"
      ]
     },
     "execution_count": 9,
     "metadata": {},
     "output_type": "execute_result"
    }
   ],
   "source": [
    "lasso1 = Lasso(random_state=17, alpha=0.01)\n",
    "lasso1.fit(X_train_scaled, y_train)"
   ]
  },
  {
   "cell_type": "markdown",
   "metadata": {
    "id": "wqzicQcxM5ND"
   },
   "source": [
    "Обрахуйте вплив всіх незалежних ознак на цільову ознаку LASSO-регресії. Відсортуйте ознаки за впливом на якість вина."
   ]
  },
  {
   "cell_type": "code",
   "execution_count": 10,
   "metadata": {
    "id": "sqvFXCjpM5ND",
    "outputId": "54b0d86e-cb6f-4a78-b3ec-c4241e050cbb"
   },
   "outputs": [
    {
     "data": {
      "text/html": [
       "<div>\n",
       "<style scoped>\n",
       "    .dataframe tbody tr th:only-of-type {\n",
       "        vertical-align: middle;\n",
       "    }\n",
       "\n",
       "    .dataframe tbody tr th {\n",
       "        vertical-align: top;\n",
       "    }\n",
       "\n",
       "    .dataframe thead th {\n",
       "        text-align: right;\n",
       "    }\n",
       "</style>\n",
       "<table border=\"1\" class=\"dataframe\">\n",
       "  <thead>\n",
       "    <tr style=\"text-align: right;\">\n",
       "      <th></th>\n",
       "      <th>coef</th>\n",
       "    </tr>\n",
       "  </thead>\n",
       "  <tbody>\n",
       "    <tr>\n",
       "      <th>alcohol</th>\n",
       "      <td>0.322425</td>\n",
       "    </tr>\n",
       "    <tr>\n",
       "      <th>residual sugar</th>\n",
       "      <td>0.256363</td>\n",
       "    </tr>\n",
       "    <tr>\n",
       "      <th>pH</th>\n",
       "      <td>0.067277</td>\n",
       "    </tr>\n",
       "    <tr>\n",
       "      <th>free sulfur dioxide</th>\n",
       "      <td>0.043088</td>\n",
       "    </tr>\n",
       "    <tr>\n",
       "      <th>sulphates</th>\n",
       "      <td>0.029722</td>\n",
       "    </tr>\n",
       "    <tr>\n",
       "      <th>fixed acidity</th>\n",
       "      <td>-0.000000</td>\n",
       "    </tr>\n",
       "    <tr>\n",
       "      <th>citric acid</th>\n",
       "      <td>-0.000000</td>\n",
       "    </tr>\n",
       "    <tr>\n",
       "      <th>total sulfur dioxide</th>\n",
       "      <td>-0.000000</td>\n",
       "    </tr>\n",
       "    <tr>\n",
       "      <th>chlorides</th>\n",
       "      <td>-0.002747</td>\n",
       "    </tr>\n",
       "    <tr>\n",
       "      <th>volatile acidity</th>\n",
       "      <td>-0.188479</td>\n",
       "    </tr>\n",
       "    <tr>\n",
       "      <th>density</th>\n",
       "      <td>-0.235492</td>\n",
       "    </tr>\n",
       "  </tbody>\n",
       "</table>\n",
       "</div>"
      ],
      "text/plain": [
       "                          coef\n",
       "alcohol               0.322425\n",
       "residual sugar        0.256363\n",
       "pH                    0.067277\n",
       "free sulfur dioxide   0.043088\n",
       "sulphates             0.029722\n",
       "fixed acidity        -0.000000\n",
       "citric acid          -0.000000\n",
       "total sulfur dioxide -0.000000\n",
       "chlorides            -0.002747\n",
       "volatile acidity     -0.188479\n",
       "density              -0.235492"
      ]
     },
     "execution_count": 10,
     "metadata": {},
     "output_type": "execute_result"
    }
   ],
   "source": [
    "lasso1_coef = pd.DataFrame(lasso1.coef_, data.drop('quality', axis=1).columns, columns=['coef'])\n",
    "lasso1_coef.sort_values(by=['coef'], ascending=False)"
   ]
  },
  {
   "cell_type": "markdown",
   "metadata": {
    "id": "9PVO6LquM5ND"
   },
   "source": [
    "Код нижче дасть змогу знайти найкраще значення $\\alpha$ поміж заданих."
   ]
  },
  {
   "cell_type": "code",
   "execution_count": 11,
   "metadata": {
    "id": "GLwUjDDgM5ND",
    "outputId": "1bafd885-1f79-422d-ee1e-d632a7935210"
   },
   "outputs": [
    {
     "data": {
      "text/plain": [
       "LassoCV(alphas=array([1.00000000e-06, 1.09698580e-06, 1.20337784e-06, 1.32008840e-06,\n",
       "       1.44811823e-06, 1.58856513e-06, 1.74263339e-06, 1.91164408e-06,\n",
       "       2.09704640e-06, 2.30043012e-06, 2.52353917e-06, 2.76828663e-06,\n",
       "       3.03677112e-06, 3.33129479e-06, 3.65438307e-06, 4.00880633e-06,\n",
       "       4.39760361e-06, 4.82410870e-06, 5.29197874e-06, 5.80522552e-06,\n",
       "       6.36824994e-06, 6.98587975e-0...\n",
       "       1.18953407e+01, 1.30490198e+01, 1.43145894e+01, 1.57029012e+01,\n",
       "       1.72258597e+01, 1.88965234e+01, 2.07292178e+01, 2.27396575e+01,\n",
       "       2.49450814e+01, 2.73644000e+01, 3.00183581e+01, 3.29297126e+01,\n",
       "       3.61234270e+01, 3.96268864e+01, 4.34701316e+01, 4.76861170e+01,\n",
       "       5.23109931e+01, 5.73844165e+01, 6.29498899e+01, 6.90551352e+01,\n",
       "       7.57525026e+01, 8.30994195e+01, 9.11588830e+01, 1.00000000e+02]),\n",
       "        cv=5, random_state=17)"
      ]
     },
     "execution_count": 11,
     "metadata": {},
     "output_type": "execute_result"
    }
   ],
   "source": [
    "alphas = np.logspace(-6, 2, 200)\n",
    "lasso_cv = LassoCV(alphas=alphas, random_state=17, cv=5)\n",
    "lasso_cv.fit(X_train_scaled, y_train)"
   ]
  },
  {
   "cell_type": "markdown",
   "metadata": {
    "id": "8cqUdGnlM5NE"
   },
   "source": [
    "### <span style=\"color:red; font-size:1.5em;\">Завдання 2</span>\n",
    "\n",
    "\n",
    "**Для варіантів 11-15:**\n",
    "\n",
    "Обрахуйте найкраще значення $\\alpha$ для LASSO-регресії за 5-кратною крос-валідацією. Використайте LassoCV, `random_state = 17` і команду `alpha_`."
   ]
  },
  {
   "cell_type": "code",
   "execution_count": 12,
   "metadata": {
    "id": "Mflf0vcWWvlU",
    "outputId": "6a090f86-87f8-4ef0-f74b-246b57ac626c"
   },
   "outputs": [
    {
     "data": {
      "text/plain": [
       "LassoCV(alphas=array([1.00000000e-06, 1.09698580e-06, 1.20337784e-06, 1.32008840e-06,\n",
       "       1.44811823e-06, 1.58856513e-06, 1.74263339e-06, 1.91164408e-06,\n",
       "       2.09704640e-06, 2.30043012e-06, 2.52353917e-06, 2.76828663e-06,\n",
       "       3.03677112e-06, 3.33129479e-06, 3.65438307e-06, 4.00880633e-06,\n",
       "       4.39760361e-06, 4.82410870e-06, 5.29197874e-06, 5.80522552e-06,\n",
       "       6.36824994e-06, 6.98587975e-0...\n",
       "       1.18953407e+01, 1.30490198e+01, 1.43145894e+01, 1.57029012e+01,\n",
       "       1.72258597e+01, 1.88965234e+01, 2.07292178e+01, 2.27396575e+01,\n",
       "       2.49450814e+01, 2.73644000e+01, 3.00183581e+01, 3.29297126e+01,\n",
       "       3.61234270e+01, 3.96268864e+01, 4.34701316e+01, 4.76861170e+01,\n",
       "       5.23109931e+01, 5.73844165e+01, 6.29498899e+01, 6.90551352e+01,\n",
       "       7.57525026e+01, 8.30994195e+01, 9.11588830e+01, 1.00000000e+02]),\n",
       "        cv=5, random_state=17)"
      ]
     },
     "execution_count": 12,
     "metadata": {},
     "output_type": "execute_result"
    }
   ],
   "source": [
    "alphas = np.logspace(-6, 2, 200)\n",
    "lasso_cv = LassoCV(alphas=alphas, random_state=17, cv=5)\n",
    "lasso_cv.fit(X_train_scaled, y_train)"
   ]
  },
  {
   "cell_type": "code",
   "execution_count": 13,
   "metadata": {
    "id": "KBN4dRJXWvlU",
    "outputId": "897f5dee-ef1c-454f-aab2-b4d07424f911"
   },
   "outputs": [
    {
     "data": {
      "text/plain": [
       "0.0002833096101839324"
      ]
     },
     "execution_count": 13,
     "metadata": {},
     "output_type": "execute_result"
    }
   ],
   "source": [
    "lasso_cv.alpha_"
   ]
  },
  {
   "cell_type": "markdown",
   "metadata": {
    "id": "8sUG4VzXM5NE"
   },
   "source": [
    "<a class=\"anchor\" id=\"lab-6.4\"></a>"
   ]
  },
  {
   "cell_type": "markdown",
   "metadata": {
    "id": "aOoV_siHM5NE"
   },
   "source": [
    "## <span style=\"color:blue; font-size:1.2em;\">6.4. Випадковий ліс</span>\n",
    "\n",
    "[Повернутися до змісту](#lab-6)"
   ]
  },
  {
   "cell_type": "markdown",
   "metadata": {
    "id": "Kmer0IqDM5NE"
   },
   "source": [
    "Навчіть випадковий ліс з параметрами \"з коробки\", фіксуючи тільки `random_state=17`."
   ]
  },
  {
   "cell_type": "code",
   "execution_count": 14,
   "metadata": {
    "id": "E9Go45wWM5NE",
    "outputId": "58bd23fe-931c-4df5-8fcd-68c8fe93c7b5"
   },
   "outputs": [
    {
     "data": {
      "text/plain": [
       "RandomForestRegressor(random_state=17)"
      ]
     },
     "execution_count": 14,
     "metadata": {},
     "output_type": "execute_result"
    }
   ],
   "source": [
    "forest1 = RandomForestRegressor(random_state=17)\n",
    "forest1.fit(X_train_scaled, y_train)"
   ]
  },
  {
   "cell_type": "markdown",
   "metadata": {
    "id": "Ho_EuyCKM5NE"
   },
   "source": [
    "### <span style=\"color:red; font-size:1.5em;\">Завдання 3</span>\n",
    "\n",
    "\n",
    "\n",
    "**Для варіантів 11-15:**\n",
    "\n",
    "Обрахуйте середньоквадратичні помилки побудованого випадкового лісу за навчальною та валідаційною вибірками за допомогою GridSearchCV(). Протестуйте значення параметра `min_samples_leaf': [1, 3, 5, 7, 9]`. \n"
   ]
  },
  {
   "cell_type": "code",
   "execution_count": 15,
   "metadata": {
    "id": "l_xE4gkxH4iP",
    "outputId": "c4919005-cef7-4770-b176-8104c7b7e7d3"
   },
   "outputs": [
    {
     "name": "stdout",
     "output_type": "stream",
     "text": [
      "0.05261155192532089\n",
      "0.37163775510204083\n"
     ]
    }
   ],
   "source": [
    "print( mean_squared_error(y_train, forest1.predict(X_train_scaled)))\n",
    "print( mean_squared_error(y_valid, forest1.predict(X_valid_scaled)))"
   ]
  },
  {
   "cell_type": "markdown",
   "metadata": {
    "id": "EwKuVsOrM5NE"
   },
   "source": [
    "Середньоквадратична помилка на крос-валідації (cross_val_score з `scoring='neg_mean_squared_error'`) буде такою:"
   ]
  },
  {
   "cell_type": "code",
   "execution_count": 16,
   "metadata": {
    "id": "R6c-mvjgM5NE"
   },
   "outputs": [],
   "source": [
    "forest1_mse_cv = np.mean(np.abs(cross_val_score(forest1, X_train_scaled, y_train, scoring='neg_mean_squared_error')))"
   ]
  },
  {
   "cell_type": "markdown",
   "metadata": {
    "id": "8v7vci1aM5NE"
   },
   "source": [
    "Далі налаштуйте всі важливі параметри випадкового лісу за допомогою GridSearchCV()."
   ]
  },
  {
   "cell_type": "code",
   "execution_count": 17,
   "metadata": {
    "id": "076NWZMYM5NE"
   },
   "outputs": [],
   "source": [
    "rf_params = {'criterion': ['squared_error', 'absolute_error', 'poisson'],\n",
    "             'min_samples_leaf': [1, 3, 5, 7, 9]}"
   ]
  },
  {
   "cell_type": "code",
   "execution_count": null,
   "metadata": {
    "colab": {
     "base_uri": "https://localhost:8080/"
    },
    "id": "06L_MFQnM5NE",
    "outputId": "01ff1475-1131-4097-faf1-1c543f9eacb5"
   },
   "outputs": [],
   "source": [
    "# %%time\n",
    "\n",
    "forest2 = GridSearchCV(forest1, rf_params)\n",
    "forest2.fit(X_train_scaled,y_train)"
   ]
  },
  {
   "cell_type": "code",
   "execution_count": null,
   "metadata": {
    "colab": {
     "base_uri": "https://localhost:8080/"
    },
    "id": "aqwdifrsM5NE",
    "outputId": "1284fc86-8bdf-473b-8c11-9431ade52b98"
   },
   "outputs": [],
   "source": [
    "forest2.best_params_, forest2.best_score_"
   ]
  },
  {
   "cell_type": "markdown",
   "metadata": {
    "id": "WpZgRyUhM5NE"
   },
   "source": [
    "Насамкінець, оцініть важливість всіх ознак налаштованого випадкового лісу."
   ]
  },
  {
   "cell_type": "code",
   "execution_count": null,
   "metadata": {
    "id": "oowg-Ob3M5NF",
    "outputId": "4b3f0770-1738-4ed0-cb4a-c481cfc605c5"
   },
   "outputs": [],
   "source": [
    "rf_importance = pd.DataFrame(forest2.best_estimator_.feature_importances_,columns=[\"coef\"],index=data.columns[:-1],)\n",
    "rf_importance.sort_values(by=\"coef\", ascending=False)"
   ]
  },
  {
   "cell_type": "markdown",
   "metadata": {
    "id": "DdyKIywRM5NF"
   },
   "source": [
    "### <span style=\"color:red; font-size:1.5em;\">Завдання 4</span>\n",
    "\n",
    "**Для варіантів 11-15:**\n",
    "\n",
    "Яка ознака виявилася головною (з найбільшим значенням) для моделі випадкового лісу?"
   ]
  },
  {
   "cell_type": "code",
   "execution_count": null,
   "metadata": {
    "colab": {
     "base_uri": "https://localhost:8080/",
     "height": 187
    },
    "id": "Jo1DnRZBJquy",
    "outputId": "a9e5afc4-e7f6-4f83-b5a9-3e5ca35c0f24"
   },
   "outputs": [],
   "source": [
    "rf_importance = pd.DataFrame(forest2.best_estimator_.feature_importances_,columns=[\"importance\"],index=data.columns[:-1],)\n",
    "rf_importance.sort_values(by=\"importance\", ascending=False)"
   ]
  },
  {
   "cell_type": "code",
   "execution_count": null,
   "metadata": {
    "id": "tsVjFapFWvlW",
    "outputId": "4d3a984b-5a9d-437a-fcc4-bb4e8f5d407c"
   },
   "outputs": [],
   "source": [
    "\"Ознака alcohol є самою головною\""
   ]
  },
  {
   "cell_type": "markdown",
   "metadata": {
    "id": "p_93c6uwM5NF"
   },
   "source": [
    "<a class=\"anchor\" id=\"lab-6.5\"></a>"
   ]
  },
  {
   "cell_type": "markdown",
   "metadata": {
    "id": "zl-u4WxTM5NF"
   },
   "source": [
    "## <span style=\"color:blue; font-size:1.2em;\">6.5. Порівняння моделей</span>\n",
    "\n",
    "[Повернутися до змісту](#lab-6)"
   ]
  },
  {
   "cell_type": "markdown",
   "metadata": {
    "id": "qbNitkJRM5NF"
   },
   "source": [
    "### <span style=\"color:red; font-size:1.5em;\">Завдання 5</span>\n",
    "\n",
    "**Для всіх варіантів:**\n",
    "\n",
    "Зробіть висновки щодо якості побудованих моделей: лінійна регресія, LASSO-регресія та випадковий ліс. Охорайтеризуйте знайдені оцінки впливу ознак на якість вина."
   ]
  },
  {
   "cell_type": "markdown",
   "metadata": {
    "id": "Zd05b4yrM5NF"
   },
   "source": [
    "> Після навчання 3 моделей, можна зробити висновок, що залежність якості вина від інших показників є, ймовірно, нелінійною.   \n",
    "  Тому **Random Forest** краще працює в цьому завданні"
   ]
  }
 ],
 "metadata": {
  "anaconda-cloud": {},
  "colab": {
   "provenance": [
    {
     "file_id": "1i6CmWoF-WTeMJLteRTJzFeKXxQ8OMVEw",
     "timestamp": 1673260323713
    }
   ]
  },
  "kernelspec": {
   "display_name": "Python 3 (ipykernel)",
   "language": "python",
   "name": "python3"
  },
  "language_info": {
   "codemirror_mode": {
    "name": "ipython",
    "version": 3
   },
   "file_extension": ".py",
   "mimetype": "text/x-python",
   "name": "python",
   "nbconvert_exporter": "python",
   "pygments_lexer": "ipython3",
   "version": "3.9.12"
  },
  "name": "lesson8_part1_kmeans.ipynb"
 },
 "nbformat": 4,
 "nbformat_minor": 1
}
